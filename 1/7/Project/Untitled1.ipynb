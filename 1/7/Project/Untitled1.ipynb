{
 "cells": [
  {
   "cell_type": "code",
   "execution_count": 1,
   "id": "6e69100f-0c3d-4065-a4ac-54a9352d5a39",
   "metadata": {},
   "outputs": [],
   "source": [
    "import csv\n",
    "with open('texts.csv', 'r') as f:\n",
    "    reader = csv.reader(f)\n",
    "    texts = list(reader)\n",
    "\n",
    "with open('calls.csv', 'r') as f:\n",
    "    reader = csv.reader(f)\n",
    "    calls = list(reader)"
   ]
  },
  {
   "cell_type": "code",
   "execution_count": null,
   "id": "6f0211b6-d088-4190-ae55-9e1be9691405",
   "metadata": {},
   "outputs": [],
   "source": []
  },
  {
   "cell_type": "code",
   "execution_count": 28,
   "id": "b7c68f8f-01da-4c83-806b-63680817c37a",
   "metadata": {},
   "outputs": [],
   "source": [
    "import pandas as pd\n",
    "\n",
    "df = pd.read_csv('texts.csv', header=None)\n",
    "df.columns = ['s', 'r', 'time']"
   ]
  },
  {
   "cell_type": "code",
   "execution_count": 2,
   "id": "faf159dc-ff4f-4e0f-8faf-3f0203f818e7",
   "metadata": {},
   "outputs": [],
   "source": [
    "from IPython.core.display import display, HTML\n",
    "\n",
    "simple_table_rows = [['chocolate',2], ['vanilla', 1]]\n",
    "simple_table_labels = ['Flavor', 'Price']\n",
    "longer_table_rows = [[1990, 1, 1.5, 12, 7], [2000, 2, 2.5, 25, 10], [2010, 5, 4, 70, 36]]\n",
    "longer_table_labels = ['Year', 'Bread price', 'Eggs price', 'Average tank of gas', 'Rent per day']\n"
   ]
  },
  {
   "cell_type": "code",
   "execution_count": 253,
   "id": "4ca15c68-e1cc-41d0-bdba-631d0e26b259",
   "metadata": {},
   "outputs": [],
   "source": [
    "#class DataFrame\n",
    "class DataFrame:\n",
    "    \"\"\"DataFrame is an object similar to Pandas DataFrame object.\n",
    "    \"\"\"\n",
    "    def __init__(self, rows=[], columns=[]):\n",
    "        self.rows = rows\n",
    "        self.columns = columns\n",
    "        self.row_index = range(len(rows))\n",
    "        self.col_index = range(len(columns))\n",
    "        self.shape = (len(rows), len(columns))\n",
    "\n",
    "    def __repr__(self):\n",
    "        return self[:, :]\n",
    "\n",
    "    def __len__(self):\n",
    "        return self.index\n",
    "    \n",
    "    def _data_frame(self, row_ind: slice, col_ind: slice):\n",
    "        new_rows = [self.columns[col_ind]]\n",
    "        for row in self.rows[row_ind]:\n",
    "            new_rows.append(row[col_ind])\n",
    "        return new_rows\n",
    "\n",
    "    def _render_html(self, data_frame):\n",
    "        \"\"\"Render HTML.\n",
    "        \"\"\"\n",
    "        columns = data_frame[0] # Define column names\n",
    "        data_frame.remove(data_frame[0]) # Remove column names\n",
    "        \n",
    "        # Initialize table rendering\n",
    "        table = \"<table>\"\n",
    "        # Initialize header rendering\n",
    "        table += \"<tr>\"\n",
    "        # Add index header\n",
    "        table += \"<th></th>\"\n",
    "        for column in columns:\n",
    "            table += f\"<th>{column}</th>\"\n",
    "        # Finish header rendering\n",
    "        table += \"</tr>\"\n",
    "        # Initialize rows rendering\n",
    "        for i in range(len(data_frame)):\n",
    "            table += \"<tr>\"\n",
    "            # Add index\n",
    "            table += f\"<td>{i}</td>\"\n",
    "            for cell in data_frame[i]:\n",
    "                # Add cell\n",
    "                table += f\"<td>{cell}</td>\"\n",
    "            table += \"</tr>\"\n",
    "        # Finish table rendering\n",
    "        table += \"</table>\"\n",
    "        \n",
    "        return table\n",
    "    \n",
    "    def _display_html(self, table):\n",
    "        display(HTML(table))\n",
    "\n",
    "    def __getitem__(self, *args: slice):    \n",
    "        try:\n",
    "            row_ind = args[0][0]\n",
    "            col_ind = args[0][1]\n",
    "            data_frame = self._data_frame(row_ind, col_ind)\n",
    "            table = self._render_html(data_frame)\n",
    "        except:\n",
    "            row_ind = args[0]\n",
    "            data_frame = self._data_frame(row_ind, slice(len(self.columns))) # bug\n",
    "            table = self._render_html(data_frame)\n",
    "        \n",
    "        return self._display_html(table)\n",
    "\n",
    "    '''\n",
    "    @property\n",
    "    def iloc(self, row_ind, col_ind=None):\n",
    "        table = _render_html(self.rows[row_ind], self.columns[col_ind])\n",
    "        return _display_html(table)\n",
    "    '''\n",
    "    \n",
    "    def loc(self, labels: list):\n",
    "        #for label in labels:\n",
    "        data_frame = self._data_frame(row_ind, col_ind)\n",
    "            \n",
    "    \n",
    "    def unique(self):\n",
    "        pass\n",
    "    \n",
    "    def nunique(self):\n",
    "        pass\n",
    "\n",
    "    def astype(self):\n",
    "        pass"
   ]
  },
  {
   "cell_type": "code",
   "execution_count": 389,
   "id": "d77c22da-f0bb-42be-a9b0-1d034a4c17ff",
   "metadata": {},
   "outputs": [],
   "source": [
    "#class DataFrame\n",
    "class DataFrame:\n",
    "    \"\"\"DataFrame is an object similar to Pandas DataFrame object.\n",
    "    \"\"\"\n",
    "    def __init__(self, rows=[], columns=[]):\n",
    "        self.rows = rows\n",
    "        self.columns = columns\n",
    "        self.row_index = range(len(rows))\n",
    "        self.col_index = range(len(columns))\n",
    "        self.shape = (len(rows), len(columns))\n",
    "        \n",
    "        self._construct_columns(rows, columns)\n",
    "\n",
    "    def __repr__(self):\n",
    "        return self[:, :]\n",
    "\n",
    "    def __len__(self):\n",
    "        return self.index\n",
    "    '''\n",
    "    def _construct_columns(self, rows, columns):\n",
    "        data = list(zip(*rows))\n",
    "        data_dict = {}\n",
    "        for i in range(len(columns)):\n",
    "            _construct_column = f'self.{columns[i]} = data[i]'\n",
    "            exec(_construct_column)\n",
    "            exec(f'data_dict[{columns[i]}] = self.{columns[i]}') # data_dict['s'] = self.s\n",
    "    '''\n",
    "    def _construct_columns(self, rows, columns):\n",
    "        data = list(zip(*rows))\n",
    "        for i in range(len(columns)):\n",
    "            _construct_column = f'self.{columns[i]} = data[i]'\n",
    "            exec(_construct_column)\n",
    "            \n",
    "    def _construct_dataframe(self):\n",
    "        pass\n",
    "    \n",
    "    '''\n",
    "    def _data_frame(self, row_ind: slice, col_ind: slice):\n",
    "        new_rows = [self.columns[col_ind]]\n",
    "        for row in self.rows[row_ind]:\n",
    "            new_rows.append(row[col_ind])\n",
    "        return new_rows\n",
    "    '''\n",
    "\n",
    "    def _render_html(self, data_frame):\n",
    "        \"\"\"Render HTML.\n",
    "        \"\"\"\n",
    "        columns = data_frame[0] # Define column names\n",
    "        data_frame.remove(data_frame[0]) # Remove column names\n",
    "        \n",
    "        # Initialize table rendering\n",
    "        table = \"<table>\"\n",
    "        # Initialize header rendering\n",
    "        table += \"<tr>\"\n",
    "        # Add index header\n",
    "        table += \"<th></th>\"\n",
    "        for column in columns:\n",
    "            table += f\"<th>{column}</th>\"\n",
    "        # Finish header rendering\n",
    "        table += \"</tr>\"\n",
    "        # Initialize rows rendering\n",
    "        for i in range(len(data_frame)):\n",
    "            table += \"<tr>\"\n",
    "            # Add index\n",
    "            table += f\"<td>{i}</td>\"\n",
    "            for cell in data_frame[i]:\n",
    "                # Add cell\n",
    "                table += f\"<td>{cell}</td>\"\n",
    "            table += \"</tr>\"\n",
    "        # Finish table rendering\n",
    "        table += \"</table>\"\n",
    "        \n",
    "        return table\n",
    "    \n",
    "    def _display_html(self, table):\n",
    "        display(HTML(table))\n",
    "\n",
    "    def __getitem__(self, idx: slice):\n",
    "        if isinstance(idx, slice):\n",
    "            row_idx = idx\n",
    "            columns = self.columns\n",
    "        else:\n",
    "            row_idx = idx[0]\n",
    "            col_idx = idx[1]\n",
    "            columns = self.columns[col_idx]\n",
    "            \n",
    "        return columns\n",
    "        \n",
    "        \"\"\"\n",
    "        try:\n",
    "            #data_frame = self._data_frame(row_ind, col_ind)\n",
    "            #table = self._render_html(data_frame)\n",
    "            self._construct_columns(self.rows[row_ind], columns)\n",
    "        except:\n",
    "            data_frame = self._data_frame(row_ind, slice(len(self.columns))) # bug\n",
    "            table = self._render_html(data_frame)\n",
    "        \n",
    "        return self._display_html(table)\n",
    "        \"\"\"\n",
    "\n",
    "    '''\n",
    "    @property\n",
    "    def iloc(self, row_ind, col_ind=None):\n",
    "        table = _render_html(self.rows[row_ind], self.columns[col_ind])\n",
    "        return _display_html(table)\n",
    "    '''\n",
    "    \n",
    "    def loc(self, labels: list):\n",
    "        #for label in labels:\n",
    "        data_frame = self._data_frame(row_ind, col_ind)\n",
    "            \n",
    "    \n",
    "    def unique(self):\n",
    "        pass\n",
    "    \n",
    "    def nunique(self):\n",
    "        pass\n",
    "\n",
    "    def astype(self):\n",
    "        pass"
   ]
  },
  {
   "cell_type": "code",
   "execution_count": 390,
   "id": "63908bbb-d5d0-45fe-a8b6-1f991a90e43c",
   "metadata": {},
   "outputs": [],
   "source": [
    "DF = DataFrame(rows=texts, columns=['s', 'r', 'time'])"
   ]
  },
  {
   "cell_type": "code",
   "execution_count": 397,
   "id": "7ca9b7b1-e91b-4099-b23b-470b7c11fc27",
   "metadata": {},
   "outputs": [
    {
     "ename": "AttributeError",
     "evalue": "'tuple' object has no attribute 'unique'",
     "output_type": "error",
     "traceback": [
      "\u001b[0;31m---------------------------------------------------------------------------\u001b[0m",
      "\u001b[0;31mAttributeError\u001b[0m                            Traceback (most recent call last)",
      "\u001b[0;32m/var/folders/bn/xnw38wz5697c2m0cykr9528m0000gn/T/ipykernel_82491/2221914527.py\u001b[0m in \u001b[0;36m<module>\u001b[0;34m\u001b[0m\n\u001b[0;32m----> 1\u001b[0;31m \u001b[0mDF\u001b[0m\u001b[0;34m.\u001b[0m\u001b[0ms\u001b[0m\u001b[0;34m.\u001b[0m\u001b[0munique\u001b[0m\u001b[0;34m(\u001b[0m\u001b[0;34m)\u001b[0m\u001b[0;34m\u001b[0m\u001b[0;34m\u001b[0m\u001b[0m\n\u001b[0m",
      "\u001b[0;31mAttributeError\u001b[0m: 'tuple' object has no attribute 'unique'"
     ]
    }
   ],
   "source": [
    "DF.s"
   ]
  },
  {
   "cell_type": "code",
   "execution_count": 382,
   "id": "ef2e06ef-e889-40a6-afcd-ca9d6959970b",
   "metadata": {},
   "outputs": [
    {
     "data": {
      "text/plain": [
       "['s', 'r']"
      ]
     },
     "execution_count": 382,
     "metadata": {},
     "output_type": "execute_result"
    }
   ],
   "source": [
    "columns[slice(0, 2)]"
   ]
  },
  {
   "cell_type": "code",
   "execution_count": 359,
   "id": "197ac9db-4fd0-4b27-91fd-d47c12ce0f32",
   "metadata": {},
   "outputs": [
    {
     "data": {
      "text/plain": [
       "True"
      ]
     },
     "execution_count": 359,
     "metadata": {},
     "output_type": "execute_result"
    }
   ],
   "source": [
    "isinstance(slice(0, 5, None), slice)"
   ]
  },
  {
   "cell_type": "code",
   "execution_count": 361,
   "id": "c1c10097-734f-4970-9e91-584eb32ecb1a",
   "metadata": {},
   "outputs": [
    {
     "data": {
      "text/plain": [
       "True"
      ]
     },
     "execution_count": 361,
     "metadata": {},
     "output_type": "execute_result"
    }
   ],
   "source": [
    "isinstance((slice(0, 5, None), slice(0, 5, None)), tuple)"
   ]
  },
  {
   "cell_type": "code",
   "execution_count": 387,
   "id": "d948b99e-6e63-4c70-90fd-685cb931758d",
   "metadata": {},
   "outputs": [
    {
     "ename": "TypeError",
     "evalue": "'(slice(None, None, None), ['s'])' is an invalid key",
     "output_type": "error",
     "traceback": [
      "\u001b[0;31m---------------------------------------------------------------------------\u001b[0m",
      "\u001b[0;31mTypeError\u001b[0m                                 Traceback (most recent call last)",
      "\u001b[0;32m/var/folders/bn/xnw38wz5697c2m0cykr9528m0000gn/T/ipykernel_82491/3428422952.py\u001b[0m in \u001b[0;36m<module>\u001b[0;34m\u001b[0m\n\u001b[0;32m----> 1\u001b[0;31m \u001b[0mdf\u001b[0m\u001b[0;34m[\u001b[0m\u001b[0;34m:\u001b[0m\u001b[0;34m,\u001b[0m \u001b[0;34m[\u001b[0m\u001b[0;34m's'\u001b[0m\u001b[0;34m]\u001b[0m\u001b[0;34m]\u001b[0m\u001b[0;34m\u001b[0m\u001b[0;34m\u001b[0m\u001b[0m\n\u001b[0m",
      "\u001b[0;32m/usr/local/lib/python3.9/site-packages/pandas/core/frame.py\u001b[0m in \u001b[0;36m__getitem__\u001b[0;34m(self, key)\u001b[0m\n\u001b[1;32m   3456\u001b[0m             \u001b[0;32mif\u001b[0m \u001b[0mself\u001b[0m\u001b[0;34m.\u001b[0m\u001b[0mcolumns\u001b[0m\u001b[0;34m.\u001b[0m\u001b[0mnlevels\u001b[0m \u001b[0;34m>\u001b[0m \u001b[0;36m1\u001b[0m\u001b[0;34m:\u001b[0m\u001b[0;34m\u001b[0m\u001b[0;34m\u001b[0m\u001b[0m\n\u001b[1;32m   3457\u001b[0m                 \u001b[0;32mreturn\u001b[0m \u001b[0mself\u001b[0m\u001b[0;34m.\u001b[0m\u001b[0m_getitem_multilevel\u001b[0m\u001b[0;34m(\u001b[0m\u001b[0mkey\u001b[0m\u001b[0;34m)\u001b[0m\u001b[0;34m\u001b[0m\u001b[0;34m\u001b[0m\u001b[0m\n\u001b[0;32m-> 3458\u001b[0;31m             \u001b[0mindexer\u001b[0m \u001b[0;34m=\u001b[0m \u001b[0mself\u001b[0m\u001b[0;34m.\u001b[0m\u001b[0mcolumns\u001b[0m\u001b[0;34m.\u001b[0m\u001b[0mget_loc\u001b[0m\u001b[0;34m(\u001b[0m\u001b[0mkey\u001b[0m\u001b[0;34m)\u001b[0m\u001b[0;34m\u001b[0m\u001b[0;34m\u001b[0m\u001b[0m\n\u001b[0m\u001b[1;32m   3459\u001b[0m             \u001b[0;32mif\u001b[0m \u001b[0mis_integer\u001b[0m\u001b[0;34m(\u001b[0m\u001b[0mindexer\u001b[0m\u001b[0;34m)\u001b[0m\u001b[0;34m:\u001b[0m\u001b[0;34m\u001b[0m\u001b[0;34m\u001b[0m\u001b[0m\n\u001b[1;32m   3460\u001b[0m                 \u001b[0mindexer\u001b[0m \u001b[0;34m=\u001b[0m \u001b[0;34m[\u001b[0m\u001b[0mindexer\u001b[0m\u001b[0;34m]\u001b[0m\u001b[0;34m\u001b[0m\u001b[0;34m\u001b[0m\u001b[0m\n",
      "\u001b[0;32m/usr/local/lib/python3.9/site-packages/pandas/core/indexes/base.py\u001b[0m in \u001b[0;36mget_loc\u001b[0;34m(self, key, method, tolerance)\u001b[0m\n\u001b[1;32m   3359\u001b[0m             \u001b[0mcasted_key\u001b[0m \u001b[0;34m=\u001b[0m \u001b[0mself\u001b[0m\u001b[0;34m.\u001b[0m\u001b[0m_maybe_cast_indexer\u001b[0m\u001b[0;34m(\u001b[0m\u001b[0mkey\u001b[0m\u001b[0;34m)\u001b[0m\u001b[0;34m\u001b[0m\u001b[0;34m\u001b[0m\u001b[0m\n\u001b[1;32m   3360\u001b[0m             \u001b[0;32mtry\u001b[0m\u001b[0;34m:\u001b[0m\u001b[0;34m\u001b[0m\u001b[0;34m\u001b[0m\u001b[0m\n\u001b[0;32m-> 3361\u001b[0;31m                 \u001b[0;32mreturn\u001b[0m \u001b[0mself\u001b[0m\u001b[0;34m.\u001b[0m\u001b[0m_engine\u001b[0m\u001b[0;34m.\u001b[0m\u001b[0mget_loc\u001b[0m\u001b[0;34m(\u001b[0m\u001b[0mcasted_key\u001b[0m\u001b[0;34m)\u001b[0m\u001b[0;34m\u001b[0m\u001b[0;34m\u001b[0m\u001b[0m\n\u001b[0m\u001b[1;32m   3362\u001b[0m             \u001b[0;32mexcept\u001b[0m \u001b[0mKeyError\u001b[0m \u001b[0;32mas\u001b[0m \u001b[0merr\u001b[0m\u001b[0;34m:\u001b[0m\u001b[0;34m\u001b[0m\u001b[0;34m\u001b[0m\u001b[0m\n\u001b[1;32m   3363\u001b[0m                 \u001b[0;32mraise\u001b[0m \u001b[0mKeyError\u001b[0m\u001b[0;34m(\u001b[0m\u001b[0mkey\u001b[0m\u001b[0;34m)\u001b[0m \u001b[0;32mfrom\u001b[0m \u001b[0merr\u001b[0m\u001b[0;34m\u001b[0m\u001b[0;34m\u001b[0m\u001b[0m\n",
      "\u001b[0;32m/usr/local/lib/python3.9/site-packages/pandas/_libs/index.pyx\u001b[0m in \u001b[0;36mpandas._libs.index.IndexEngine.get_loc\u001b[0;34m()\u001b[0m\n",
      "\u001b[0;32m/usr/local/lib/python3.9/site-packages/pandas/_libs/index.pyx\u001b[0m in \u001b[0;36mpandas._libs.index.IndexEngine.get_loc\u001b[0;34m()\u001b[0m\n",
      "\u001b[0;31mTypeError\u001b[0m: '(slice(None, None, None), ['s'])' is an invalid key"
     ]
    }
   ],
   "source": [
    "df[:, ['s']]"
   ]
  },
  {
   "cell_type": "code",
   "execution_count": 290,
   "id": "a4b60424-f77c-4550-852c-f8a88527e004",
   "metadata": {},
   "outputs": [],
   "source": [
    "columns = ['s', 'r', 'time']"
   ]
  },
  {
   "cell_type": "code",
   "execution_count": 291,
   "id": "e9a9fd59-dc7e-4bb9-9052-b513aeb00668",
   "metadata": {},
   "outputs": [],
   "source": [
    "exec(f'{columns[0]} = [1, 2, 3]')"
   ]
  },
  {
   "cell_type": "code",
   "execution_count": 292,
   "id": "ca62f5bf-5b19-4f4d-acf7-070af9579d8d",
   "metadata": {},
   "outputs": [
    {
     "data": {
      "text/plain": [
       "[1, 2, 3]"
      ]
     },
     "execution_count": 292,
     "metadata": {},
     "output_type": "execute_result"
    }
   ],
   "source": [
    "s"
   ]
  },
  {
   "cell_type": "code",
   "execution_count": 118,
   "id": "90586ace-e2c6-4554-b3c6-90d08d0a05e9",
   "metadata": {},
   "outputs": [
    {
     "data": {
      "text/plain": [
       "['97424 22395', '90365 06212']"
      ]
     },
     "execution_count": 118,
     "metadata": {},
     "output_type": "execute_result"
    }
   ],
   "source": [
    "DF.rows[0][0:2]"
   ]
  },
  {
   "cell_type": "code",
   "execution_count": 121,
   "id": "84e81816-2755-4ef6-b098-2d00dca7a874",
   "metadata": {},
   "outputs": [
    {
     "data": {
      "text/html": [
       "<table><tr><th></th><th>s</th><th>r</th><th>time</th></tr><tr><td>0</td><td>97424 22395</td><td>90365 06212</td><td>01-09-2016 06:03:22</td></tr><tr><td>1</td><td>94489 72078</td><td>92415 91418</td><td>01-09-2016 06:05:35</td></tr><tr><td>2</td><td>81520 43406</td><td>92421 64236</td><td>01-09-2016 06:09:34</td></tr><tr><td>3</td><td>97389 12538</td><td>90352 50054</td><td>01-09-2016 06:09:39</td></tr><tr><td>4</td><td>81515 42171</td><td>98440 02823</td><td>01-09-2016 06:13:30</td></tr></table>"
      ],
      "text/plain": [
       "<IPython.core.display.HTML object>"
      ]
     },
     "metadata": {},
     "output_type": "display_data"
    },
    {
     "data": {
      "text/plain": [
       "NoneType"
      ]
     },
     "execution_count": 121,
     "metadata": {},
     "output_type": "execute_result"
    }
   ],
   "source": [
    "DF[:5]"
   ]
  },
  {
   "cell_type": "code",
   "execution_count": 396,
   "id": "cde7b687-df0d-4eea-a066-e535bd642ad0",
   "metadata": {},
   "outputs": [
    {
     "data": {
      "text/plain": [
       "pandas.core.series.Series"
      ]
     },
     "execution_count": 396,
     "metadata": {},
     "output_type": "execute_result"
    }
   ],
   "source": [
    "type(df.s)"
   ]
  },
  {
   "cell_type": "code",
   "execution_count": 267,
   "id": "0637b689-d896-4316-902e-95e80937bfec",
   "metadata": {},
   "outputs": [],
   "source": [
    "l1 = [1, 2, 3]\n",
    "l2 = [4, 5, 6]\n",
    "l3 = [7, 8, 9]\n",
    "l = [l1, l2, l3]"
   ]
  },
  {
   "cell_type": "code",
   "execution_count": 268,
   "id": "03433a9f-2ac9-4735-b1dc-3b925eb250db",
   "metadata": {},
   "outputs": [
    {
     "data": {
      "text/plain": [
       "[(1, 4, 7), (2, 5, 8), (3, 6, 9)]"
      ]
     },
     "execution_count": 268,
     "metadata": {},
     "output_type": "execute_result"
    }
   ],
   "source": [
    "list(zip(l1, l2, l3))"
   ]
  },
  {
   "cell_type": "code",
   "execution_count": 270,
   "id": "2c4e936d-dc3d-44f7-ac7e-f8463dd998eb",
   "metadata": {},
   "outputs": [
    {
     "data": {
      "text/plain": [
       "(1, 4, 7)"
      ]
     },
     "execution_count": 270,
     "metadata": {},
     "output_type": "execute_result"
    }
   ],
   "source": [
    "list(zip(*l))"
   ]
  },
  {
   "cell_type": "code",
   "execution_count": 272,
   "id": "759823af-8f32-4a02-961b-573c6f1b9bda",
   "metadata": {},
   "outputs": [
    {
     "ename": "SyntaxError",
     "evalue": "can't use starred expression here (492293102.py, line 1)",
     "output_type": "error",
     "traceback": [
      "\u001b[0;36m  File \u001b[0;32m\"/var/folders/bn/xnw38wz5697c2m0cykr9528m0000gn/T/ipykernel_82491/492293102.py\"\u001b[0;36m, line \u001b[0;32m1\u001b[0m\n\u001b[0;31m    *l\u001b[0m\n\u001b[0m    ^\u001b[0m\n\u001b[0;31mSyntaxError\u001b[0m\u001b[0;31m:\u001b[0m can't use starred expression here\n"
     ]
    }
   ],
   "source": []
  },
  {
   "cell_type": "code",
   "execution_count": 44,
   "id": "db649acb-05a3-4287-b2b5-a185bbdde947",
   "metadata": {},
   "outputs": [
    {
     "data": {
      "text/plain": [
       "type"
      ]
     },
     "execution_count": 44,
     "metadata": {},
     "output_type": "execute_result"
    }
   ],
   "source": [
    "type(slice)"
   ]
  },
  {
   "cell_type": "code",
   "execution_count": null,
   "id": "952827ec-86d6-4939-928e-7b7de2b08162",
   "metadata": {},
   "outputs": [],
   "source": []
  },
  {
   "cell_type": "code",
   "execution_count": 242,
   "id": "4024d916-71f0-462f-ba86-8612e2250f19",
   "metadata": {},
   "outputs": [
    {
     "data": {
      "text/plain": [
       "<__main__.DataFrame at 0x1174529a0>"
      ]
     },
     "execution_count": 242,
     "metadata": {},
     "output_type": "execute_result"
    }
   ],
   "source": [
    "df = DataFrame(longer_table_rows, longer_table_labels)\n",
    "df"
   ]
  },
  {
   "cell_type": "code",
   "execution_count": 243,
   "id": "b5c13c9d-95cf-41bb-aad1-259443945705",
   "metadata": {},
   "outputs": [
    {
     "data": {
      "text/html": [
       "<table><tr><th></th><th>Year</th><th>Bread price</th><th>Eggs price</th><th>Average tank of gas</th><th>Rent per day</th></tr><tr><td>0</td><td>1990</td><td>1</td><td>1.5</td><td>12</td><td>7</td></tr></table>"
      ],
      "text/plain": [
       "<IPython.core.display.HTML object>"
      ]
     },
     "metadata": {},
     "output_type": "display_data"
    }
   ],
   "source": [
    "df[0:1]"
   ]
  },
  {
   "cell_type": "code",
   "execution_count": 244,
   "id": "9c5835ad-6cc2-42cc-b5a1-9cf745a8b1a2",
   "metadata": {},
   "outputs": [
    {
     "data": {
      "text/html": [
       "<table><tr><th></th><th>Year</th><th>Bread price</th></tr><tr><td>0</td><td>1990</td><td>1</td><td>1.5</td><td>12</td><td>7</td></tr><tr><td>1</td><td>2000</td><td>2</td><td>2.5</td><td>25</td><td>10</td></tr></table>"
      ],
      "text/plain": [
       "<IPython.core.display.HTML object>"
      ]
     },
     "metadata": {},
     "output_type": "display_data"
    }
   ],
   "source": [
    "df[0:2, 0:2]"
   ]
  },
  {
   "cell_type": "code",
   "execution_count": 246,
   "id": "2ee908bb-d45e-4478-9e7c-47a0ab49fc01",
   "metadata": {},
   "outputs": [
    {
     "data": {
      "text/html": [
       "<table><tr><th></th><th>Year</th><th>Bread price</th></tr><tr><td>0</td><td>1990</td><td>1</td><td>1.5</td><td>12</td><td>7</td></tr></table>"
      ],
      "text/plain": [
       "<IPython.core.display.HTML object>"
      ]
     },
     "metadata": {},
     "output_type": "display_data"
    }
   ],
   "source": [
    "df[0:1, 0:2]"
   ]
  },
  {
   "cell_type": "code",
   "execution_count": 85,
   "id": "a80823ef-3016-4579-b7ff-48274b897b22",
   "metadata": {},
   "outputs": [
    {
     "data": {
      "text/plain": [
       "'<table><tr><th></th><th>0</th><th>0</th></tr><tr><td>0</td><td>1</td><td>1</td></tr><tr><td>1</td><td>0</td><td>0</td></tr></table>'"
      ]
     },
     "execution_count": 85,
     "metadata": {},
     "output_type": "execute_result"
    }
   ],
   "source": [
    "df._render_html([[1, 1], [0, 0]], [0, 0])"
   ]
  },
  {
   "cell_type": "code",
   "execution_count": 109,
   "id": "e1bb7612-d55e-4236-9672-a4ea4ba3f0b6",
   "metadata": {},
   "outputs": [
    {
     "data": {
      "text/plain": [
       "slice(None, slice(None, 1, None), None)"
      ]
     },
     "execution_count": 109,
     "metadata": {},
     "output_type": "execute_result"
    }
   ],
   "source": [
    "slice(slice(1))"
   ]
  },
  {
   "cell_type": "code",
   "execution_count": 87,
   "id": "4300c967-c28f-47ba-aac2-b0a9f1128800",
   "metadata": {},
   "outputs": [
    {
     "ename": "TypeError",
     "evalue": "_display_html() missing 1 required positional argument: 'table'",
     "output_type": "error",
     "traceback": [
      "\u001b[0;31m--------------------------------------------------------------------------\u001b[0m",
      "\u001b[0;31mTypeError\u001b[0m                                Traceback (most recent call last)",
      "\u001b[0;32m<ipython-input-87-7c7f0827d8ae>\u001b[0m in \u001b[0;36m<module>\u001b[0;34m\u001b[0m\n\u001b[0;32m----> 1\u001b[0;31m \u001b[0mdf\u001b[0m\u001b[0;34m.\u001b[0m\u001b[0m_display_html\u001b[0m\u001b[0;34m(\u001b[0m\u001b[0;34m)\u001b[0m\u001b[0;34m\u001b[0m\u001b[0;34m\u001b[0m\u001b[0m\n\u001b[0m",
      "\u001b[0;31mTypeError\u001b[0m: _display_html() missing 1 required positional argument: 'table'"
     ]
    }
   ],
   "source": [
    "df._display_html()"
   ]
  },
  {
   "cell_type": "code",
   "execution_count": 4,
   "id": "ac1464bb-877f-4f69-8364-d5ba078f988f",
   "metadata": {},
   "outputs": [
    {
     "data": {
      "text/html": [
       "<table><tr><th>Flavor</th><th>Price</th></tr><tr><td>chocolate</td><td>2</td></tr><tr><td>vanilla</td><td>1</td></tr></table>"
      ],
      "text/plain": [
       "<IPython.core.display.HTML object>"
      ]
     },
     "metadata": {},
     "output_type": "display_data"
    },
    {
     "name": "stdout",
     "output_type": "stream",
     "text": [
      "None\n"
     ]
    },
    {
     "ename": "TypeError",
     "evalue": "__repr__ returned non-string (type NoneType)",
     "output_type": "error",
     "traceback": [
      "\u001b[0;31m--------------------------------------------------------------------------\u001b[0m",
      "\u001b[0;31mTypeError\u001b[0m                                Traceback (most recent call last)",
      "\u001b[0;32m~/Library/Python/3.9/lib/python/site-packages/IPython/core/formatters.py\u001b[0m in \u001b[0;36m__call__\u001b[0;34m(self, obj)\u001b[0m\n\u001b[1;32m    700\u001b[0m                 \u001b[0mtype_pprinters\u001b[0m\u001b[0;34m=\u001b[0m\u001b[0mself\u001b[0m\u001b[0;34m.\u001b[0m\u001b[0mtype_printers\u001b[0m\u001b[0;34m,\u001b[0m\u001b[0;34m\u001b[0m\u001b[0;34m\u001b[0m\u001b[0m\n\u001b[1;32m    701\u001b[0m                 deferred_pprinters=self.deferred_printers)\n\u001b[0;32m--> 702\u001b[0;31m             \u001b[0mprinter\u001b[0m\u001b[0;34m.\u001b[0m\u001b[0mpretty\u001b[0m\u001b[0;34m(\u001b[0m\u001b[0mobj\u001b[0m\u001b[0;34m)\u001b[0m\u001b[0;34m\u001b[0m\u001b[0;34m\u001b[0m\u001b[0m\n\u001b[0m\u001b[1;32m    703\u001b[0m             \u001b[0mprinter\u001b[0m\u001b[0;34m.\u001b[0m\u001b[0mflush\u001b[0m\u001b[0;34m(\u001b[0m\u001b[0;34m)\u001b[0m\u001b[0;34m\u001b[0m\u001b[0;34m\u001b[0m\u001b[0m\n\u001b[1;32m    704\u001b[0m             \u001b[0;32mreturn\u001b[0m \u001b[0mstream\u001b[0m\u001b[0;34m.\u001b[0m\u001b[0mgetvalue\u001b[0m\u001b[0;34m(\u001b[0m\u001b[0;34m)\u001b[0m\u001b[0;34m\u001b[0m\u001b[0;34m\u001b[0m\u001b[0m\n",
      "\u001b[0;32m~/Library/Python/3.9/lib/python/site-packages/IPython/lib/pretty.py\u001b[0m in \u001b[0;36mpretty\u001b[0;34m(self, obj)\u001b[0m\n\u001b[1;32m    392\u001b[0m                         \u001b[0;32mif\u001b[0m \u001b[0mcls\u001b[0m \u001b[0;32mis\u001b[0m \u001b[0;32mnot\u001b[0m \u001b[0mobject\u001b[0m\u001b[0;31m \u001b[0m\u001b[0;31m\\\u001b[0m\u001b[0;34m\u001b[0m\u001b[0;34m\u001b[0m\u001b[0m\n\u001b[1;32m    393\u001b[0m                                 \u001b[0;32mand\u001b[0m \u001b[0mcallable\u001b[0m\u001b[0;34m(\u001b[0m\u001b[0mcls\u001b[0m\u001b[0;34m.\u001b[0m\u001b[0m__dict__\u001b[0m\u001b[0;34m.\u001b[0m\u001b[0mget\u001b[0m\u001b[0;34m(\u001b[0m\u001b[0;34m'__repr__'\u001b[0m\u001b[0;34m)\u001b[0m\u001b[0;34m)\u001b[0m\u001b[0;34m:\u001b[0m\u001b[0;34m\u001b[0m\u001b[0;34m\u001b[0m\u001b[0m\n\u001b[0;32m--> 394\u001b[0;31m                             \u001b[0;32mreturn\u001b[0m \u001b[0m_repr_pprint\u001b[0m\u001b[0;34m(\u001b[0m\u001b[0mobj\u001b[0m\u001b[0;34m,\u001b[0m \u001b[0mself\u001b[0m\u001b[0;34m,\u001b[0m \u001b[0mcycle\u001b[0m\u001b[0;34m)\u001b[0m\u001b[0;34m\u001b[0m\u001b[0;34m\u001b[0m\u001b[0m\n\u001b[0m\u001b[1;32m    395\u001b[0m \u001b[0;34m\u001b[0m\u001b[0m\n\u001b[1;32m    396\u001b[0m             \u001b[0;32mreturn\u001b[0m \u001b[0m_default_pprint\u001b[0m\u001b[0;34m(\u001b[0m\u001b[0mobj\u001b[0m\u001b[0;34m,\u001b[0m \u001b[0mself\u001b[0m\u001b[0;34m,\u001b[0m \u001b[0mcycle\u001b[0m\u001b[0;34m)\u001b[0m\u001b[0;34m\u001b[0m\u001b[0;34m\u001b[0m\u001b[0m\n",
      "\u001b[0;32m~/Library/Python/3.9/lib/python/site-packages/IPython/lib/pretty.py\u001b[0m in \u001b[0;36m_repr_pprint\u001b[0;34m(obj, p, cycle)\u001b[0m\n\u001b[1;32m    698\u001b[0m     \u001b[0;34m\"\"\"A pprint that just redirects to the normal repr function.\"\"\"\u001b[0m\u001b[0;34m\u001b[0m\u001b[0;34m\u001b[0m\u001b[0m\n\u001b[1;32m    699\u001b[0m     \u001b[0;31m# Find newlines and replace them with p.break_()\u001b[0m\u001b[0;34m\u001b[0m\u001b[0;34m\u001b[0m\u001b[0;34m\u001b[0m\u001b[0m\n\u001b[0;32m--> 700\u001b[0;31m     \u001b[0moutput\u001b[0m \u001b[0;34m=\u001b[0m \u001b[0mrepr\u001b[0m\u001b[0;34m(\u001b[0m\u001b[0mobj\u001b[0m\u001b[0;34m)\u001b[0m\u001b[0;34m\u001b[0m\u001b[0;34m\u001b[0m\u001b[0m\n\u001b[0m\u001b[1;32m    701\u001b[0m     \u001b[0mlines\u001b[0m \u001b[0;34m=\u001b[0m \u001b[0moutput\u001b[0m\u001b[0;34m.\u001b[0m\u001b[0msplitlines\u001b[0m\u001b[0;34m(\u001b[0m\u001b[0;34m)\u001b[0m\u001b[0;34m\u001b[0m\u001b[0;34m\u001b[0m\u001b[0m\n\u001b[1;32m    702\u001b[0m     \u001b[0;32mwith\u001b[0m \u001b[0mp\u001b[0m\u001b[0;34m.\u001b[0m\u001b[0mgroup\u001b[0m\u001b[0;34m(\u001b[0m\u001b[0;34m)\u001b[0m\u001b[0;34m:\u001b[0m\u001b[0;34m\u001b[0m\u001b[0;34m\u001b[0m\u001b[0m\n",
      "\u001b[0;31mTypeError\u001b[0m: __repr__ returned non-string (type NoneType)"
     ]
    }
   ],
   "source": [
    "df = DataFrame(simple_table_rows, simple_table_labels)\n",
    "df"
   ]
  },
  {
   "cell_type": "code",
   "execution_count": 214,
   "id": "c77508a4-cff1-405a-af87-c7feab3cde2c",
   "metadata": {},
   "outputs": [
    {
     "ename": "NameError",
     "evalue": "name 'a' is not defined",
     "output_type": "error",
     "traceback": [
      "\u001b[0;31m--------------------------------------------------------------------------\u001b[0m",
      "\u001b[0;31mNameError\u001b[0m                                Traceback (most recent call last)",
      "\u001b[0;32m<ipython-input-214-ad32e43c764e>\u001b[0m in \u001b[0;36m<module>\u001b[0;34m\u001b[0m\n\u001b[0;32m----> 1\u001b[0;31m \u001b[0;32mif\u001b[0m \u001b[0ma\u001b[0m\u001b[0;34m:\u001b[0m\u001b[0;34m\u001b[0m\u001b[0;34m\u001b[0m\u001b[0m\n\u001b[0m\u001b[1;32m      2\u001b[0m     \u001b[0mprint\u001b[0m\u001b[0;34m(\u001b[0m\u001b[0;34m'e'\u001b[0m\u001b[0;34m)\u001b[0m\u001b[0;34m\u001b[0m\u001b[0;34m\u001b[0m\u001b[0m\n",
      "\u001b[0;31mNameError\u001b[0m: name 'a' is not defined"
     ]
    }
   ],
   "source": [
    "if a:\n",
    "    print('e')"
   ]
  },
  {
   "cell_type": "code",
   "execution_count": 6,
   "id": "d3dd26fc-8fcc-4e03-99fc-655dff71597f",
   "metadata": {},
   "outputs": [
    {
     "data": {
      "text/plain": [
       "(2, 2)"
      ]
     },
     "execution_count": 6,
     "metadata": {},
     "output_type": "execute_result"
    }
   ],
   "source": [
    "df.shape"
   ]
  },
  {
   "cell_type": "code",
   "execution_count": 15,
   "id": "44a061f7-a370-4525-878c-d6371b54d32d",
   "metadata": {},
   "outputs": [
    {
     "data": {
      "text/html": [
       "<table><tr><th>Year</th><th>Bread price</th><th>Eggs price</th><th>Average tank of gas</th><th>Rent per day</th></tr><tr><td>1990</td><td>1</td><td>1.5</td><td>12</td><td>7</td></tr><tr><td>2000</td><td>2</td><td>2.5</td><td>25</td><td>10</td></tr><tr><td>2010</td><td>5</td><td>4</td><td>70</td><td>36</td></tr></table>"
      ],
      "text/plain": [
       "<IPython.core.display.HTML object>"
      ]
     },
     "metadata": {},
     "output_type": "display_data"
    },
    {
     "name": "stdout",
     "output_type": "stream",
     "text": [
      "None\n"
     ]
    },
    {
     "ename": "TypeError",
     "evalue": "__repr__ returned non-string (type NoneType)",
     "output_type": "error",
     "traceback": [
      "\u001b[0;31m--------------------------------------------------------------------------\u001b[0m",
      "\u001b[0;31mTypeError\u001b[0m                                Traceback (most recent call last)",
      "\u001b[0;32m~/Library/Python/3.9/lib/python/site-packages/IPython/core/formatters.py\u001b[0m in \u001b[0;36m__call__\u001b[0;34m(self, obj)\u001b[0m\n\u001b[1;32m    700\u001b[0m                 \u001b[0mtype_pprinters\u001b[0m\u001b[0;34m=\u001b[0m\u001b[0mself\u001b[0m\u001b[0;34m.\u001b[0m\u001b[0mtype_printers\u001b[0m\u001b[0;34m,\u001b[0m\u001b[0;34m\u001b[0m\u001b[0;34m\u001b[0m\u001b[0m\n\u001b[1;32m    701\u001b[0m                 deferred_pprinters=self.deferred_printers)\n\u001b[0;32m--> 702\u001b[0;31m             \u001b[0mprinter\u001b[0m\u001b[0;34m.\u001b[0m\u001b[0mpretty\u001b[0m\u001b[0;34m(\u001b[0m\u001b[0mobj\u001b[0m\u001b[0;34m)\u001b[0m\u001b[0;34m\u001b[0m\u001b[0;34m\u001b[0m\u001b[0m\n\u001b[0m\u001b[1;32m    703\u001b[0m             \u001b[0mprinter\u001b[0m\u001b[0;34m.\u001b[0m\u001b[0mflush\u001b[0m\u001b[0;34m(\u001b[0m\u001b[0;34m)\u001b[0m\u001b[0;34m\u001b[0m\u001b[0;34m\u001b[0m\u001b[0m\n\u001b[1;32m    704\u001b[0m             \u001b[0;32mreturn\u001b[0m \u001b[0mstream\u001b[0m\u001b[0;34m.\u001b[0m\u001b[0mgetvalue\u001b[0m\u001b[0;34m(\u001b[0m\u001b[0;34m)\u001b[0m\u001b[0;34m\u001b[0m\u001b[0;34m\u001b[0m\u001b[0m\n",
      "\u001b[0;32m~/Library/Python/3.9/lib/python/site-packages/IPython/lib/pretty.py\u001b[0m in \u001b[0;36mpretty\u001b[0;34m(self, obj)\u001b[0m\n\u001b[1;32m    392\u001b[0m                         \u001b[0;32mif\u001b[0m \u001b[0mcls\u001b[0m \u001b[0;32mis\u001b[0m \u001b[0;32mnot\u001b[0m \u001b[0mobject\u001b[0m\u001b[0;31m \u001b[0m\u001b[0;31m\\\u001b[0m\u001b[0;34m\u001b[0m\u001b[0;34m\u001b[0m\u001b[0m\n\u001b[1;32m    393\u001b[0m                                 \u001b[0;32mand\u001b[0m \u001b[0mcallable\u001b[0m\u001b[0;34m(\u001b[0m\u001b[0mcls\u001b[0m\u001b[0;34m.\u001b[0m\u001b[0m__dict__\u001b[0m\u001b[0;34m.\u001b[0m\u001b[0mget\u001b[0m\u001b[0;34m(\u001b[0m\u001b[0;34m'__repr__'\u001b[0m\u001b[0;34m)\u001b[0m\u001b[0;34m)\u001b[0m\u001b[0;34m:\u001b[0m\u001b[0;34m\u001b[0m\u001b[0;34m\u001b[0m\u001b[0m\n\u001b[0;32m--> 394\u001b[0;31m                             \u001b[0;32mreturn\u001b[0m \u001b[0m_repr_pprint\u001b[0m\u001b[0;34m(\u001b[0m\u001b[0mobj\u001b[0m\u001b[0;34m,\u001b[0m \u001b[0mself\u001b[0m\u001b[0;34m,\u001b[0m \u001b[0mcycle\u001b[0m\u001b[0;34m)\u001b[0m\u001b[0;34m\u001b[0m\u001b[0;34m\u001b[0m\u001b[0m\n\u001b[0m\u001b[1;32m    395\u001b[0m \u001b[0;34m\u001b[0m\u001b[0m\n\u001b[1;32m    396\u001b[0m             \u001b[0;32mreturn\u001b[0m \u001b[0m_default_pprint\u001b[0m\u001b[0;34m(\u001b[0m\u001b[0mobj\u001b[0m\u001b[0;34m,\u001b[0m \u001b[0mself\u001b[0m\u001b[0;34m,\u001b[0m \u001b[0mcycle\u001b[0m\u001b[0;34m)\u001b[0m\u001b[0;34m\u001b[0m\u001b[0;34m\u001b[0m\u001b[0m\n",
      "\u001b[0;32m~/Library/Python/3.9/lib/python/site-packages/IPython/lib/pretty.py\u001b[0m in \u001b[0;36m_repr_pprint\u001b[0;34m(obj, p, cycle)\u001b[0m\n\u001b[1;32m    698\u001b[0m     \u001b[0;34m\"\"\"A pprint that just redirects to the normal repr function.\"\"\"\u001b[0m\u001b[0;34m\u001b[0m\u001b[0;34m\u001b[0m\u001b[0m\n\u001b[1;32m    699\u001b[0m     \u001b[0;31m# Find newlines and replace them with p.break_()\u001b[0m\u001b[0;34m\u001b[0m\u001b[0;34m\u001b[0m\u001b[0;34m\u001b[0m\u001b[0m\n\u001b[0;32m--> 700\u001b[0;31m     \u001b[0moutput\u001b[0m \u001b[0;34m=\u001b[0m \u001b[0mrepr\u001b[0m\u001b[0;34m(\u001b[0m\u001b[0mobj\u001b[0m\u001b[0;34m)\u001b[0m\u001b[0;34m\u001b[0m\u001b[0;34m\u001b[0m\u001b[0m\n\u001b[0m\u001b[1;32m    701\u001b[0m     \u001b[0mlines\u001b[0m \u001b[0;34m=\u001b[0m \u001b[0moutput\u001b[0m\u001b[0;34m.\u001b[0m\u001b[0msplitlines\u001b[0m\u001b[0;34m(\u001b[0m\u001b[0;34m)\u001b[0m\u001b[0;34m\u001b[0m\u001b[0;34m\u001b[0m\u001b[0m\n\u001b[1;32m    702\u001b[0m     \u001b[0;32mwith\u001b[0m \u001b[0mp\u001b[0m\u001b[0;34m.\u001b[0m\u001b[0mgroup\u001b[0m\u001b[0;34m(\u001b[0m\u001b[0;34m)\u001b[0m\u001b[0;34m:\u001b[0m\u001b[0;34m\u001b[0m\u001b[0;34m\u001b[0m\u001b[0m\n",
      "\u001b[0;31mTypeError\u001b[0m: __repr__ returned non-string (type NoneType)"
     ]
    }
   ],
   "source": [
    "df"
   ]
  },
  {
   "cell_type": "code",
   "execution_count": 16,
   "id": "1aafeafe-2c27-4ed6-b23a-ed05eeb5dccf",
   "metadata": {},
   "outputs": [],
   "source": [
    "class T88ble():\n",
    "    \"\"\"\n",
    "    T88ble is an object similar to the Data 8 Table object.\n",
    "    Here the internal representation is a list of rows.\n",
    "    \"\"\"\n",
    "    def __init__(self, rows=[], labels=[]):\n",
    "        self.rows = rows\n",
    "        self.column_labels = labels\n",
    "    #DO NOT CHANGE THE __repr__ functions\n",
    "    def __repr__(self):\n",
    "        result = \"\"\n",
    "        result += str(self.column_labels) + \"\\n\"\n",
    "        for row in self.rows:\n",
    "            result += str(row) + \"\\n\"\n",
    "        return result\n",
    "    def num_rows(self):\n",
    "        \"\"\"\n",
    "        Compute the number of rows in a table.\n",
    "\n",
    "        >>> simple_table = T88ble(simple_table_rows, simple_table_labels)\n",
    "        >>> simple_table.num_rows()\n",
    "        2\n",
    "        >>> longer_table = T88ble(longer_table_rows, longer_table_labels)\n",
    "        >>> longer_table.num_rows()\n",
    "        3\n",
    "        \"\"\"\n",
    "        \"*** YOUR CODE HERE ***\"\n",
    "        return len(self.rows)\n",
    "        \n",
    "\n",
    "    def num_cols(self):\n",
    "        \"\"\"\n",
    "        Compute the number of cols in a table.\n",
    "\n",
    "        >>> simple_table = T88ble(simple_table_rows, simple_table_labels)\n",
    "        >>> simple_table.num_cols()\n",
    "        2\n",
    "        >>> longer_table = T88ble(longer_table_rows, longer_table_labels)\n",
    "        >>> longer_table.num_cols()\n",
    "        5\n",
    "        \"\"\"\n",
    "        \"*** YOUR CODE HERE ***\"\n",
    "        return len(self.column_labels)\n",
    "        \n",
    "\n",
    "    def labels(self):\n",
    "        \"\"\"\n",
    "        Lists the column labels in a table.\n",
    "\n",
    "        >>> simple_table = T88ble(simple_table_rows, simple_table_labels)\n",
    "        >>> simple_table.labels()\n",
    "        ['Flavor', 'Price']\n",
    "        >>> longer_table = T88ble(longer_table_rows, longer_table_labels)\n",
    "        >>> labels = longer_table.labels() # Make sure to return and not print\n",
    "        >>> labels\n",
    "        ['Year', 'Bread price', 'Eggs price', 'Average tank of gas', 'Rent per day']\n",
    "        \"\"\"\n",
    "        \"*** YOUR CODE HERE ***\"\n",
    "        return self.column_labels\n",
    "\n",
    "\n",
    "    def column(self, label):\n",
    "        \"\"\"\n",
    "        Returns the values of the column represented by label.\n",
    "\n",
    "        >>> simple_table = T88ble(simple_table_rows, simple_table_labels)\n",
    "        >>> simple_table.column(\"Flavor\")\n",
    "        ['chocolate', 'vanilla']\n",
    "        >>> longer_table = T88ble(longer_table_rows, longer_table_labels)\n",
    "        >>> column = longer_table.column(\"Eggs price\")\n",
    "        >>> column # Make sure to return and not print\n",
    "        [1.5, 2.5, 4]\n",
    "        >>> longer_table # Make sure not to mutate the original table\n",
    "        ['Year', 'Bread price', 'Eggs price', 'Average tank of gas', 'Rent per day']\n",
    "        [1990, 1, 1.5, 12, 7]\n",
    "        [2000, 2, 2.5, 25, 10]\n",
    "        [2010, 5, 4, 70, 36]\n",
    "        \"\"\"\n",
    "        \"*** YOUR CODE HERE ***\"\n",
    "        index = self.column_labels.index(label)\n",
    "        return [i[index] for i in self.rows]\n",
    "        \n",
    "\n",
    "    def with_column(self, label, values):\n",
    "        \"\"\"\n",
    "        Returns a new table with an additional or replaced column.\n",
    "        label is a string for the name of a column, values is an list\n",
    "\n",
    "        >>> longer_table = T88ble(longer_table_rows, longer_table_labels)\n",
    "        >>> new_table = longer_table.with_column('Inflation rate', [i for i in range(longer_table.num_rows())])\n",
    "        >>> new_table\n",
    "        ['Year', 'Bread price', 'Eggs price', 'Average tank of gas', 'Rent per day', 'Inflation rate']\n",
    "        [1990, 1, 1.5, 12, 7, 0]\n",
    "        [2000, 2, 2.5, 25, 10, 1]\n",
    "        [2010, 5, 4, 70, 36, 2]\n",
    "        >>> longer_table # Make sure not to mutate the original table\n",
    "        ['Year', 'Bread price', 'Eggs price', 'Average tank of gas', 'Rent per day']\n",
    "        [1990, 1, 1.5, 12, 7]\n",
    "        [2000, 2, 2.5, 25, 10]\n",
    "        [2010, 5, 4, 70, 36]\n",
    "        \"\"\"\n",
    "        \"*** YOUR CODE HERE ***\"\n",
    "        '''\n",
    "        # Answer\n",
    "        new_table = T88ble([[1990, 1, 1.5, 12, 7, 0], [2000, 2, 2.5, 25, 10, 1], [2010, 5, 4, 70, 36, 2]], ['Year', 'Bread price', 'Eggs price', 'Average tank of gas', 'Rent per day', 'Inflation rate'])\n",
    "        return new_table\n",
    "        '''\n",
    "        import copy\n",
    "\n",
    "        new_rows = copy.deepcopy(self.rows)\n",
    "        for i in range(len(values)):\n",
    "            new_rows[i].append(values[i])\n",
    "\n",
    "        new_column_labels = self.column_labels.copy()\n",
    "        new_column_labels.append(label)\n",
    "\n",
    "        new_table = T88ble(new_rows, new_column_labels)\n",
    "        return new_table\n",
    "\n",
    "\n",
    "    def select(self, labels):\n",
    "        \"\"\"\n",
    "        Create a copy of a table with only some of the columns,\n",
    "        reffered to by the list of labels.\n",
    "\n",
    "        >>> simple_table = T88ble(simple_table_rows, simple_table_labels)\n",
    "        >>> simple_table.select([\"Flavor\"])\n",
    "        ['Flavor']\n",
    "        ['chocolate']\n",
    "        ['vanilla']\n",
    "        >>> simple_table\n",
    "        ['Flavor', 'Price']\n",
    "        ['chocolate', 2]\n",
    "        ['vanilla', 1]\n",
    "        >>> longer_table = T88ble(longer_table_rows, longer_table_labels)\n",
    "        >>> selected = longer_table.select(['Year', 'Average tank of gas'])\n",
    "        >>> selected # Make sure to return and not print\n",
    "        ['Year', 'Average tank of gas']\n",
    "        [1990, 12]\n",
    "        [2000, 25]\n",
    "        [2010, 70]\n",
    "        >>> longer_table\n",
    "        ['Year', 'Bread price', 'Eggs price', 'Average tank of gas', 'Rent per day']\n",
    "        [1990, 1, 1.5, 12, 7]\n",
    "        [2000, 2, 2.5, 25, 10]\n",
    "        [2010, 5, 4, 70, 36]\n",
    "        \"\"\"\n",
    "        \"*** YOUR CODE HERE ***\"\n",
    "        # Indexes are the labels' indexes in self.column_labels\n",
    "        indexes = [self.column_labels.index(i) for i in labels]\n",
    "        new_rows = []\n",
    "\n",
    "        # Extract each item from the index of each row\n",
    "        for  i in self.rows:\n",
    "            new_rows.append([i[index] for index in indexes])\n",
    "\n",
    "        new_table = T88ble(new_rows, labels)\n",
    "        return new_table\n",
    "        \n",
    "\n",
    "    def where(self, label, filter_fn):\n",
    "        \"\"\"\n",
    "        Create a copy of a table with only the rows that match a filter function.\n",
    "\n",
    "        >>> def above(x):\n",
    "        ...     return lambda y: y > x\n",
    "        ...\n",
    "        >>> longer_table = T88ble(longer_table_rows, longer_table_labels)\n",
    "        >>> filtered = longer_table.where('Eggs price', above(2))\n",
    "        >>> filtered\n",
    "        ['Year', 'Bread price', 'Eggs price', 'Average tank of gas', 'Rent per day']\n",
    "        [2000, 2, 2.5, 25, 10]\n",
    "        [2010, 5, 4, 70, 36]\n",
    "        >>> longer_table\n",
    "        ['Year', 'Bread price', 'Eggs price', 'Average tank of gas', 'Rent per day']\n",
    "        [1990, 1, 1.5, 12, 7]\n",
    "        [2000, 2, 2.5, 25, 10]\n",
    "        [2010, 5, 4, 70, 36]\n",
    "        \"\"\"\n",
    "        \"*** YOUR CODE HERE ***\"\n",
    "        index = self.column_labels.index(label)\n",
    "        new_rows = []\n",
    "\n",
    "        for  i in self.rows:\n",
    "            if filter_fn(i[index]):\n",
    "                new_rows.append(i)\n",
    "\n",
    "        new_table = T88ble(new_rows, self.column_labels)\n",
    "        return new_table"
   ]
  },
  {
   "cell_type": "code",
   "execution_count": 17,
   "id": "c43ec400-4ce0-4033-aaa7-8177048ae4b6",
   "metadata": {},
   "outputs": [
    {
     "data": {
      "text/plain": [
       "['Year', 'Bread price', 'Eggs price', 'Average tank of gas', 'Rent per day']\n",
       "[1990, 1, 1.5, 12, 7]\n",
       "[2000, 2, 2.5, 25, 10]\n",
       "[2010, 5, 4, 70, 36]"
      ]
     },
     "execution_count": 17,
     "metadata": {},
     "output_type": "execute_result"
    }
   ],
   "source": [
    "longer_table = T88ble(longer_table_rows, longer_table_labels)\n",
    "longer_table"
   ]
  },
  {
   "cell_type": "code",
   "execution_count": null,
   "id": "7f8a89a1-e56f-4b31-9127-48716a5a6ce2",
   "metadata": {},
   "outputs": [],
   "source": [
    "# using property class\n",
    "class Celsius:\n",
    "    def __init__(self, temperature=0):\n",
    "        self.temperature = temperature\n",
    "\n",
    "    def to_fahrenheit(self):\n",
    "        return (self.temperature * 1.8) + 32\n",
    "\n",
    "    # getter\n",
    "    def get_temperature(self):\n",
    "        print(\"Getting value...\")\n",
    "        return self._temperature\n",
    "\n",
    "    # setter\n",
    "    def set_temperature(self, value):\n",
    "        print(\"Setting value...\")\n",
    "        if value < -273.15:\n",
    "            raise ValueError(\"Temperature below -273.15 is not possible\")\n",
    "        self._temperature = value\n",
    "\n",
    "    # creating a property object\n",
    "    temperature = property(get_temperature, set_temperature)\n",
    "\n",
    "\n",
    "human = Celsius(37)\n",
    "\n",
    "print(human.temperature)\n",
    "\n",
    "print(human.to_fahrenheit())\n",
    "\n",
    "human.temperature = -300"
   ]
  },
  {
   "cell_type": "code",
   "execution_count": 54,
   "id": "5ee06f8b-07d0-4dbb-bb51-9f8e17df8eb0",
   "metadata": {},
   "outputs": [
    {
     "name": "stdout",
     "output_type": "stream",
     "text": [
      "Setting value...\n",
      "Getting value...\n",
      "37\n",
      "Getting value...\n",
      "98.60000000000001\n",
      "Setting value...\n"
     ]
    },
    {
     "ename": "ValueError",
     "evalue": "Temperature below -273 is not possible",
     "output_type": "error",
     "traceback": [
      "\u001b[0;31m---------------------------------------------------------------------------\u001b[0m",
      "\u001b[0;31mValueError\u001b[0m                                Traceback (most recent call last)",
      "\u001b[0;32m/var/folders/bn/xnw38wz5697c2m0cykr9528m0000gn/T/ipykernel_82491/1952848121.py\u001b[0m in \u001b[0;36m<module>\u001b[0;34m\u001b[0m\n\u001b[1;32m     27\u001b[0m \u001b[0mprint\u001b[0m\u001b[0;34m(\u001b[0m\u001b[0mhuman\u001b[0m\u001b[0;34m.\u001b[0m\u001b[0mto_fahrenheit\u001b[0m\u001b[0;34m(\u001b[0m\u001b[0;34m)\u001b[0m\u001b[0;34m)\u001b[0m\u001b[0;34m\u001b[0m\u001b[0;34m\u001b[0m\u001b[0m\n\u001b[1;32m     28\u001b[0m \u001b[0;34m\u001b[0m\u001b[0m\n\u001b[0;32m---> 29\u001b[0;31m \u001b[0mcoldest_thing\u001b[0m \u001b[0;34m=\u001b[0m \u001b[0mCelsius\u001b[0m\u001b[0;34m(\u001b[0m\u001b[0;34m-\u001b[0m\u001b[0;36m300\u001b[0m\u001b[0;34m)\u001b[0m\u001b[0;34m\u001b[0m\u001b[0;34m\u001b[0m\u001b[0m\n\u001b[0m",
      "\u001b[0;32m/var/folders/bn/xnw38wz5697c2m0cykr9528m0000gn/T/ipykernel_82491/1952848121.py\u001b[0m in \u001b[0;36m__init__\u001b[0;34m(self, temperature)\u001b[0m\n\u001b[1;32m      2\u001b[0m \u001b[0;32mclass\u001b[0m \u001b[0mCelsius\u001b[0m\u001b[0;34m:\u001b[0m\u001b[0;34m\u001b[0m\u001b[0;34m\u001b[0m\u001b[0m\n\u001b[1;32m      3\u001b[0m     \u001b[0;32mdef\u001b[0m \u001b[0m__init__\u001b[0m\u001b[0;34m(\u001b[0m\u001b[0mself\u001b[0m\u001b[0;34m,\u001b[0m \u001b[0mtemperature\u001b[0m\u001b[0;34m=\u001b[0m\u001b[0;36m0\u001b[0m\u001b[0;34m)\u001b[0m\u001b[0;34m:\u001b[0m\u001b[0;34m\u001b[0m\u001b[0;34m\u001b[0m\u001b[0m\n\u001b[0;32m----> 4\u001b[0;31m         \u001b[0mself\u001b[0m\u001b[0;34m.\u001b[0m\u001b[0mtemperature\u001b[0m \u001b[0;34m=\u001b[0m \u001b[0mtemperature\u001b[0m\u001b[0;34m\u001b[0m\u001b[0;34m\u001b[0m\u001b[0m\n\u001b[0m\u001b[1;32m      5\u001b[0m \u001b[0;34m\u001b[0m\u001b[0m\n\u001b[1;32m      6\u001b[0m     \u001b[0;32mdef\u001b[0m \u001b[0mto_fahrenheit\u001b[0m\u001b[0;34m(\u001b[0m\u001b[0mself\u001b[0m\u001b[0;34m)\u001b[0m\u001b[0;34m:\u001b[0m\u001b[0;34m\u001b[0m\u001b[0;34m\u001b[0m\u001b[0m\n",
      "\u001b[0;32m/var/folders/bn/xnw38wz5697c2m0cykr9528m0000gn/T/ipykernel_82491/1952848121.py\u001b[0m in \u001b[0;36mtemperature\u001b[0;34m(self, value)\u001b[0m\n\u001b[1;32m     16\u001b[0m         \u001b[0mprint\u001b[0m\u001b[0;34m(\u001b[0m\u001b[0;34m\"Setting value...\"\u001b[0m\u001b[0;34m)\u001b[0m\u001b[0;34m\u001b[0m\u001b[0;34m\u001b[0m\u001b[0m\n\u001b[1;32m     17\u001b[0m         \u001b[0;32mif\u001b[0m \u001b[0mvalue\u001b[0m \u001b[0;34m<\u001b[0m \u001b[0;34m-\u001b[0m\u001b[0;36m273.15\u001b[0m\u001b[0;34m:\u001b[0m\u001b[0;34m\u001b[0m\u001b[0;34m\u001b[0m\u001b[0m\n\u001b[0;32m---> 18\u001b[0;31m             \u001b[0;32mraise\u001b[0m \u001b[0mValueError\u001b[0m\u001b[0;34m(\u001b[0m\u001b[0;34m\"Temperature below -273 is not possible\"\u001b[0m\u001b[0;34m)\u001b[0m\u001b[0;34m\u001b[0m\u001b[0;34m\u001b[0m\u001b[0m\n\u001b[0m\u001b[1;32m     19\u001b[0m         \u001b[0mself\u001b[0m\u001b[0;34m.\u001b[0m\u001b[0m_temperature\u001b[0m \u001b[0;34m=\u001b[0m \u001b[0mvalue\u001b[0m\u001b[0;34m\u001b[0m\u001b[0;34m\u001b[0m\u001b[0m\n\u001b[1;32m     20\u001b[0m \u001b[0;34m\u001b[0m\u001b[0m\n",
      "\u001b[0;31mValueError\u001b[0m: Temperature below -273 is not possible"
     ]
    }
   ],
   "source": [
    "# Using @property decorator\n",
    "class Celsius:\n",
    "    def __init__(self, temperature=0):\n",
    "        self.temperature = temperature\n",
    "\n",
    "    def to_fahrenheit(self):\n",
    "        return (self.temperature * 1.8) + 32\n",
    "\n",
    "    @property\n",
    "    def temperature(self):\n",
    "        print(\"Getting value...\")\n",
    "        return self._temperature\n",
    "\n",
    "    @temperature.setter\n",
    "    def temperature(self, value):\n",
    "        print(\"Setting value...\")\n",
    "        if value < -273.15:\n",
    "            raise ValueError(\"Temperature below -273 is not possible\")\n",
    "        self._temperature = value\n",
    "\n",
    "\n",
    "# create an object\n",
    "human = Celsius(37)\n",
    "\n",
    "print(human.temperature)\n",
    "\n",
    "print(human.to_fahrenheit())\n",
    "\n",
    "coldest_thing = Celsius(-300)"
   ]
  }
 ],
 "metadata": {
  "kernelspec": {
   "display_name": "Python 3 (ipykernel)",
   "language": "python",
   "name": "python3"
  },
  "language_info": {
   "codemirror_mode": {
    "name": "ipython",
    "version": 3
   },
   "file_extension": ".py",
   "mimetype": "text/x-python",
   "name": "python",
   "nbconvert_exporter": "python",
   "pygments_lexer": "ipython3",
   "version": "3.9.7"
  }
 },
 "nbformat": 4,
 "nbformat_minor": 5
}
