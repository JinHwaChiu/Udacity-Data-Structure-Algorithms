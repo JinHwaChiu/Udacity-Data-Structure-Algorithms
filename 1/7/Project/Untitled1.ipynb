{
 "cells": [
  {
   "cell_type": "code",
   "execution_count": 1,
   "id": "6e69100f-0c3d-4065-a4ac-54a9352d5a39",
   "metadata": {},
   "outputs": [],
   "source": [
    "import csv\n",
    "with open('texts.csv', 'r') as f:\n",
    "    reader = csv.reader(f)\n",
    "    texts = list(reader)\n",
    "\n",
    "with open('calls.csv', 'r') as f:\n",
    "    reader = csv.reader(f)\n",
    "    calls = list(reader)"
   ]
  },
  {
   "cell_type": "code",
   "execution_count": null,
   "id": "6f0211b6-d088-4190-ae55-9e1be9691405",
   "metadata": {},
   "outputs": [],
   "source": []
  },
  {
   "cell_type": "code",
   "execution_count": null,
   "id": "b7c68f8f-01da-4c83-806b-63680817c37a",
   "metadata": {},
   "outputs": [],
   "source": []
  },
  {
   "cell_type": "code",
   "execution_count": 3,
   "id": "faf159dc-ff4f-4e0f-8faf-3f0203f818e7",
   "metadata": {},
   "outputs": [],
   "source": [
    "from IPython.core.display import display, HTML\n",
    "\n",
    "simple_table_rows = [['chocolate',2], ['vanilla', 1]]\n",
    "simple_table_labels = ['Flavor', 'Price']\n",
    "longer_table_rows = [[1990, 1, 1.5, 12, 7], [2000, 2, 2.5, 25, 10], [2010, 5, 4, 70, 36]]\n",
    "longer_table_labels = ['Year', 'Bread price', 'Eggs price', 'Average tank of gas', 'Rent per day']\n"
   ]
  },
  {
   "cell_type": "code",
   "execution_count": 22,
   "id": "4ca15c68-e1cc-41d0-bdba-631d0e26b259",
   "metadata": {},
   "outputs": [],
   "source": [
    "#class DataFrame\n",
    "class DataFrame:\n",
    "    \"\"\"DataFrame is an object similar to Pandas DataFrame object.\n",
    "    \"\"\"\n",
    "    def __init__(self, rows=[], columns=[]):\n",
    "        self.rows = rows\n",
    "        self.columns = columns\n",
    "        self.row_index = range(len(rows))\n",
    "        self.col_index = range(len(columns))\n",
    "        self.shape = (len(rows), len(columns))\n",
    "        #self.table = self._html(self.rows, self.columns)\n",
    "        \n",
    "        self._render_html(rows, columns)\n",
    "\n",
    "    '''\n",
    "    def __repr__(self):\n",
    "        \"\"\"\n",
    "        result = \"\"\n",
    "        result += str(self.columns) + \"\\n\"\n",
    "        for row in self.rows:\n",
    "            result += str(row) + \"\\n\"\n",
    "        return result\n",
    "        \"\"\"\n",
    "        #self._display_table()#display(HTML(self.table))\n",
    "        print('Bug')\n",
    "    '''\n",
    "\n",
    "    def __len__(self):\n",
    "        return self.index\n",
    "\n",
    "    def _render_html(self, rows, columns):\n",
    "        \"\"\"Render HTML.\n",
    "        \"\"\"\n",
    "        row_index = range(len(rows))\n",
    "        # Initialize table rendering\n",
    "        table = \"<table>\"\n",
    "        # Initialize header rendering\n",
    "        table += \"<tr>\"\n",
    "        # Add index header\n",
    "        table += \"<th></th>\"\n",
    "        for column in columns:\n",
    "            table += f\"<th>{column}</th>\"\n",
    "        # Finish header rendering\n",
    "        table += \"</tr>\"\n",
    "        # Initialize rows rendering\n",
    "        for i in row_index:\n",
    "        #for row in rows:\n",
    "            table += \"<tr>\"\n",
    "            # Add index\n",
    "            table += f\"<td>{i}</td>\"\n",
    "            for cell in rows[i]:\n",
    "                # Add cell\n",
    "                table += f\"<td>{cell}</td>\"\n",
    "            table += \"</tr>\"\n",
    "        # Finish table rendering\n",
    "        table += \"</table>\"\n",
    "        \n",
    "        return table\n",
    "\n",
    "    def _display_html(self, table):\n",
    "        display(HTML(table))\n",
    "\n",
    "    def __getitem__(self, *args: slice):    \n",
    "        try:\n",
    "            row_ind = args[0][0]\n",
    "            col_ind = args[0][1]\n",
    "            table = self._render_html(self.rows[row_ind], self.columns[col_ind])\n",
    "            #table = self.rows[row_ind], self.columns[col_ind]\n",
    "        except:\n",
    "            row_ind = args[0]\n",
    "            table = self._render_html(self.rows[row_ind], self.columns)\n",
    "            #table = self.rows[row_ind]\n",
    "        \n",
    "        return self._display_html(table)\n",
    "\n",
    "    @property\n",
    "    def iloc(self, row_ind, col_ind=None):\n",
    "        table = _render_html(self.rows[row_ind], self.columns[col_ind])\n",
    "        return _display_html(table)\n",
    "        \n",
    "    def loc(self):\n",
    "        pass\n",
    "    \n",
    "    def unique(self):\n",
    "        pass\n",
    "    \n",
    "    def nunique(self):\n",
    "        pass\n",
    "\n",
    "    def astype(self):\n",
    "        pass"
   ]
  },
  {
   "cell_type": "code",
   "execution_count": 23,
   "id": "63908bbb-d5d0-45fe-a8b6-1f991a90e43c",
   "metadata": {},
   "outputs": [],
   "source": [
    "df = DataFrame(rows=texts, columns=['s', 'r', 'time'])"
   ]
  },
  {
   "cell_type": "code",
   "execution_count": 24,
   "id": "06850ee6-fbd5-41f5-834d-acf6dc06e0a6",
   "metadata": {},
   "outputs": [
    {
     "data": {
      "text/html": [
       "<table><tr><th></th><th>s</th><th>r</th><th>time</th></tr><tr><td>0</td><td>97424 22395</td><td>90365 06212</td><td>01-09-2016 06:03:22</td></tr><tr><td>1</td><td>94489 72078</td><td>92415 91418</td><td>01-09-2016 06:05:35</td></tr><tr><td>2</td><td>81520 43406</td><td>92421 64236</td><td>01-09-2016 06:09:34</td></tr><tr><td>3</td><td>97389 12538</td><td>90352 50054</td><td>01-09-2016 06:09:39</td></tr><tr><td>4</td><td>81515 42171</td><td>98440 02823</td><td>01-09-2016 06:13:30</td></tr><tr><td>5</td><td>78132 18081</td><td>77956 90632</td><td>01-09-2016 06:19:37</td></tr><tr><td>6</td><td>90352 50054</td><td>97389 12538</td><td>01-09-2016 06:30:42</td></tr><tr><td>7</td><td>90359 99240</td><td>94491 55790</td><td>01-09-2016 06:32:59</td></tr><tr><td>8</td><td>78295 65598</td><td>84313 45689</td><td>01-09-2016 06:34:46</td></tr><tr><td>9</td><td>93412 66159</td><td>98454 07778</td><td>01-09-2016 06:36:15</td></tr></table>"
      ],
      "text/plain": [
       "<IPython.core.display.HTML object>"
      ]
     },
     "metadata": {},
     "output_type": "display_data"
    }
   ],
   "source": [
    "df[:10, :]"
   ]
  },
  {
   "cell_type": "code",
   "execution_count": null,
   "id": "0637b689-d896-4316-902e-95e80937bfec",
   "metadata": {},
   "outputs": [],
   "source": [
    "('3:', '0:1')"
   ]
  },
  {
   "cell_type": "code",
   "execution_count": 31,
   "id": "2bc2df31-1d7a-4137-b8e1-6961d8b1c5d8",
   "metadata": {},
   "outputs": [],
   "source": [
    "#@slice\n",
    "def tmp(ind):\n",
    "    return ind"
   ]
  },
  {
   "cell_type": "code",
   "execution_count": 32,
   "id": "a61ea46f-971c-424b-b730-5403967f83d8",
   "metadata": {},
   "outputs": [
    {
     "ename": "TypeError",
     "evalue": "'function' object is not subscriptable",
     "output_type": "error",
     "traceback": [
      "\u001b[0;31m--------------------------------------------------------------------------\u001b[0m",
      "\u001b[0;31mTypeError\u001b[0m                                Traceback (most recent call last)",
      "\u001b[0;32m<ipython-input-32-fd15350e636d>\u001b[0m in \u001b[0;36m<module>\u001b[0;34m\u001b[0m\n\u001b[0;32m----> 1\u001b[0;31m \u001b[0mtmp\u001b[0m\u001b[0;34m[\u001b[0m\u001b[0;36m0\u001b[0m\u001b[0;34m:\u001b[0m\u001b[0;36m1\u001b[0m\u001b[0;34m]\u001b[0m\u001b[0;34m\u001b[0m\u001b[0;34m\u001b[0m\u001b[0m\n\u001b[0m",
      "\u001b[0;31mTypeError\u001b[0m: 'function' object is not subscriptable"
     ]
    }
   ],
   "source": [
    "tmp[0:1]"
   ]
  },
  {
   "cell_type": "code",
   "execution_count": 33,
   "id": "d6696b36-0725-4ac8-9e96-367457c799aa",
   "metadata": {},
   "outputs": [
    {
     "ename": "SyntaxError",
     "evalue": "invalid syntax (<ipython-input-33-bf5fc5a7a33f>, line 1)",
     "output_type": "error",
     "traceback": [
      "\u001b[0;36m  File \u001b[0;32m\"<ipython-input-33-bf5fc5a7a33f>\"\u001b[0;36m, line \u001b[0;32m1\u001b[0m\n\u001b[0;31m    tmp([0:1])\u001b[0m\n\u001b[0m          ^\u001b[0m\n\u001b[0;31mSyntaxError\u001b[0m\u001b[0;31m:\u001b[0m invalid syntax\n"
     ]
    }
   ],
   "source": [
    "tmp([0:1])"
   ]
  },
  {
   "cell_type": "code",
   "execution_count": 28,
   "id": "03433a9f-2ac9-4735-b1dc-3b925eb250db",
   "metadata": {},
   "outputs": [
    {
     "data": {
      "text/plain": [
       "slice(0, 1, None)"
      ]
     },
     "execution_count": 28,
     "metadata": {},
     "output_type": "execute_result"
    }
   ],
   "source": [
    "slice(0, 1)"
   ]
  },
  {
   "cell_type": "code",
   "execution_count": 29,
   "id": "759823af-8f32-4a02-961b-573c6f1b9bda",
   "metadata": {},
   "outputs": [
    {
     "data": {
      "text/plain": [
       "slice"
      ]
     },
     "execution_count": 29,
     "metadata": {},
     "output_type": "execute_result"
    }
   ],
   "source": [
    "type(slice(0, 1))"
   ]
  },
  {
   "cell_type": "code",
   "execution_count": null,
   "id": "db649acb-05a3-4287-b2b5-a185bbdde947",
   "metadata": {},
   "outputs": [],
   "source": []
  },
  {
   "cell_type": "code",
   "execution_count": null,
   "id": "952827ec-86d6-4939-928e-7b7de2b08162",
   "metadata": {},
   "outputs": [],
   "source": []
  },
  {
   "cell_type": "code",
   "execution_count": 242,
   "id": "4024d916-71f0-462f-ba86-8612e2250f19",
   "metadata": {},
   "outputs": [
    {
     "data": {
      "text/plain": [
       "<__main__.DataFrame at 0x1174529a0>"
      ]
     },
     "execution_count": 242,
     "metadata": {},
     "output_type": "execute_result"
    }
   ],
   "source": [
    "df = DataFrame(longer_table_rows, longer_table_labels)\n",
    "df"
   ]
  },
  {
   "cell_type": "code",
   "execution_count": 243,
   "id": "b5c13c9d-95cf-41bb-aad1-259443945705",
   "metadata": {},
   "outputs": [
    {
     "data": {
      "text/html": [
       "<table><tr><th></th><th>Year</th><th>Bread price</th><th>Eggs price</th><th>Average tank of gas</th><th>Rent per day</th></tr><tr><td>0</td><td>1990</td><td>1</td><td>1.5</td><td>12</td><td>7</td></tr></table>"
      ],
      "text/plain": [
       "<IPython.core.display.HTML object>"
      ]
     },
     "metadata": {},
     "output_type": "display_data"
    }
   ],
   "source": [
    "df[0:1]"
   ]
  },
  {
   "cell_type": "code",
   "execution_count": 244,
   "id": "9c5835ad-6cc2-42cc-b5a1-9cf745a8b1a2",
   "metadata": {},
   "outputs": [
    {
     "data": {
      "text/html": [
       "<table><tr><th></th><th>Year</th><th>Bread price</th></tr><tr><td>0</td><td>1990</td><td>1</td><td>1.5</td><td>12</td><td>7</td></tr><tr><td>1</td><td>2000</td><td>2</td><td>2.5</td><td>25</td><td>10</td></tr></table>"
      ],
      "text/plain": [
       "<IPython.core.display.HTML object>"
      ]
     },
     "metadata": {},
     "output_type": "display_data"
    }
   ],
   "source": [
    "df[0:2, 0:2]"
   ]
  },
  {
   "cell_type": "code",
   "execution_count": 246,
   "id": "2ee908bb-d45e-4478-9e7c-47a0ab49fc01",
   "metadata": {},
   "outputs": [
    {
     "data": {
      "text/html": [
       "<table><tr><th></th><th>Year</th><th>Bread price</th></tr><tr><td>0</td><td>1990</td><td>1</td><td>1.5</td><td>12</td><td>7</td></tr></table>"
      ],
      "text/plain": [
       "<IPython.core.display.HTML object>"
      ]
     },
     "metadata": {},
     "output_type": "display_data"
    }
   ],
   "source": [
    "df[0:1, 0:2]"
   ]
  },
  {
   "cell_type": "code",
   "execution_count": 85,
   "id": "a80823ef-3016-4579-b7ff-48274b897b22",
   "metadata": {},
   "outputs": [
    {
     "data": {
      "text/plain": [
       "'<table><tr><th></th><th>0</th><th>0</th></tr><tr><td>0</td><td>1</td><td>1</td></tr><tr><td>1</td><td>0</td><td>0</td></tr></table>'"
      ]
     },
     "execution_count": 85,
     "metadata": {},
     "output_type": "execute_result"
    }
   ],
   "source": [
    "df._render_html([[1, 1], [0, 0]], [0, 0])"
   ]
  },
  {
   "cell_type": "code",
   "execution_count": 109,
   "id": "e1bb7612-d55e-4236-9672-a4ea4ba3f0b6",
   "metadata": {},
   "outputs": [
    {
     "data": {
      "text/plain": [
       "slice(None, slice(None, 1, None), None)"
      ]
     },
     "execution_count": 109,
     "metadata": {},
     "output_type": "execute_result"
    }
   ],
   "source": [
    "slice(slice(1))"
   ]
  },
  {
   "cell_type": "code",
   "execution_count": 87,
   "id": "4300c967-c28f-47ba-aac2-b0a9f1128800",
   "metadata": {},
   "outputs": [
    {
     "ename": "TypeError",
     "evalue": "_display_html() missing 1 required positional argument: 'table'",
     "output_type": "error",
     "traceback": [
      "\u001b[0;31m--------------------------------------------------------------------------\u001b[0m",
      "\u001b[0;31mTypeError\u001b[0m                                Traceback (most recent call last)",
      "\u001b[0;32m<ipython-input-87-7c7f0827d8ae>\u001b[0m in \u001b[0;36m<module>\u001b[0;34m\u001b[0m\n\u001b[0;32m----> 1\u001b[0;31m \u001b[0mdf\u001b[0m\u001b[0;34m.\u001b[0m\u001b[0m_display_html\u001b[0m\u001b[0;34m(\u001b[0m\u001b[0;34m)\u001b[0m\u001b[0;34m\u001b[0m\u001b[0;34m\u001b[0m\u001b[0m\n\u001b[0m",
      "\u001b[0;31mTypeError\u001b[0m: _display_html() missing 1 required positional argument: 'table'"
     ]
    }
   ],
   "source": [
    "df._display_html()"
   ]
  },
  {
   "cell_type": "code",
   "execution_count": 4,
   "id": "ac1464bb-877f-4f69-8364-d5ba078f988f",
   "metadata": {},
   "outputs": [
    {
     "data": {
      "text/html": [
       "<table><tr><th>Flavor</th><th>Price</th></tr><tr><td>chocolate</td><td>2</td></tr><tr><td>vanilla</td><td>1</td></tr></table>"
      ],
      "text/plain": [
       "<IPython.core.display.HTML object>"
      ]
     },
     "metadata": {},
     "output_type": "display_data"
    },
    {
     "name": "stdout",
     "output_type": "stream",
     "text": [
      "None\n"
     ]
    },
    {
     "ename": "TypeError",
     "evalue": "__repr__ returned non-string (type NoneType)",
     "output_type": "error",
     "traceback": [
      "\u001b[0;31m--------------------------------------------------------------------------\u001b[0m",
      "\u001b[0;31mTypeError\u001b[0m                                Traceback (most recent call last)",
      "\u001b[0;32m~/Library/Python/3.9/lib/python/site-packages/IPython/core/formatters.py\u001b[0m in \u001b[0;36m__call__\u001b[0;34m(self, obj)\u001b[0m\n\u001b[1;32m    700\u001b[0m                 \u001b[0mtype_pprinters\u001b[0m\u001b[0;34m=\u001b[0m\u001b[0mself\u001b[0m\u001b[0;34m.\u001b[0m\u001b[0mtype_printers\u001b[0m\u001b[0;34m,\u001b[0m\u001b[0;34m\u001b[0m\u001b[0;34m\u001b[0m\u001b[0m\n\u001b[1;32m    701\u001b[0m                 deferred_pprinters=self.deferred_printers)\n\u001b[0;32m--> 702\u001b[0;31m             \u001b[0mprinter\u001b[0m\u001b[0;34m.\u001b[0m\u001b[0mpretty\u001b[0m\u001b[0;34m(\u001b[0m\u001b[0mobj\u001b[0m\u001b[0;34m)\u001b[0m\u001b[0;34m\u001b[0m\u001b[0;34m\u001b[0m\u001b[0m\n\u001b[0m\u001b[1;32m    703\u001b[0m             \u001b[0mprinter\u001b[0m\u001b[0;34m.\u001b[0m\u001b[0mflush\u001b[0m\u001b[0;34m(\u001b[0m\u001b[0;34m)\u001b[0m\u001b[0;34m\u001b[0m\u001b[0;34m\u001b[0m\u001b[0m\n\u001b[1;32m    704\u001b[0m             \u001b[0;32mreturn\u001b[0m \u001b[0mstream\u001b[0m\u001b[0;34m.\u001b[0m\u001b[0mgetvalue\u001b[0m\u001b[0;34m(\u001b[0m\u001b[0;34m)\u001b[0m\u001b[0;34m\u001b[0m\u001b[0;34m\u001b[0m\u001b[0m\n",
      "\u001b[0;32m~/Library/Python/3.9/lib/python/site-packages/IPython/lib/pretty.py\u001b[0m in \u001b[0;36mpretty\u001b[0;34m(self, obj)\u001b[0m\n\u001b[1;32m    392\u001b[0m                         \u001b[0;32mif\u001b[0m \u001b[0mcls\u001b[0m \u001b[0;32mis\u001b[0m \u001b[0;32mnot\u001b[0m \u001b[0mobject\u001b[0m\u001b[0;31m \u001b[0m\u001b[0;31m\\\u001b[0m\u001b[0;34m\u001b[0m\u001b[0;34m\u001b[0m\u001b[0m\n\u001b[1;32m    393\u001b[0m                                 \u001b[0;32mand\u001b[0m \u001b[0mcallable\u001b[0m\u001b[0;34m(\u001b[0m\u001b[0mcls\u001b[0m\u001b[0;34m.\u001b[0m\u001b[0m__dict__\u001b[0m\u001b[0;34m.\u001b[0m\u001b[0mget\u001b[0m\u001b[0;34m(\u001b[0m\u001b[0;34m'__repr__'\u001b[0m\u001b[0;34m)\u001b[0m\u001b[0;34m)\u001b[0m\u001b[0;34m:\u001b[0m\u001b[0;34m\u001b[0m\u001b[0;34m\u001b[0m\u001b[0m\n\u001b[0;32m--> 394\u001b[0;31m                             \u001b[0;32mreturn\u001b[0m \u001b[0m_repr_pprint\u001b[0m\u001b[0;34m(\u001b[0m\u001b[0mobj\u001b[0m\u001b[0;34m,\u001b[0m \u001b[0mself\u001b[0m\u001b[0;34m,\u001b[0m \u001b[0mcycle\u001b[0m\u001b[0;34m)\u001b[0m\u001b[0;34m\u001b[0m\u001b[0;34m\u001b[0m\u001b[0m\n\u001b[0m\u001b[1;32m    395\u001b[0m \u001b[0;34m\u001b[0m\u001b[0m\n\u001b[1;32m    396\u001b[0m             \u001b[0;32mreturn\u001b[0m \u001b[0m_default_pprint\u001b[0m\u001b[0;34m(\u001b[0m\u001b[0mobj\u001b[0m\u001b[0;34m,\u001b[0m \u001b[0mself\u001b[0m\u001b[0;34m,\u001b[0m \u001b[0mcycle\u001b[0m\u001b[0;34m)\u001b[0m\u001b[0;34m\u001b[0m\u001b[0;34m\u001b[0m\u001b[0m\n",
      "\u001b[0;32m~/Library/Python/3.9/lib/python/site-packages/IPython/lib/pretty.py\u001b[0m in \u001b[0;36m_repr_pprint\u001b[0;34m(obj, p, cycle)\u001b[0m\n\u001b[1;32m    698\u001b[0m     \u001b[0;34m\"\"\"A pprint that just redirects to the normal repr function.\"\"\"\u001b[0m\u001b[0;34m\u001b[0m\u001b[0;34m\u001b[0m\u001b[0m\n\u001b[1;32m    699\u001b[0m     \u001b[0;31m# Find newlines and replace them with p.break_()\u001b[0m\u001b[0;34m\u001b[0m\u001b[0;34m\u001b[0m\u001b[0;34m\u001b[0m\u001b[0m\n\u001b[0;32m--> 700\u001b[0;31m     \u001b[0moutput\u001b[0m \u001b[0;34m=\u001b[0m \u001b[0mrepr\u001b[0m\u001b[0;34m(\u001b[0m\u001b[0mobj\u001b[0m\u001b[0;34m)\u001b[0m\u001b[0;34m\u001b[0m\u001b[0;34m\u001b[0m\u001b[0m\n\u001b[0m\u001b[1;32m    701\u001b[0m     \u001b[0mlines\u001b[0m \u001b[0;34m=\u001b[0m \u001b[0moutput\u001b[0m\u001b[0;34m.\u001b[0m\u001b[0msplitlines\u001b[0m\u001b[0;34m(\u001b[0m\u001b[0;34m)\u001b[0m\u001b[0;34m\u001b[0m\u001b[0;34m\u001b[0m\u001b[0m\n\u001b[1;32m    702\u001b[0m     \u001b[0;32mwith\u001b[0m \u001b[0mp\u001b[0m\u001b[0;34m.\u001b[0m\u001b[0mgroup\u001b[0m\u001b[0;34m(\u001b[0m\u001b[0;34m)\u001b[0m\u001b[0;34m:\u001b[0m\u001b[0;34m\u001b[0m\u001b[0;34m\u001b[0m\u001b[0m\n",
      "\u001b[0;31mTypeError\u001b[0m: __repr__ returned non-string (type NoneType)"
     ]
    }
   ],
   "source": [
    "df = DataFrame(simple_table_rows, simple_table_labels)\n",
    "df"
   ]
  },
  {
   "cell_type": "code",
   "execution_count": 214,
   "id": "c77508a4-cff1-405a-af87-c7feab3cde2c",
   "metadata": {},
   "outputs": [
    {
     "ename": "NameError",
     "evalue": "name 'a' is not defined",
     "output_type": "error",
     "traceback": [
      "\u001b[0;31m--------------------------------------------------------------------------\u001b[0m",
      "\u001b[0;31mNameError\u001b[0m                                Traceback (most recent call last)",
      "\u001b[0;32m<ipython-input-214-ad32e43c764e>\u001b[0m in \u001b[0;36m<module>\u001b[0;34m\u001b[0m\n\u001b[0;32m----> 1\u001b[0;31m \u001b[0;32mif\u001b[0m \u001b[0ma\u001b[0m\u001b[0;34m:\u001b[0m\u001b[0;34m\u001b[0m\u001b[0;34m\u001b[0m\u001b[0m\n\u001b[0m\u001b[1;32m      2\u001b[0m     \u001b[0mprint\u001b[0m\u001b[0;34m(\u001b[0m\u001b[0;34m'e'\u001b[0m\u001b[0;34m)\u001b[0m\u001b[0;34m\u001b[0m\u001b[0;34m\u001b[0m\u001b[0m\n",
      "\u001b[0;31mNameError\u001b[0m: name 'a' is not defined"
     ]
    }
   ],
   "source": [
    "if a:\n",
    "    print('e')"
   ]
  },
  {
   "cell_type": "code",
   "execution_count": 6,
   "id": "d3dd26fc-8fcc-4e03-99fc-655dff71597f",
   "metadata": {},
   "outputs": [
    {
     "data": {
      "text/plain": [
       "(2, 2)"
      ]
     },
     "execution_count": 6,
     "metadata": {},
     "output_type": "execute_result"
    }
   ],
   "source": [
    "df.shape"
   ]
  },
  {
   "cell_type": "code",
   "execution_count": 15,
   "id": "44a061f7-a370-4525-878c-d6371b54d32d",
   "metadata": {},
   "outputs": [
    {
     "data": {
      "text/html": [
       "<table><tr><th>Year</th><th>Bread price</th><th>Eggs price</th><th>Average tank of gas</th><th>Rent per day</th></tr><tr><td>1990</td><td>1</td><td>1.5</td><td>12</td><td>7</td></tr><tr><td>2000</td><td>2</td><td>2.5</td><td>25</td><td>10</td></tr><tr><td>2010</td><td>5</td><td>4</td><td>70</td><td>36</td></tr></table>"
      ],
      "text/plain": [
       "<IPython.core.display.HTML object>"
      ]
     },
     "metadata": {},
     "output_type": "display_data"
    },
    {
     "name": "stdout",
     "output_type": "stream",
     "text": [
      "None\n"
     ]
    },
    {
     "ename": "TypeError",
     "evalue": "__repr__ returned non-string (type NoneType)",
     "output_type": "error",
     "traceback": [
      "\u001b[0;31m--------------------------------------------------------------------------\u001b[0m",
      "\u001b[0;31mTypeError\u001b[0m                                Traceback (most recent call last)",
      "\u001b[0;32m~/Library/Python/3.9/lib/python/site-packages/IPython/core/formatters.py\u001b[0m in \u001b[0;36m__call__\u001b[0;34m(self, obj)\u001b[0m\n\u001b[1;32m    700\u001b[0m                 \u001b[0mtype_pprinters\u001b[0m\u001b[0;34m=\u001b[0m\u001b[0mself\u001b[0m\u001b[0;34m.\u001b[0m\u001b[0mtype_printers\u001b[0m\u001b[0;34m,\u001b[0m\u001b[0;34m\u001b[0m\u001b[0;34m\u001b[0m\u001b[0m\n\u001b[1;32m    701\u001b[0m                 deferred_pprinters=self.deferred_printers)\n\u001b[0;32m--> 702\u001b[0;31m             \u001b[0mprinter\u001b[0m\u001b[0;34m.\u001b[0m\u001b[0mpretty\u001b[0m\u001b[0;34m(\u001b[0m\u001b[0mobj\u001b[0m\u001b[0;34m)\u001b[0m\u001b[0;34m\u001b[0m\u001b[0;34m\u001b[0m\u001b[0m\n\u001b[0m\u001b[1;32m    703\u001b[0m             \u001b[0mprinter\u001b[0m\u001b[0;34m.\u001b[0m\u001b[0mflush\u001b[0m\u001b[0;34m(\u001b[0m\u001b[0;34m)\u001b[0m\u001b[0;34m\u001b[0m\u001b[0;34m\u001b[0m\u001b[0m\n\u001b[1;32m    704\u001b[0m             \u001b[0;32mreturn\u001b[0m \u001b[0mstream\u001b[0m\u001b[0;34m.\u001b[0m\u001b[0mgetvalue\u001b[0m\u001b[0;34m(\u001b[0m\u001b[0;34m)\u001b[0m\u001b[0;34m\u001b[0m\u001b[0;34m\u001b[0m\u001b[0m\n",
      "\u001b[0;32m~/Library/Python/3.9/lib/python/site-packages/IPython/lib/pretty.py\u001b[0m in \u001b[0;36mpretty\u001b[0;34m(self, obj)\u001b[0m\n\u001b[1;32m    392\u001b[0m                         \u001b[0;32mif\u001b[0m \u001b[0mcls\u001b[0m \u001b[0;32mis\u001b[0m \u001b[0;32mnot\u001b[0m \u001b[0mobject\u001b[0m\u001b[0;31m \u001b[0m\u001b[0;31m\\\u001b[0m\u001b[0;34m\u001b[0m\u001b[0;34m\u001b[0m\u001b[0m\n\u001b[1;32m    393\u001b[0m                                 \u001b[0;32mand\u001b[0m \u001b[0mcallable\u001b[0m\u001b[0;34m(\u001b[0m\u001b[0mcls\u001b[0m\u001b[0;34m.\u001b[0m\u001b[0m__dict__\u001b[0m\u001b[0;34m.\u001b[0m\u001b[0mget\u001b[0m\u001b[0;34m(\u001b[0m\u001b[0;34m'__repr__'\u001b[0m\u001b[0;34m)\u001b[0m\u001b[0;34m)\u001b[0m\u001b[0;34m:\u001b[0m\u001b[0;34m\u001b[0m\u001b[0;34m\u001b[0m\u001b[0m\n\u001b[0;32m--> 394\u001b[0;31m                             \u001b[0;32mreturn\u001b[0m \u001b[0m_repr_pprint\u001b[0m\u001b[0;34m(\u001b[0m\u001b[0mobj\u001b[0m\u001b[0;34m,\u001b[0m \u001b[0mself\u001b[0m\u001b[0;34m,\u001b[0m \u001b[0mcycle\u001b[0m\u001b[0;34m)\u001b[0m\u001b[0;34m\u001b[0m\u001b[0;34m\u001b[0m\u001b[0m\n\u001b[0m\u001b[1;32m    395\u001b[0m \u001b[0;34m\u001b[0m\u001b[0m\n\u001b[1;32m    396\u001b[0m             \u001b[0;32mreturn\u001b[0m \u001b[0m_default_pprint\u001b[0m\u001b[0;34m(\u001b[0m\u001b[0mobj\u001b[0m\u001b[0;34m,\u001b[0m \u001b[0mself\u001b[0m\u001b[0;34m,\u001b[0m \u001b[0mcycle\u001b[0m\u001b[0;34m)\u001b[0m\u001b[0;34m\u001b[0m\u001b[0;34m\u001b[0m\u001b[0m\n",
      "\u001b[0;32m~/Library/Python/3.9/lib/python/site-packages/IPython/lib/pretty.py\u001b[0m in \u001b[0;36m_repr_pprint\u001b[0;34m(obj, p, cycle)\u001b[0m\n\u001b[1;32m    698\u001b[0m     \u001b[0;34m\"\"\"A pprint that just redirects to the normal repr function.\"\"\"\u001b[0m\u001b[0;34m\u001b[0m\u001b[0;34m\u001b[0m\u001b[0m\n\u001b[1;32m    699\u001b[0m     \u001b[0;31m# Find newlines and replace them with p.break_()\u001b[0m\u001b[0;34m\u001b[0m\u001b[0;34m\u001b[0m\u001b[0;34m\u001b[0m\u001b[0m\n\u001b[0;32m--> 700\u001b[0;31m     \u001b[0moutput\u001b[0m \u001b[0;34m=\u001b[0m \u001b[0mrepr\u001b[0m\u001b[0;34m(\u001b[0m\u001b[0mobj\u001b[0m\u001b[0;34m)\u001b[0m\u001b[0;34m\u001b[0m\u001b[0;34m\u001b[0m\u001b[0m\n\u001b[0m\u001b[1;32m    701\u001b[0m     \u001b[0mlines\u001b[0m \u001b[0;34m=\u001b[0m \u001b[0moutput\u001b[0m\u001b[0;34m.\u001b[0m\u001b[0msplitlines\u001b[0m\u001b[0;34m(\u001b[0m\u001b[0;34m)\u001b[0m\u001b[0;34m\u001b[0m\u001b[0;34m\u001b[0m\u001b[0m\n\u001b[1;32m    702\u001b[0m     \u001b[0;32mwith\u001b[0m \u001b[0mp\u001b[0m\u001b[0;34m.\u001b[0m\u001b[0mgroup\u001b[0m\u001b[0;34m(\u001b[0m\u001b[0;34m)\u001b[0m\u001b[0;34m:\u001b[0m\u001b[0;34m\u001b[0m\u001b[0;34m\u001b[0m\u001b[0m\n",
      "\u001b[0;31mTypeError\u001b[0m: __repr__ returned non-string (type NoneType)"
     ]
    }
   ],
   "source": [
    "df"
   ]
  },
  {
   "cell_type": "code",
   "execution_count": 16,
   "id": "1aafeafe-2c27-4ed6-b23a-ed05eeb5dccf",
   "metadata": {},
   "outputs": [],
   "source": [
    "class T88ble():\n",
    "    \"\"\"\n",
    "    T88ble is an object similar to the Data 8 Table object.\n",
    "    Here the internal representation is a list of rows.\n",
    "    \"\"\"\n",
    "    def __init__(self, rows=[], labels=[]):\n",
    "        self.rows = rows\n",
    "        self.column_labels = labels\n",
    "    #DO NOT CHANGE THE __repr__ functions\n",
    "    def __repr__(self):\n",
    "        result = \"\"\n",
    "        result += str(self.column_labels) + \"\\n\"\n",
    "        for row in self.rows:\n",
    "            result += str(row) + \"\\n\"\n",
    "        return result\n",
    "    def num_rows(self):\n",
    "        \"\"\"\n",
    "        Compute the number of rows in a table.\n",
    "\n",
    "        >>> simple_table = T88ble(simple_table_rows, simple_table_labels)\n",
    "        >>> simple_table.num_rows()\n",
    "        2\n",
    "        >>> longer_table = T88ble(longer_table_rows, longer_table_labels)\n",
    "        >>> longer_table.num_rows()\n",
    "        3\n",
    "        \"\"\"\n",
    "        \"*** YOUR CODE HERE ***\"\n",
    "        return len(self.rows)\n",
    "        \n",
    "\n",
    "    def num_cols(self):\n",
    "        \"\"\"\n",
    "        Compute the number of cols in a table.\n",
    "\n",
    "        >>> simple_table = T88ble(simple_table_rows, simple_table_labels)\n",
    "        >>> simple_table.num_cols()\n",
    "        2\n",
    "        >>> longer_table = T88ble(longer_table_rows, longer_table_labels)\n",
    "        >>> longer_table.num_cols()\n",
    "        5\n",
    "        \"\"\"\n",
    "        \"*** YOUR CODE HERE ***\"\n",
    "        return len(self.column_labels)\n",
    "        \n",
    "\n",
    "    def labels(self):\n",
    "        \"\"\"\n",
    "        Lists the column labels in a table.\n",
    "\n",
    "        >>> simple_table = T88ble(simple_table_rows, simple_table_labels)\n",
    "        >>> simple_table.labels()\n",
    "        ['Flavor', 'Price']\n",
    "        >>> longer_table = T88ble(longer_table_rows, longer_table_labels)\n",
    "        >>> labels = longer_table.labels() # Make sure to return and not print\n",
    "        >>> labels\n",
    "        ['Year', 'Bread price', 'Eggs price', 'Average tank of gas', 'Rent per day']\n",
    "        \"\"\"\n",
    "        \"*** YOUR CODE HERE ***\"\n",
    "        return self.column_labels\n",
    "\n",
    "\n",
    "    def column(self, label):\n",
    "        \"\"\"\n",
    "        Returns the values of the column represented by label.\n",
    "\n",
    "        >>> simple_table = T88ble(simple_table_rows, simple_table_labels)\n",
    "        >>> simple_table.column(\"Flavor\")\n",
    "        ['chocolate', 'vanilla']\n",
    "        >>> longer_table = T88ble(longer_table_rows, longer_table_labels)\n",
    "        >>> column = longer_table.column(\"Eggs price\")\n",
    "        >>> column # Make sure to return and not print\n",
    "        [1.5, 2.5, 4]\n",
    "        >>> longer_table # Make sure not to mutate the original table\n",
    "        ['Year', 'Bread price', 'Eggs price', 'Average tank of gas', 'Rent per day']\n",
    "        [1990, 1, 1.5, 12, 7]\n",
    "        [2000, 2, 2.5, 25, 10]\n",
    "        [2010, 5, 4, 70, 36]\n",
    "        \"\"\"\n",
    "        \"*** YOUR CODE HERE ***\"\n",
    "        index = self.column_labels.index(label)\n",
    "        return [i[index] for i in self.rows]\n",
    "        \n",
    "\n",
    "    def with_column(self, label, values):\n",
    "        \"\"\"\n",
    "        Returns a new table with an additional or replaced column.\n",
    "        label is a string for the name of a column, values is an list\n",
    "\n",
    "        >>> longer_table = T88ble(longer_table_rows, longer_table_labels)\n",
    "        >>> new_table = longer_table.with_column('Inflation rate', [i for i in range(longer_table.num_rows())])\n",
    "        >>> new_table\n",
    "        ['Year', 'Bread price', 'Eggs price', 'Average tank of gas', 'Rent per day', 'Inflation rate']\n",
    "        [1990, 1, 1.5, 12, 7, 0]\n",
    "        [2000, 2, 2.5, 25, 10, 1]\n",
    "        [2010, 5, 4, 70, 36, 2]\n",
    "        >>> longer_table # Make sure not to mutate the original table\n",
    "        ['Year', 'Bread price', 'Eggs price', 'Average tank of gas', 'Rent per day']\n",
    "        [1990, 1, 1.5, 12, 7]\n",
    "        [2000, 2, 2.5, 25, 10]\n",
    "        [2010, 5, 4, 70, 36]\n",
    "        \"\"\"\n",
    "        \"*** YOUR CODE HERE ***\"\n",
    "        '''\n",
    "        # Answer\n",
    "        new_table = T88ble([[1990, 1, 1.5, 12, 7, 0], [2000, 2, 2.5, 25, 10, 1], [2010, 5, 4, 70, 36, 2]], ['Year', 'Bread price', 'Eggs price', 'Average tank of gas', 'Rent per day', 'Inflation rate'])\n",
    "        return new_table\n",
    "        '''\n",
    "        import copy\n",
    "\n",
    "        new_rows = copy.deepcopy(self.rows)\n",
    "        for i in range(len(values)):\n",
    "            new_rows[i].append(values[i])\n",
    "\n",
    "        new_column_labels = self.column_labels.copy()\n",
    "        new_column_labels.append(label)\n",
    "\n",
    "        new_table = T88ble(new_rows, new_column_labels)\n",
    "        return new_table\n",
    "\n",
    "\n",
    "    def select(self, labels):\n",
    "        \"\"\"\n",
    "        Create a copy of a table with only some of the columns,\n",
    "        reffered to by the list of labels.\n",
    "\n",
    "        >>> simple_table = T88ble(simple_table_rows, simple_table_labels)\n",
    "        >>> simple_table.select([\"Flavor\"])\n",
    "        ['Flavor']\n",
    "        ['chocolate']\n",
    "        ['vanilla']\n",
    "        >>> simple_table\n",
    "        ['Flavor', 'Price']\n",
    "        ['chocolate', 2]\n",
    "        ['vanilla', 1]\n",
    "        >>> longer_table = T88ble(longer_table_rows, longer_table_labels)\n",
    "        >>> selected = longer_table.select(['Year', 'Average tank of gas'])\n",
    "        >>> selected # Make sure to return and not print\n",
    "        ['Year', 'Average tank of gas']\n",
    "        [1990, 12]\n",
    "        [2000, 25]\n",
    "        [2010, 70]\n",
    "        >>> longer_table\n",
    "        ['Year', 'Bread price', 'Eggs price', 'Average tank of gas', 'Rent per day']\n",
    "        [1990, 1, 1.5, 12, 7]\n",
    "        [2000, 2, 2.5, 25, 10]\n",
    "        [2010, 5, 4, 70, 36]\n",
    "        \"\"\"\n",
    "        \"*** YOUR CODE HERE ***\"\n",
    "        # Indexes are the labels' indexes in self.column_labels\n",
    "        indexes = [self.column_labels.index(i) for i in labels]\n",
    "        new_rows = []\n",
    "\n",
    "        # Extract each item from the index of each row\n",
    "        for  i in self.rows:\n",
    "            new_rows.append([i[index] for index in indexes])\n",
    "\n",
    "        new_table = T88ble(new_rows, labels)\n",
    "        return new_table\n",
    "        \n",
    "\n",
    "    def where(self, label, filter_fn):\n",
    "        \"\"\"\n",
    "        Create a copy of a table with only the rows that match a filter function.\n",
    "\n",
    "        >>> def above(x):\n",
    "        ...     return lambda y: y > x\n",
    "        ...\n",
    "        >>> longer_table = T88ble(longer_table_rows, longer_table_labels)\n",
    "        >>> filtered = longer_table.where('Eggs price', above(2))\n",
    "        >>> filtered\n",
    "        ['Year', 'Bread price', 'Eggs price', 'Average tank of gas', 'Rent per day']\n",
    "        [2000, 2, 2.5, 25, 10]\n",
    "        [2010, 5, 4, 70, 36]\n",
    "        >>> longer_table\n",
    "        ['Year', 'Bread price', 'Eggs price', 'Average tank of gas', 'Rent per day']\n",
    "        [1990, 1, 1.5, 12, 7]\n",
    "        [2000, 2, 2.5, 25, 10]\n",
    "        [2010, 5, 4, 70, 36]\n",
    "        \"\"\"\n",
    "        \"*** YOUR CODE HERE ***\"\n",
    "        index = self.column_labels.index(label)\n",
    "        new_rows = []\n",
    "\n",
    "        for  i in self.rows:\n",
    "            if filter_fn(i[index]):\n",
    "                new_rows.append(i)\n",
    "\n",
    "        new_table = T88ble(new_rows, self.column_labels)\n",
    "        return new_table"
   ]
  },
  {
   "cell_type": "code",
   "execution_count": 17,
   "id": "c43ec400-4ce0-4033-aaa7-8177048ae4b6",
   "metadata": {},
   "outputs": [
    {
     "data": {
      "text/plain": [
       "['Year', 'Bread price', 'Eggs price', 'Average tank of gas', 'Rent per day']\n",
       "[1990, 1, 1.5, 12, 7]\n",
       "[2000, 2, 2.5, 25, 10]\n",
       "[2010, 5, 4, 70, 36]"
      ]
     },
     "execution_count": 17,
     "metadata": {},
     "output_type": "execute_result"
    }
   ],
   "source": [
    "longer_table = T88ble(longer_table_rows, longer_table_labels)\n",
    "longer_table"
   ]
  },
  {
   "cell_type": "code",
   "execution_count": null,
   "id": "5ee06f8b-07d0-4dbb-bb51-9f8e17df8eb0",
   "metadata": {},
   "outputs": [],
   "source": [
    "df"
   ]
  }
 ],
 "metadata": {
  "interpreter": {
   "hash": "aee8b7b246df8f9039afb4144a1f6fd8d2ca17a180786b69acc140d282b71a49"
  },
  "kernelspec": {
   "display_name": "Python 3.9.7 64-bit",
   "name": "python3"
  },
  "language_info": {
   "codemirror_mode": {
    "name": "ipython",
    "version": 3
   },
   "file_extension": ".py",
   "mimetype": "text/x-python",
   "name": "python",
   "nbconvert_exporter": "python",
   "pygments_lexer": "ipython3",
   "version": "3.9.8"
  }
 },
 "nbformat": 4,
 "nbformat_minor": 5
}
