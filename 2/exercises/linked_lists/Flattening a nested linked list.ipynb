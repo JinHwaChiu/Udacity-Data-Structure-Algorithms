{
 "cells": [
  {
   "cell_type": "markdown",
   "metadata": {},
   "source": [
    "## Flattening a nested linked list\n",
    "\n",
    "Suppose you have a linked list where the value of each node is a sorted linked list (i.e., it is a _nested_ list). Your task is to _flatten_ this nested list—that is, to combine all nested lists into a single (sorted) linked list.\n",
    "\n",
    "First, we'll need some code for generating nodes and a linked list:"
   ]
  },
  {
   "cell_type": "code",
   "execution_count": 647,
   "metadata": {},
   "outputs": [],
   "source": [
    "# Helper code\n",
    "import copy\n",
    "\n",
    "# A class behaves like a data-type, just like an int, float or any other built-in ones. \n",
    "# User defined class\n",
    "class Node:\n",
    "    def __init__(self, value): # <-- For simple LinkedList, \"value\" argument will be an int, whereas, for NestedLinkedList, \"value\" will be a LinkedList\n",
    "        self.value = value\n",
    "        self.next = None\n",
    "    \n",
    "    def __repr__(self):\n",
    "        return str(self.value)\n",
    "    \n",
    "# User defined class\n",
    "class LinkedList: \n",
    "    def __init__(self, head): # <-- Expects \"head\" to be a Node made up of an int or LinkedList\n",
    "        self.head = head\n",
    "    \n",
    "    '''\n",
    "    For creating a simple LinkedList, we will pass an integer as the \"value\" argument\n",
    "    For creating a nested LinkedList, we will pass a LinkedList as the \"value\" argument\n",
    "    '''\n",
    "    def append(self, value):\n",
    "        \n",
    "        # If LinkedList is empty\n",
    "        if self.head is None:\n",
    "            self.head = Node(value)\n",
    "            return\n",
    "        \n",
    "        # Create a temporary Node object\n",
    "        node = self.head\n",
    "        \n",
    "        # Iterate till the end of the currrent LinkedList\n",
    "        while node.next is not None:\n",
    "            node = node.next\n",
    "        \n",
    "        # Append the newly creataed Node at the end of the currrent LinkedList\n",
    "        node.next = Node(value)\n",
    "\n",
    "        \n",
    "    '''We will need this function to convert a LinkedList object into a Python list of integers'''\n",
    "    def to_list(self):\n",
    "        out = []          # <-- Declare a Python list\n",
    "        node = self.head  # <-- Create a temporary Node object\n",
    "        \n",
    "        while node:       # <-- Iterate untill we have nodes available\n",
    "            #out.append(int(str(node.value))) # <-- node.value is actually of type Node, therefore convert it into int before appending to the Python list\n",
    "            out.append(node.value)\n",
    "            node = node.next\n",
    "        return out\n",
    "    \n",
    "    # O(1)\n",
    "    def __len__(self):\n",
    "        \"\"\" Return the size or length of the linked list. \"\"\"\n",
    "        # TODO: Write function to get size here\n",
    "        count = 0\n",
    "        node = self.head\n",
    "        while node:\n",
    "            count += 1\n",
    "            node = node.next\n",
    "        return count\n",
    "    \n",
    "    def pop(self):\n",
    "        \"\"\" Return the first node's value and remove it from the list. \"\"\"\n",
    "        # TODO: Write function to pop here\n",
    "        if self.head is None:\n",
    "            return\n",
    "\n",
    "        node = self.head\n",
    "        self.head = self.head.next\n",
    "\n",
    "        return node.value\n",
    "    \n",
    "    def __getitem__(self, idx):\n",
    "        if self.head is None:\n",
    "            return\n",
    "        \n",
    "        try:\n",
    "            start, stop = idx.start, idx.stop\n",
    "            if stop is None:\n",
    "                stop = len(self)\n",
    "        except:\n",
    "            start, stop = idx, idx\n",
    "        \n",
    "        # 1. Define the start_node\n",
    "        node, count = self.head, 0\n",
    "        while count < start:\n",
    "            count += 1\n",
    "            node = node.next\n",
    "        else:\n",
    "            new_list = LinkedList(node) # Initialize new_list. The new_list contains all items from start\n",
    "\n",
    "        new_list = new_list.copy()\n",
    "        if stop == len(self):\n",
    "            return new_list\n",
    "        \n",
    "        # 2. Make the tail.next is None to cut new_list\n",
    "        node = new_list.head\n",
    "        while count < stop:\n",
    "            count += 1\n",
    "            node = node.next\n",
    "        else:\n",
    "            node.next = None\n",
    "\n",
    "        return new_list\n",
    "\n",
    "    def __iter__(self):\n",
    "        node = self.head\n",
    "        while node:\n",
    "            yield node.value\n",
    "            node = node.next\n",
    "            \n",
    "    def __add__(self, lst):\n",
    "        '''\n",
    "        The arguments list1, list2 must be of type LinkedList.\n",
    "        The merge() function must return an instance of LinkedList.\n",
    "        '''\n",
    "        if self.head is None:\n",
    "            return lst\n",
    "        if lst is None:\n",
    "            return self\n",
    "\n",
    "        new_list = self.copy()        \n",
    "        node = new_list.head\n",
    "        while node.next is not None:\n",
    "            node = node.next\n",
    "        else:\n",
    "            node.next = lst.head # Merge the list2.head to the tail of merged\n",
    "        return new_list\n",
    "\n",
    "    def copy(self, deep=True):\n",
    "        if deep:\n",
    "            return copy.deepcopy(self)\n",
    "        else:\n",
    "            return copy.copy(self)"
   ]
  },
  {
   "cell_type": "code",
   "execution_count": 648,
   "metadata": {},
   "outputs": [
    {
     "data": {
      "text/plain": [
       "[1, 2, 3, 4, 5, 6, 7, 8, 9]"
      ]
     },
     "execution_count": 648,
     "metadata": {},
     "output_type": "execute_result"
    }
   ],
   "source": [
    "# Test append - 0\n",
    "linked_list = LinkedList(None)\n",
    "for i in range(1, 10):\n",
    "    linked_list.append(i)\n",
    "\n",
    "linked_list.to_list()"
   ]
  },
  {
   "cell_type": "code",
   "execution_count": 572,
   "metadata": {},
   "outputs": [
    {
     "name": "stdout",
     "output_type": "stream",
     "text": [
      "[1, 2, 3, 4, 5, 6, 7, 8, 9]\n",
      "[1, 2, 3, 4, 5, 6, 7, 8, 9, 10]\n"
     ]
    }
   ],
   "source": [
    "# Test copy\n",
    "_ = linked_list.copy()\n",
    "_.append(10)\n",
    "\n",
    "print(linked_list.to_list())\n",
    "print(_.to_list())"
   ]
  },
  {
   "cell_type": "code",
   "execution_count": 573,
   "metadata": {},
   "outputs": [
    {
     "name": "stdout",
     "output_type": "stream",
     "text": [
      "1\n",
      "2\n",
      "3\n",
      "4\n",
      "5\n",
      "6\n",
      "7\n",
      "8\n",
      "9\n"
     ]
    }
   ],
   "source": [
    "# Test __iter__\n",
    "for i in linked_list:\n",
    "    print(i)"
   ]
  },
  {
   "cell_type": "code",
   "execution_count": 574,
   "metadata": {},
   "outputs": [
    {
     "name": "stdout",
     "output_type": "stream",
     "text": [
      "[4]\n",
      "[4, 5, 6]\n",
      "[4, 5, 6, 7, 8, 9]\n"
     ]
    }
   ],
   "source": [
    "# Test slicing: __getitem__\n",
    "print(linked_list[3].to_list())\n",
    "print(linked_list[3:5].to_list())\n",
    "print(linked_list[3:].to_list())"
   ]
  },
  {
   "cell_type": "code",
   "execution_count": 567,
   "metadata": {},
   "outputs": [
    {
     "data": {
      "text/plain": [
       "0"
      ]
     },
     "execution_count": 567,
     "metadata": {},
     "output_type": "execute_result"
    }
   ],
   "source": [
    "LinkedList(Node(0)).head"
   ]
  },
  {
   "cell_type": "code",
   "execution_count": 568,
   "metadata": {},
   "outputs": [
    {
     "data": {
      "text/plain": [
       "[0]"
      ]
     },
     "execution_count": 568,
     "metadata": {},
     "output_type": "execute_result"
    }
   ],
   "source": [
    "# Test +: __add__ - 0\n",
    "(LinkedList(Node(0)) + LinkedList(None)).to_list()"
   ]
  },
  {
   "cell_type": "code",
   "execution_count": 595,
   "metadata": {},
   "outputs": [
    {
     "data": {
      "text/plain": [
       "[]"
      ]
     },
     "execution_count": 595,
     "metadata": {},
     "output_type": "execute_result"
    }
   ],
   "source": [
    "# Test +: __add__ - 1\n",
    "(LinkedList(None) + LinkedList(None)).to_list()"
   ]
  },
  {
   "cell_type": "code",
   "execution_count": 446,
   "metadata": {},
   "outputs": [
    {
     "name": "stdout",
     "output_type": "stream",
     "text": [
      "[1, 10, 11]\n",
      "[2, 20, 21]\n",
      "[1, 10, 11, 2, 20, 21]\n",
      "[1, 10, 11, 2, 20, 21, 2, 20, 21]\n"
     ]
    }
   ],
   "source": [
    "# Test +: __add__ - 2\n",
    "list1, list2 = LinkedList(Node(1)), LinkedList(Node(2))\n",
    "for i in range(10, 12):\n",
    "    list1.append(i)\n",
    "for i in range(20, 22):\n",
    "    list2.append(i)\n",
    "    \n",
    "print(list1.to_list())\n",
    "print(list2.to_list())\n",
    "print((list1 + list2).to_list())\n",
    "print((list1 + list2 + list2).to_list())"
   ]
  },
  {
   "cell_type": "markdown",
   "metadata": {},
   "source": [
    "### Exercise - Write the two function definitions below\n",
    "Now, in the cell below, see if you can solve the problem by implementing the `flatten` method.\n",
    "\n",
    "**Hint**: If you first create a `merge` method that merges two linked lists into a sorted linked list, then there is an elegant recursive solution."
   ]
  },
  {
   "cell_type": "code",
   "execution_count": 585,
   "metadata": {},
   "outputs": [],
   "source": [
    "def merge(list1, list2, sort=False):\n",
    "    # TODO: Implement this function so that it merges the two linked lists in a single, sorted linked list.\n",
    "    '''\n",
    "    The arguments list1, list2 must be of type LinkedList.\n",
    "    The merge() function must return an instance of LinkedList.\n",
    "    '''\n",
    "    if list1 is None:\n",
    "        return list2\n",
    "    if list2 is None:\n",
    "        return list1\n",
    "    \n",
    "    merged = list1.copy()\n",
    "    node = merged.head\n",
    "    while node.next is not None:\n",
    "        node = node.next\n",
    "    else:\n",
    "        node.next = list2.head # Merge the list2.head to the tail of merged\n",
    "    \n",
    "    if sort == False:\n",
    "        return merged\n",
    "    else:\n",
    "        return quicksort(merged)\n",
    "\n",
    "\n",
    "def quicksort(lst):\n",
    "    \"\"\"quicksort returns the sorted lst. \n",
    "    \n",
    "    Args:\n",
    "        lst (LinkedList): A LinkedList object.\n",
    "        \n",
    "    Returns:\n",
    "        sorted_lst (LinkedList): The sorted LinkedList object.\n",
    "    \"\"\"\n",
    "    if not lst:\n",
    "        return lst\n",
    "    else:\n",
    "        pivot = lst.pop() # Get the value of lst's head, and remove it\n",
    "        smaller, bigger = [], []\n",
    "        \n",
    "        for i in lst:\n",
    "            if i > pivot:\n",
    "                bigger.append(i)\n",
    "            else:\n",
    "                smaller.append(i)\n",
    "        return quicksort(smaller) + [pivot] + quicksort(bigger)\n",
    "\n",
    "# Θ(n log(n))\n",
    "def quicksort(lst):\n",
    "    \"\"\"quicksort returns the sorted lst. \n",
    "    \n",
    "    Args:\n",
    "        lst (LinkedList): A LinkedList object.\n",
    "        \n",
    "    Returns:\n",
    "        sorted_lst (LinkedList): The sorted LinkedList object.\n",
    "    \"\"\"\n",
    "    lst = lst.copy()\n",
    "\n",
    "    if len(lst) <= 1:\n",
    "        return lst\n",
    "    else:\n",
    "        '''debug\n",
    "        print(f'lst: {lst.to_list()}')\n",
    "        '''\n",
    "        pivot = lst.pop() # Get the value of lst's head, and remove it\n",
    "        smaller, bigger = LinkedList(None), LinkedList(None)\n",
    "        \n",
    "        for i in lst:\n",
    "            #print(f'i: {i}')\n",
    "            if i > pivot:\n",
    "                bigger.append(i)\n",
    "            else:\n",
    "                smaller.append(i)\n",
    "        \n",
    "        '''debug\n",
    "        print(f'smaller: {smaller.to_list()}')\n",
    "        print(f'pivot: {pivot}')\n",
    "        print(f'bigger: {bigger.to_list()}')\n",
    "        print('')\n",
    "        '''\n",
    "        return quicksort(smaller) + LinkedList(Node(pivot)) + quicksort(bigger)\n",
    "\n",
    "\n",
    "''' In a NESTED LinkedList object, each node will be a simple LinkedList in itself'''\n",
    "class NestedLinkedList(LinkedList):\n",
    "    def flatten(self):\n",
    "        # TODO: Implement this method to flatten the linked list in ascending sorted order.\n",
    "        pass"
   ]
  },
  {
   "cell_type": "code",
   "execution_count": 586,
   "metadata": {},
   "outputs": [
    {
     "name": "stdout",
     "output_type": "stream",
     "text": [
      "[1, 10, 11]\n",
      "[2, 20, 21]\n",
      "[1, 10, 11, 2, 20, 21]\n"
     ]
    }
   ],
   "source": [
    "# Test merge\n",
    "list1, list2 = LinkedList(Node(1)), LinkedList(Node(2))\n",
    "for i in range(10, 12):\n",
    "    list1.append(i)\n",
    "for i in range(20, 22):\n",
    "    list2.append(i)\n",
    "    \n",
    "print(list1.to_list())\n",
    "print(list2.to_list())\n",
    "print(merge(list1, list2).to_list())"
   ]
  },
  {
   "cell_type": "code",
   "execution_count": 587,
   "metadata": {},
   "outputs": [
    {
     "name": "stdout",
     "output_type": "stream",
     "text": [
      "[3, 2, 1]\n",
      "[1, 2, 3]\n"
     ]
    }
   ],
   "source": [
    "# Test quicksort - 0\n",
    "list321 = LinkedList(Node(3))\n",
    "list321.append(2)\n",
    "list321.append(1)\n",
    "\n",
    "print(list321.to_list())\n",
    "print(quicksort(list321).to_list())"
   ]
  },
  {
   "cell_type": "code",
   "execution_count": 588,
   "metadata": {},
   "outputs": [
    {
     "name": "stdout",
     "output_type": "stream",
     "text": [
      "[2, 20, 21, 1, 10, 11]\n",
      "[1, 2, 10, 11, 20, 21]\n"
     ]
    }
   ],
   "source": [
    "# Test quicksort - 1\n",
    "print((list2 + list1).to_list())\n",
    "list3 = list2 + list1\n",
    "print(quicksort(list3).to_list())"
   ]
  },
  {
   "cell_type": "code",
   "execution_count": 589,
   "metadata": {},
   "outputs": [
    {
     "name": "stdout",
     "output_type": "stream",
     "text": [
      "[1, 2, 3, 4, 5]\n"
     ]
    }
   ],
   "source": [
    "# Test quicksort - 2\n",
    "list321 = LinkedList(Node(3))\n",
    "list321.append(2)\n",
    "list321.append(1)\n",
    "list321.append(5)\n",
    "list321.append(4)\n",
    "\n",
    "#print(list321.to_list())\n",
    "print(quicksort(list321).to_list())"
   ]
  },
  {
   "cell_type": "code",
   "execution_count": 592,
   "metadata": {},
   "outputs": [
    {
     "name": "stdout",
     "output_type": "stream",
     "text": [
      "[2, 8, 5, 0, 6, 7, 3, 1, 9, 4]\n",
      "[0, 1, 2, 3, 4, 5, 6, 7, 8, 9]\n"
     ]
    }
   ],
   "source": [
    "# Test quicksort - 3\n",
    "import random\n",
    "list_ = LinkedList(None)\n",
    "for i in random.sample(range(10), k=10):\n",
    "    list_.append(i)\n",
    "\n",
    "print(list_.to_list())\n",
    "print(quicksort(list_).to_list())"
   ]
  },
  {
   "cell_type": "code",
   "execution_count": 593,
   "metadata": {},
   "outputs": [
    {
     "name": "stdout",
     "output_type": "stream",
     "text": [
      "[1, 2, 10, 11, 20, 21]\n"
     ]
    }
   ],
   "source": [
    "# Test quicksort - 4\n",
    "print(merge(list1, list2, sort=True).to_list())"
   ]
  },
  {
   "cell_type": "markdown",
   "metadata": {},
   "source": [
    "### Test - Let's test your function\n",
    "Here's some code that will generate a nested linked list that we can use to test the solution:"
   ]
  },
  {
   "cell_type": "code",
   "execution_count": null,
   "metadata": {},
   "outputs": [],
   "source": [
    "# First Test scenario\n",
    "''' Create a simple LinkedList'''\n",
    "linked_list = LinkedList(Node(1)) # <-- Notice that we are passing a Node made up of an integer\n",
    "linked_list.append(3) # <-- Notice that we are passing a numerical value as an argument in the append() function here \n",
    "linked_list.append(5)\n",
    "\n",
    "''' Create another simple LinkedList'''\n",
    "second_linked_list = LinkedList(Node(2))\n",
    "second_linked_list.append(4)\n",
    "\n",
    "''' Create a NESTED LinkedList, where each node will be a simple LinkedList in itself'''\n",
    "nested_linked_list = NestedLinkedList(Node(linked_list)) # <-- Notice that we are passing a Node made up of a simple LinkedList object\n",
    "nested_linked_list.append(second_linked_list) # <-- Notice that we are passing a LinkedList object in the append() function here"
   ]
  },
  {
   "cell_type": "markdown",
   "metadata": {},
   "source": [
    "#### Structure of the nested linked list to be tested\n",
    "`nested_linked_list` should now have 2 nodes.  The head node is a linked list containing `1, 3, 5`.  The second node is a linked list containing `2, 4`.\n",
    "\n",
    "Calling `flatten` should return a linked list containing `1, 2, 3, 4, 5`."
   ]
  },
  {
   "cell_type": "code",
   "execution_count": null,
   "metadata": {
    "scrolled": true
   },
   "outputs": [],
   "source": [
    "solution = nested_linked_list.flatten() # <-- returns A LinkedList object\n",
    "\n",
    "expected_list = [1,2,3,4,5] # <-- Python list\n",
    "\n",
    "# Convert the \"solution\" into a Python list and compare with another Python list\n",
    "assert solution.to_list() == expected_list, f\"list contents: {solution.to_list()}\""
   ]
  },
  {
   "cell_type": "markdown",
   "metadata": {},
   "source": [
    "### Solution"
   ]
  },
  {
   "cell_type": "markdown",
   "metadata": {},
   "source": [
    "First, let's implement a `merge` function that takes in two linked lists and returns one sorted linked list.  Note, this implementation expects both linked lists to be sorted."
   ]
  },
  {
   "cell_type": "code",
   "execution_count": 40,
   "metadata": {},
   "outputs": [],
   "source": [
    "def merge(list1, list2):\n",
    "    merged = LinkedList(None)\n",
    "    if list1 is None:\n",
    "        return list2\n",
    "    if list2 is None:\n",
    "        return list1\n",
    "    list1_elt = list1.head\n",
    "    list2_elt = list2.head\n",
    "    while list1_elt is not None or list2_elt is not None:\n",
    "        if list1_elt is None:\n",
    "            merged.append(list2_elt)\n",
    "            list2_elt = list2_elt.next\n",
    "        elif list2_elt is None:\n",
    "            merged.append(list1_elt)\n",
    "            list1_elt = list1_elt.next\n",
    "        elif list1_elt.value <= list2_elt.value:\n",
    "            merged.append(list1_elt)\n",
    "            list1_elt = list1_elt.next\n",
    "        else:\n",
    "            merged.append(list2_elt)\n",
    "            list2_elt = list2_elt.next\n",
    "    return merged"
   ]
  },
  {
   "cell_type": "markdown",
   "metadata": {},
   "source": [
    "Let's make sure merge works how we expect:"
   ]
  },
  {
   "cell_type": "code",
   "execution_count": null,
   "metadata": {},
   "outputs": [],
   "source": [
    "''' Test merge() function'''\n",
    "linked_list = LinkedList(Node(1))\n",
    "linked_list.append(3)\n",
    "linked_list.append(5)\n",
    "\n",
    "second_linked_list = LinkedList(Node(2))\n",
    "second_linked_list.append(4)\n",
    "\n",
    "merged = merge(linked_list, second_linked_list)\n",
    "node = merged.head\n",
    "while node is not None:\n",
    "    #This will print 1 2 3 4 5\n",
    "    print(node.value)\n",
    "    node = node.next\n",
    "    \n",
    "# Lets make sure it works with a None list\n",
    "merged = merge(None, linked_list)\n",
    "node = merged.head\n",
    "while node is not None:\n",
    "    #This will print 1 3 5\n",
    "    print(node.value)\n",
    "    node = node.next"
   ]
  },
  {
   "cell_type": "markdown",
   "metadata": {},
   "source": [
    "Now let's implement `flatten` recursively using merge."
   ]
  },
  {
   "cell_type": "code",
   "execution_count": null,
   "metadata": {},
   "outputs": [],
   "source": [
    "''' In a NESTED LinkedList object, each node will be a simple LinkedList in itself'''\n",
    "class NestedLinkedList(LinkedList):\n",
    "    def flatten(self):\n",
    "        return self._flatten(self.head) # <-- self.head is a node for NestedLinkedList\n",
    "\n",
    "    '''  A recursive function ''' \n",
    "    def _flatten(self, node):\n",
    "        \n",
    "        # A termination condition\n",
    "        if node.next is None:\n",
    "            return merge(node.value, None) # <-- First argument is a simple LinkedList\n",
    "        \n",
    "        # _flatten() is calling itself untill a termination condition is achieved\n",
    "        return merge(node.value, self._flatten(node.next)) # <-- Both arguments are a simple LinkedList each"
   ]
  },
  {
   "cell_type": "code",
   "execution_count": null,
   "metadata": {},
   "outputs": [],
   "source": [
    "''' Test flatten() function'''\n",
    "# Create a nested linked list with one node. \n",
    "# The node itself is a simple linked list as 1-->3-->5 created previously\n",
    "nested_linked_list = NestedLinkedList(Node(linked_list))\n",
    "\n",
    "# Append a node (a linked list as 2-->4) to the existing nested linked list\n",
    "nested_linked_list.append(second_linked_list)\n",
    "\n",
    "# Call the `flatten()` function\n",
    "flattened = nested_linked_list.flatten()\n",
    "\n",
    "# Logic to print the flattened list\n",
    "node = flattened.head\n",
    "while node is not None:\n",
    "    #This will print 1 2 3 4 5\n",
    "    print(node.value)\n",
    "    node = node.next"
   ]
  },
  {
   "cell_type": "markdown",
   "metadata": {},
   "source": [
    "### Computational Complexity\n",
    "Lets start with the computational complexity of `merge`.  Merge takes in two lists.  Let's say the lengths of the lists are $N_{1}$ and $N_{2}$. Because we assume the inputs are sorted, `merge` is very efficient. It looks at the first element of each list and adds the smaller one to the returned list.  Every time through the loop we are appending one element to the list, so it will take $N_{1} + N_{2}$ iterations until we have the whole list.\n",
    "\n",
    "The complexity of `flatten` is a little more complicated to calculate.  Suppose our `NestedLinkedList` has $N$ linked lists and each list's length is represented by $M_{1}, M_{2}, ..., M_{N}$.\n",
    "\n",
    "We can represent this recursion as:\n",
    "\n",
    "$merge(M_{1}, merge(M_{2}, merge(..., merge(M_{N-1}, merge(M_{N}, None)))))$\n",
    "\n",
    "Let's start from the inside.  The inner most merge returns the $nth$ linked list.  The next merge does $M_{N-1} + M_{N}$ comparisons.  The next merge does $M_{N-2} + M_{N-1} + M_{N}$ comparisons.\n",
    "\n",
    "Eventually we will do $N$ comparisons on all of the $M_{N}$ elements. We will do $N-1$ comparisons on $M_{N-1}$ elements.\n",
    "\n",
    "This can be generalized as:\n",
    "\n",
    "$$\n",
    "\\sum_n^N n*M_{n}\n",
    "$$"
   ]
  },
  {
   "cell_type": "code",
   "execution_count": null,
   "metadata": {},
   "outputs": [],
   "source": []
  }
 ],
 "metadata": {
  "kernelspec": {
   "display_name": "Python 3 (ipykernel)",
   "language": "python",
   "name": "python3"
  },
  "language_info": {
   "codemirror_mode": {
    "name": "ipython",
    "version": 3
   },
   "file_extension": ".py",
   "mimetype": "text/x-python",
   "name": "python",
   "nbconvert_exporter": "python",
   "pygments_lexer": "ipython3",
   "version": "3.9.7"
  }
 },
 "nbformat": 4,
 "nbformat_minor": 4
}
