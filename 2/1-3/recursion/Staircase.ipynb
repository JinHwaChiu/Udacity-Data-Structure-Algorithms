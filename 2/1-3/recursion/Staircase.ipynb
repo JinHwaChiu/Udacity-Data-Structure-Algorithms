{
 "cells": [
  {
   "cell_type": "markdown",
   "metadata": {
    "graffitiCellId": "id_v5swjqy"
   },
   "source": [
    "### Problem Statement\n",
    "\n",
    "Suppose there is a staircase that you can climb in either 1 step, 2 steps, or 3 steps. In how many possible ways can you climb the staircase if the staircase has `n` steps? Write a recursive function to solve the problem.\n",
    "\n",
    "**Example:**\n",
    "\n",
    "* `n == 1` then `answer = 1`\n",
    "\n",
    "* `n == 3` then `answer = 4`<br>\n",
    "   The output is `4` because there are four ways we can climb the staircase:\n",
    "    - 1 step +  1 step + 1 step\n",
    "    - 1 step + 2 steps \n",
    "    - 2 steps + 1 step\n",
    "    - 3 steps\n",
    "* `n == 5` then `answer = 13`\n"
   ]
  },
  {
   "cell_type": "markdown",
   "metadata": {
    "graffitiCellId": "id_74s7rzj"
   },
   "source": [
    "### Exercise - Write a recursive function to solve this problem"
   ]
  },
  {
   "cell_type": "code",
   "execution_count": 1,
   "metadata": {
    "graffitiCellId": "id_yv3ymjf"
   },
   "outputs": [
    {
     "name": "stdout",
     "output_type": "stream",
     "text": [
      "CPU times: user 3.83 s, sys: 19.5 ms, total: 3.84 s\n",
      "Wall time: 3.85 s\n"
     ]
    },
    {
     "data": {
      "text/plain": [
       "53798080"
      ]
     },
     "execution_count": 1,
     "metadata": {},
     "output_type": "execute_result"
    }
   ],
   "source": [
    "%%time\n",
    "\"\"\"\n",
    "param: n - number of steps in the staircase\n",
    "Return number of possible ways in which you can climb the staircase\n",
    "\"\"\"\n",
    "# O(3^n)\n",
    "def staircase(n):\n",
    "    '''Hint'''\n",
    "    # Base Case - What holds true for minimum steps possible i.e., n == 0, 1, 2 or 3? Return the number of ways the child can climb n steps.\n",
    "    \n",
    "    # Recursive Step - Split the solution into base case if n > 3.\n",
    "    if n == 1: # 1\n",
    "        return 1\n",
    "    elif n == 2: # 1 - 1, 2\n",
    "        return 2\n",
    "    elif n == 3: # 1 - 1 - 1, 1 - 2, 2 - 1, 3\n",
    "        return 4\n",
    "    \n",
    "    return staircase(n - 1) + staircase(n - 2) + staircase(n - 3)\n",
    "\n",
    "staircase(30)"
   ]
  },
  {
   "cell_type": "code",
   "execution_count": 2,
   "metadata": {},
   "outputs": [],
   "source": [
    "from functools import cache"
   ]
  },
  {
   "cell_type": "code",
   "execution_count": 3,
   "metadata": {},
   "outputs": [
    {
     "name": "stdout",
     "output_type": "stream",
     "text": [
      "CPU times: user 45 µs, sys: 3 µs, total: 48 µs\n",
      "Wall time: 49.8 µs\n"
     ]
    },
    {
     "data": {
      "text/plain": [
       "53798080"
      ]
     },
     "execution_count": 3,
     "metadata": {},
     "output_type": "execute_result"
    }
   ],
   "source": [
    "%%time\n",
    "\"\"\"\n",
    "param: n - number of steps in the staircase\n",
    "Return number of possible ways in which you can climb the staircase\n",
    "\"\"\"\n",
    "# O(3^n)\n",
    "@cache\n",
    "def staircase(n):\n",
    "    '''Hint'''\n",
    "    # Base Case - What holds true for minimum steps possible i.e., n == 0, 1, 2 or 3? Return the number of ways the child can climb n steps.\n",
    "    \n",
    "    # Recursive Step - Split the solution into base case if n > 3.\n",
    "    if n == 1: # 1\n",
    "        return 1\n",
    "    elif n == 2: # 1 - 1, 2\n",
    "        return 2\n",
    "    elif n == 3: # 1 - 1 - 1, 1 - 2, 2 - 1, 3\n",
    "        return 4\n",
    "    \n",
    "    return staircase(n - 1) + staircase(n - 2) + staircase(n - 3)\n",
    "\n",
    "staircase(30)"
   ]
  },
  {
   "cell_type": "code",
   "execution_count": 4,
   "metadata": {},
   "outputs": [
    {
     "name": "stdout",
     "output_type": "stream",
     "text": [
      "CPU times: user 24.1 s, sys: 84.1 ms, total: 24.2 s\n",
      "Wall time: 24.3 s\n"
     ]
    },
    {
     "data": {
      "text/plain": [
       "53798080"
      ]
     },
     "execution_count": 4,
     "metadata": {},
     "output_type": "execute_result"
    }
   ],
   "source": [
    "%%time\n",
    "\"\"\"\n",
    "param: n - number of steps in the staircase\n",
    "Return number of possible ways in which you can climb the staircase\n",
    "\"\"\"\n",
    "# O(2^n)\n",
    "def staircase(n):\n",
    "    '''Hint'''\n",
    "    # Base Case - What holds true for minimum steps possible i.e., n == 0, 1, 2 or 3? Return the number of ways the child can climb n steps.\n",
    "    \n",
    "    # Recursive Step - Split the solution into base case if n > 3.\n",
    "    def _staircase(i, n): # i current staircases\n",
    "        if i > n:\n",
    "            return 0\n",
    "        elif i == n:\n",
    "            return 1\n",
    "        return _staircase(i + 1, n) + _staircase(i + 2, n) + _staircase(i + 3, n)\n",
    "    \n",
    "    return _staircase(0, n)\n",
    "\n",
    "staircase(30)"
   ]
  },
  {
   "cell_type": "code",
   "execution_count": 5,
   "metadata": {},
   "outputs": [
    {
     "name": "stdout",
     "output_type": "stream",
     "text": [
      "CPU times: user 59 µs, sys: 3 µs, total: 62 µs\n",
      "Wall time: 64.1 µs\n"
     ]
    },
    {
     "data": {
      "text/plain": [
       "53798080"
      ]
     },
     "execution_count": 5,
     "metadata": {},
     "output_type": "execute_result"
    }
   ],
   "source": [
    "%%time\n",
    "\"\"\"\n",
    "param: n - number of steps in the staircase\n",
    "Return number of possible ways in which you can climb the staircase\n",
    "\"\"\"\n",
    "# O(3^n)\n",
    "def staircase(n):\n",
    "    '''Hint'''\n",
    "    # Base Case - What holds true for minimum steps possible i.e., n == 0, 1, 2 or 3? Return the number of ways the child can climb n steps.\n",
    "    \n",
    "    # Recursive Step - Split the solution into base case if n > 3.\n",
    "    @cache\n",
    "    def _staircase(i, n): # i current staircases\n",
    "        if i > n:\n",
    "            return 0\n",
    "        elif i == n:\n",
    "            return 1\n",
    "        return _staircase(i + 1, n) + _staircase(i + 2, n) + _staircase(i + 3, n)\n",
    "    \n",
    "    return _staircase(0, n)\n",
    "\n",
    "staircase(30)"
   ]
  },
  {
   "cell_type": "markdown",
   "metadata": {
    "graffitiCellId": "id_w7lklez"
   },
   "source": [
    "<span class=\"graffiti-highlight graffiti-id_w7lklez-id_brqvnra\"><i></i><button>Show Solution</button></span>"
   ]
  },
  {
   "cell_type": "code",
   "execution_count": 6,
   "metadata": {
    "graffitiCellId": "id_qnr80ry"
   },
   "outputs": [],
   "source": [
    "def test_function(test_case):\n",
    "    n = test_case[0]\n",
    "    solution = test_case[1]\n",
    "    output = staircase(n)\n",
    "    if output == solution:\n",
    "        print(\"Pass\")\n",
    "    else:\n",
    "        print(\"Fail\")"
   ]
  },
  {
   "cell_type": "code",
   "execution_count": 7,
   "metadata": {
    "graffitiCellId": "id_6g7yxbj"
   },
   "outputs": [
    {
     "name": "stdout",
     "output_type": "stream",
     "text": [
      "Pass\n"
     ]
    }
   ],
   "source": [
    "n = 3\n",
    "solution = 4\n",
    "test_case = [n, solution]\n",
    "test_function(test_case)"
   ]
  },
  {
   "cell_type": "code",
   "execution_count": 8,
   "metadata": {
    "graffitiCellId": "id_1q0pz7y"
   },
   "outputs": [
    {
     "name": "stdout",
     "output_type": "stream",
     "text": [
      "Pass\n"
     ]
    }
   ],
   "source": [
    "n = 4\n",
    "solution = 7\n",
    "test_case = [n, solution]\n",
    "test_function(test_case)"
   ]
  },
  {
   "cell_type": "code",
   "execution_count": 9,
   "metadata": {
    "graffitiCellId": "id_p3uxb7h"
   },
   "outputs": [
    {
     "name": "stdout",
     "output_type": "stream",
     "text": [
      "Pass\n"
     ]
    }
   ],
   "source": [
    "n = 7\n",
    "solution = 44\n",
    "test_case = [n, solution]\n",
    "test_function(test_case)"
   ]
  }
 ],
 "metadata": {
  "graffiti": {
   "firstAuthorId": "dev",
   "id": "id_qnn6fxn",
   "language": "EN"
  },
  "kernelspec": {
   "display_name": "Python 3 (ipykernel)",
   "language": "python",
   "name": "python3"
  },
  "language_info": {
   "codemirror_mode": {
    "name": "ipython",
    "version": 3
   },
   "file_extension": ".py",
   "mimetype": "text/x-python",
   "name": "python",
   "nbconvert_exporter": "python",
   "pygments_lexer": "ipython3",
   "version": "3.9.7"
  }
 },
 "nbformat": 4,
 "nbformat_minor": 4
}
