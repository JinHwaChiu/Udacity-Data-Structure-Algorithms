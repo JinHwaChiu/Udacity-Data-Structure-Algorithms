{
 "cells": [
  {
   "cell_type": "markdown",
   "id": "0960f9f7-e257-41f5-9c07-aff42785b076",
   "metadata": {},
   "source": [
    "# Implement a stack using a LifoQueue"
   ]
  },
  {
   "cell_type": "code",
   "execution_count": 1,
   "id": "401d3ca5-7a1c-49d7-badd-8e4362b56058",
   "metadata": {},
   "outputs": [],
   "source": [
    "from queue import LifoQueue"
   ]
  },
  {
   "cell_type": "code",
   "execution_count": 2,
   "id": "ec99f539-288a-4e03-8ce1-55730a183d24",
   "metadata": {},
   "outputs": [],
   "source": [
    "class Stack:\n",
    "    def __init__(self):\n",
    "        self.stack = LifoQueue()\n",
    "        \n",
    "    def top(self):\n",
    "        # LifoQueue cannot get the top item.\n",
    "        # We can pop() it then push it.\n",
    "        item = self.pop()\n",
    "        self.push(item)\n",
    "        return item\n",
    "    \n",
    "    def pop(self):\n",
    "        if self.stack:\n",
    "            return self.stack.get()  \n",
    "        else:\n",
    "            return None\n",
    "    \n",
    "    def push(self, item):\n",
    "        self.stack.put(item)\n",
    "    \n",
    "    def __len__(self):\n",
    "        return self.stack.qsize()"
   ]
  },
  {
   "cell_type": "code",
   "execution_count": 3,
   "id": "f23a39a1-b449-4136-922d-c926056b91dd",
   "metadata": {},
   "outputs": [],
   "source": [
    "stack = Stack()"
   ]
  },
  {
   "cell_type": "code",
   "execution_count": 4,
   "id": "837d68f4-3961-4526-93bc-d2fe5b4a3143",
   "metadata": {},
   "outputs": [],
   "source": [
    "for i in range(10):\n",
    "    stack.push(i)"
   ]
  },
  {
   "cell_type": "code",
   "execution_count": 5,
   "id": "441a44e1-6fbd-467c-9484-8742fcfc799a",
   "metadata": {},
   "outputs": [
    {
     "data": {
      "text/plain": [
       "10"
      ]
     },
     "execution_count": 5,
     "metadata": {},
     "output_type": "execute_result"
    }
   ],
   "source": [
    "len(stack)"
   ]
  },
  {
   "cell_type": "code",
   "execution_count": 6,
   "id": "b3ffd7c8-b3da-4675-97b6-08014a3f5934",
   "metadata": {},
   "outputs": [
    {
     "data": {
      "text/plain": [
       "9"
      ]
     },
     "execution_count": 6,
     "metadata": {},
     "output_type": "execute_result"
    }
   ],
   "source": [
    "stack.top()"
   ]
  },
  {
   "cell_type": "code",
   "execution_count": 7,
   "id": "adc3332c-cdfa-4cd1-a6e8-1b3a5bf28c5d",
   "metadata": {},
   "outputs": [
    {
     "data": {
      "text/plain": [
       "9"
      ]
     },
     "execution_count": 7,
     "metadata": {},
     "output_type": "execute_result"
    }
   ],
   "source": [
    "stack.pop()"
   ]
  },
  {
   "cell_type": "code",
   "execution_count": 8,
   "id": "60429c29-3009-4dc5-80c5-42f4e3c0606d",
   "metadata": {},
   "outputs": [
    {
     "data": {
      "text/plain": [
       "8"
      ]
     },
     "execution_count": 8,
     "metadata": {},
     "output_type": "execute_result"
    }
   ],
   "source": [
    "stack.pop()"
   ]
  }
 ],
 "metadata": {
  "kernelspec": {
   "display_name": "Python 3 (ipykernel)",
   "language": "python",
   "name": "python3"
  },
  "language_info": {
   "codemirror_mode": {
    "name": "ipython",
    "version": 3
   },
   "file_extension": ".py",
   "mimetype": "text/x-python",
   "name": "python",
   "nbconvert_exporter": "python",
   "pygments_lexer": "ipython3",
   "version": "3.9.7"
  }
 },
 "nbformat": 4,
 "nbformat_minor": 5
}
