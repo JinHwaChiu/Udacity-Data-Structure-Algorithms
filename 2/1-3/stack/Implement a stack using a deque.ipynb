{
 "cells": [
  {
   "cell_type": "markdown",
   "id": "b9934793-0622-4f81-bedd-5e1988c6112e",
   "metadata": {},
   "source": [
    "# Implement a stack using deque"
   ]
  },
  {
   "cell_type": "code",
   "execution_count": 1,
   "id": "54ea7465-889d-4fb8-aac0-a3694554a74f",
   "metadata": {},
   "outputs": [],
   "source": [
    "from collections import deque"
   ]
  },
  {
   "cell_type": "code",
   "execution_count": 2,
   "id": "cf1c3c0e-1667-4f8f-b85c-cb7790ba13e5",
   "metadata": {},
   "outputs": [],
   "source": [
    "class Stack:\n",
    "    def __init__(self):\n",
    "        self.stack = deque()\n",
    "        \n",
    "    def top(self):\n",
    "        if self.stack:\n",
    "            return self.stack[0]\n",
    "    \n",
    "    def pop(self):\n",
    "        if self.stack:\n",
    "            return self.stack.popleft()  \n",
    "        else:\n",
    "            return None\n",
    "    \n",
    "    def push(self, item):\n",
    "        self.stack.appendleft(item)\n",
    "    \n",
    "    def __len__(self):\n",
    "        return len(self.stack)\n",
    "    \n",
    "    def __repr__(self):\n",
    "        if len(self.stack) > 0:\n",
    "            s = \"<stack top>\\n_________________\\n\" \n",
    "            s += \"\\n_________________\\n\".join([str(item) for item in self.stack])\n",
    "            s += \"\\n_________________\\n<stack bottom>\"\n",
    "            return s\n",
    "        else:\n",
    "            return \"<stack is empty>\""
   ]
  },
  {
   "cell_type": "code",
   "execution_count": 3,
   "id": "c024b32e-e5df-47cb-af4e-ccf89de11881",
   "metadata": {},
   "outputs": [],
   "source": [
    "stack = Stack()"
   ]
  },
  {
   "cell_type": "code",
   "execution_count": 4,
   "id": "991c501e-ce51-41f0-8031-88932b1ad8d9",
   "metadata": {},
   "outputs": [],
   "source": [
    "for i in range(10):\n",
    "    stack.push(i)"
   ]
  },
  {
   "cell_type": "code",
   "execution_count": 5,
   "id": "ed749896-89ac-42dc-9271-a0f5ddb5c409",
   "metadata": {},
   "outputs": [
    {
     "data": {
      "text/plain": [
       "10"
      ]
     },
     "execution_count": 5,
     "metadata": {},
     "output_type": "execute_result"
    }
   ],
   "source": [
    "len(stack)"
   ]
  },
  {
   "cell_type": "code",
   "execution_count": 6,
   "id": "79461384-4ab1-45c5-8ac7-81e40230136f",
   "metadata": {},
   "outputs": [
    {
     "data": {
      "text/plain": [
       "<stack top>\n",
       "_________________\n",
       "9\n",
       "_________________\n",
       "8\n",
       "_________________\n",
       "7\n",
       "_________________\n",
       "6\n",
       "_________________\n",
       "5\n",
       "_________________\n",
       "4\n",
       "_________________\n",
       "3\n",
       "_________________\n",
       "2\n",
       "_________________\n",
       "1\n",
       "_________________\n",
       "0\n",
       "_________________\n",
       "<stack bottom>"
      ]
     },
     "execution_count": 6,
     "metadata": {},
     "output_type": "execute_result"
    }
   ],
   "source": [
    "stack"
   ]
  },
  {
   "cell_type": "code",
   "execution_count": 7,
   "id": "92864c0e-eb00-4667-925d-527970621c71",
   "metadata": {},
   "outputs": [
    {
     "data": {
      "text/plain": [
       "9"
      ]
     },
     "execution_count": 7,
     "metadata": {},
     "output_type": "execute_result"
    }
   ],
   "source": [
    "stack.top()"
   ]
  },
  {
   "cell_type": "code",
   "execution_count": 8,
   "id": "2537e47e-807f-43ad-8317-837b962dceac",
   "metadata": {},
   "outputs": [
    {
     "data": {
      "text/plain": [
       "9"
      ]
     },
     "execution_count": 8,
     "metadata": {},
     "output_type": "execute_result"
    }
   ],
   "source": [
    "stack.pop()"
   ]
  },
  {
   "cell_type": "code",
   "execution_count": 9,
   "id": "69b44bb2-bf12-45fd-8a3a-e80e77510999",
   "metadata": {},
   "outputs": [
    {
     "data": {
      "text/plain": [
       "8"
      ]
     },
     "execution_count": 9,
     "metadata": {},
     "output_type": "execute_result"
    }
   ],
   "source": [
    "stack.pop()"
   ]
  },
  {
   "cell_type": "code",
   "execution_count": null,
   "id": "1844f675-cc87-4fc0-ba3b-dfee1b79bc2a",
   "metadata": {},
   "outputs": [],
   "source": []
  }
 ],
 "metadata": {
  "kernelspec": {
   "display_name": "Python 3 (ipykernel)",
   "language": "python",
   "name": "python3"
  },
  "language_info": {
   "codemirror_mode": {
    "name": "ipython",
    "version": 3
   },
   "file_extension": ".py",
   "mimetype": "text/x-python",
   "name": "python",
   "nbconvert_exporter": "python",
   "pygments_lexer": "ipython3",
   "version": "3.9.7"
  }
 },
 "nbformat": 4,
 "nbformat_minor": 5
}
