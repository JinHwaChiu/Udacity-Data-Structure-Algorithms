{
 "cells": [
  {
   "cell_type": "markdown",
   "metadata": {
    "graffitiCellId": "id_vhxf50c"
   },
   "source": [
    "### Problem Statement\n",
    "\n",
    "\n",
    "Given a list of integers that contain natural numbers in random order.  Write a program to find the longest possible sub sequence of consecutive numbers in the array. Return this subsequence in sorted order. \n",
    "\n",
    "*In other words, you have to return the sorted longest (sub) list of consecutive numbers present anywhere in the given list.* \n",
    "\n",
    "For example, given the list `5, 4, 7, 10, 1, 3, 55, 2`, the output should be `1, 2, 3, 4, 5`\n",
    "\n",
    "**Note** \n",
    "1. The solution must take O(n) time. *Can you think of using a dictionary here?*\n",
    "2. If two subsequences are of equal length, return the subsequence whose index of smallest element comes first.\n",
    "\n",
    "---\n",
    "\n",
    "### The Idea:\n",
    "Every element of the given `input_list` could be a part of some subsequence. Therefore, we need a way (using a dictionary) to keep track if an element has already been visited. Also, store length of a subsequence if it is maximum. For this purpose, we have to check in **forward** direction, if the `(element+1)` is available in the given dictionary, in a \"while\" loop. Similarly, we will check in **backward** direction for `(element-1)`, in another \"while\" loop. At last, if we have the smallest element and the length of the longest subsequence, we can return a **new** list starting from \"smallest element\" to \"smallest element + length\".\n",
    "\n",
    "The steps would be:\n",
    "\n",
    "\n",
    "1. Create a dictionary, such that the elements of input_list become the \"key\", and the corresponding index become the \"value\" in the dictionary. We are creating a dictionary because the lookup time is considered to be constant in a dictionary. \n",
    "\n",
    "\n",
    "2. For each `element` in the `input_list`, first mark it as visited in the dictionary\n",
    "\n",
    " - Check in forward direction, if the `(element+1)` is available. If yes, increment the length of subsequence\n",
    " \n",
    " - Check in backward direction, if the `(element-1)` is available. If yes, increment the length of subsequence\n",
    "\n",
    " - Keep a track of length of longest subsequence visited so far. For the longest subsequence, store the smallest element (say `start_element`) and its index as well.  \n",
    "\n",
    "\n",
    "3. Return a **new** list starting from `start_element` to `start_element + length`."
   ]
  },
  {
   "cell_type": "markdown",
   "metadata": {
    "graffitiCellId": "id_q492hrd"
   },
   "source": [
    "### Exercise - Write the function definition here"
   ]
  },
  {
   "cell_type": "code",
   "execution_count": 10,
   "metadata": {
    "graffitiCellId": "id_eaee7mz"
   },
   "outputs": [
    {
     "data": {
      "text/plain": [
       "[2, 3, 4]"
      ]
     },
     "execution_count": 10,
     "metadata": {},
     "output_type": "execute_result"
    }
   ],
   "source": [
    "class Solution:\n",
    "    def longestConsecutive(self, nums):\n",
    "        longest_streak = 0\n",
    "\n",
    "        for num in nums:\n",
    "            current_num = num\n",
    "            current_streak = 1\n",
    "\n",
    "            while current_num + 1 in nums:\n",
    "                current_num += 1\n",
    "                current_streak += 1\n",
    "\n",
    "            longest_streak = max(longest_streak, current_streak)\n",
    "\n",
    "        return longest_streak"
   ]
  },
  {
   "cell_type": "code",
   "execution_count": 18,
   "metadata": {},
   "outputs": [
    {
     "data": {
      "text/plain": [
       "[]"
      ]
     },
     "execution_count": 18,
     "metadata": {},
     "output_type": "execute_result"
    }
   ],
   "source": [
    "def longestConsecutive(nums):\n",
    "    longest_streak = 0\n",
    "    consecutive_subsequence = []\n",
    "\n",
    "    for num in nums:\n",
    "        current_num = num\n",
    "        current_streak = 1\n",
    "\n",
    "        while current_num + 1 in nums:\n",
    "            current_num += 1\n",
    "            current_streak += 1\n",
    "            consecutive_subsequence.append(current_num)\n",
    "        consecutive_subsequence = []\n",
    "        longest_streak = max(longest_streak, current_streak)\n",
    "\n",
    "    return consecutive_subsequence\n",
    "\n",
    "longestConsecutive([5, 4, 7, 10, 1, 3, 55, 2])"
   ]
  },
  {
   "cell_type": "code",
   "execution_count": 14,
   "metadata": {},
   "outputs": [
    {
     "data": {
      "text/plain": [
       "[4, 4, 7, 10, 1, 1, 2, 3, 4, 3, 3, 4, 55, 2, 2, 3, 4]"
      ]
     },
     "execution_count": 14,
     "metadata": {},
     "output_type": "execute_result"
    }
   ],
   "source": [
    "def longest_consecutive_subsequence(input_list):\n",
    "    consecutive_subsequence = []\n",
    "\n",
    "    def _func(input_list, consecutive_subsequence):\n",
    "        lst = []\n",
    "        for i in input_list:\n",
    "            if i + 1 in lst:\n",
    "                lst.append(i + 1)\n",
    "            elif i - 1 in lst:\n",
    "                lst.append(i - 1)\n",
    "    \n",
    "    return _func(input_list, consecutive_subsequence)"
   ]
  },
  {
   "cell_type": "code",
   "execution_count": 20,
   "metadata": {},
   "outputs": [
    {
     "data": {
      "text/plain": [
       "False"
      ]
     },
     "execution_count": 20,
     "metadata": {},
     "output_type": "execute_result"
    }
   ],
   "source": [
    "(3 or 4) in [4]"
   ]
  },
  {
   "cell_type": "code",
   "execution_count": null,
   "metadata": {},
   "outputs": [],
   "source": []
  },
  {
   "cell_type": "markdown",
   "metadata": {
    "graffitiCellId": "id_7w3exwo"
   },
   "source": [
    "### Test - Let's test your function"
   ]
  },
  {
   "cell_type": "code",
   "execution_count": null,
   "metadata": {
    "graffitiCellId": "id_hlznh6q"
   },
   "outputs": [],
   "source": [
    "def test_function(test_case):\n",
    "    output = longest_consecutive_subsequence(test_case[0])\n",
    "    if output == test_case[1]:\n",
    "        print(\"Pass\")\n",
    "    else:\n",
    "        print(\"Fail\")\n",
    "    "
   ]
  },
  {
   "cell_type": "code",
   "execution_count": null,
   "metadata": {
    "graffitiCellId": "id_z2y7gsr"
   },
   "outputs": [],
   "source": [
    "test_case_1 = [[5, 4, 7, 10, 1, 3, 55, 2], [1, 2, 3, 4, 5]]\n",
    "test_function(test_case_1)"
   ]
  },
  {
   "cell_type": "code",
   "execution_count": null,
   "metadata": {
    "graffitiCellId": "id_a3yf5ol"
   },
   "outputs": [],
   "source": [
    "test_case_2 = [[2, 12, 9, 16, 10, 5, 3, 20, 25, 11, 1, 8, 6 ], [8, 9, 10, 11, 12]]\n",
    "test_function(test_case_2)"
   ]
  },
  {
   "cell_type": "code",
   "execution_count": null,
   "metadata": {
    "graffitiCellId": "id_u5rs0q7"
   },
   "outputs": [],
   "source": [
    "test_case_3 = [[0, 1, 2, 3, 4], [0, 1, 2, 3, 4]]\n",
    "test_function(test_case_3)"
   ]
  },
  {
   "cell_type": "markdown",
   "metadata": {
    "graffitiCellId": "id_et1ek54"
   },
   "source": [
    "<span class=\"graffiti-highlight graffiti-id_et1ek54-id_r15x1vg\"><i></i><button>Show Solution</button></span>"
   ]
  }
 ],
 "metadata": {
  "graffiti": {
   "firstAuthorId": "10694620118",
   "id": "id_alotytm",
   "language": "EN"
  },
  "kernelspec": {
   "display_name": "Python 3 (ipykernel)",
   "language": "python",
   "name": "python3"
  },
  "language_info": {
   "codemirror_mode": {
    "name": "ipython",
    "version": 3
   },
   "file_extension": ".py",
   "mimetype": "text/x-python",
   "name": "python",
   "nbconvert_exporter": "python",
   "pygments_lexer": "ipython3",
   "version": "3.9.7"
  }
 },
 "nbformat": 4,
 "nbformat_minor": 4
}
