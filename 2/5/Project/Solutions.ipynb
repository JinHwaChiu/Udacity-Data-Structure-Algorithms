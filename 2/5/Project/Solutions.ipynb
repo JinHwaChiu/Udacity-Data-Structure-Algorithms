{
 "cells": [
  {
   "cell_type": "markdown",
   "id": "dc1f88a4-bfee-4c3c-ab58-3b32a36225b2",
   "metadata": {},
   "source": [
    "# Problem 1\n",
    "\n",
    "**Least Recently Used Cache**\n",
    "\n",
    "We have briefly discussed caching as part of a practice problem while studying hash maps.\n",
    "\n",
    "The lookup operation (i.e., `get()`) and `put()` / `set()` is supposed to be fast for a cache memory.\n",
    "\n",
    "While doing the `get()` operation, if the entry is found in the cache, it is known as a `cache hit`. If, however, the entry is not found, it is known as a `cache miss`.\n",
    "\n",
    "When designing a cache, we also place an upper bound on the size of the cache. If the cache is full and we want to add a new entry to the cache, we use some criteria to remove an element. After removing an element, we use the `put()` operation to insert the new element. The remove operation should also be fast.\n",
    "\n",
    "For our first problem, the goal will be to design a data structure known as a **Least Recently Used (LRU) cache**. An LRU cache is a type of cache in which we remove the least recently used entry when the cache memory reaches its limit. For the current problem, consider both `get` and `set` operations as an `use operation`.\n",
    "\n",
    "Your job is to use an appropriate data structure(s) to implement the cache.\n",
    "\n",
    "-   In case of a `cache hit`, your `get()` operation should return the appropriate value.\n",
    "-   In case of a `cache miss`, your `get()` should return -1.\n",
    "-   While putting an element in the cache, your `put()` / `set()` operation must insert the element. If the cache is full, you must write code that removes the least recently used entry first and then insert the element.\n",
    "\n",
    "All operations must take `O(1)` time.\n",
    "\n",
    "For the current problem, you can consider the `size of cache = 5`.\n",
    "\n",
    "Here is some boiler plate code and some example test cases to get you started on this problem:\n",
    "\n",
    "```py\n",
    "class LRU_Cache(object):\n",
    "\n",
    "    def __init__(self, capacity):\n",
    "        # Initialize class variables\n",
    "        pass\n",
    "\n",
    "    def get(self, key):\n",
    "        # Retrieve item from provided key. Return -1 if nonexistent. \n",
    "        pass\n",
    "\n",
    "    def set(self, key, value):\n",
    "        # Set the value if the key is not present in the cache. If the cache is at capacity remove the oldest item. \n",
    "        pass\n",
    "\n",
    "our_cache = LRU_Cache(5)\n",
    "\n",
    "our_cache.set(1, 1);\n",
    "our_cache.set(2, 2);\n",
    "our_cache.set(3, 3);\n",
    "our_cache.set(4, 4);\n",
    "\n",
    "\n",
    "our_cache.get(1)       # returns 1\n",
    "our_cache.get(2)       # returns 2\n",
    "our_cache.get(9)      # returns -1 because 9 is not present in the cache\n",
    "\n",
    "our_cache.set(5, 5) \n",
    "our_cache.set(6, 6)\n",
    "\n",
    "our_cache.get(3)      # returns -1 because the cache reached it's capacity and 3 was the least recently used entry\n",
    "```"
   ]
  },
  {
   "cell_type": "markdown",
   "id": "caacc1d2-d0d8-4f39-9203-132a42e74b1d",
   "metadata": {},
   "source": [
    "## Approach 1: Ordered Dictionary"
   ]
  },
  {
   "cell_type": "markdown",
   "id": "969d782b-22ed-492b-beb9-1ca93f7b539a",
   "metadata": {},
   "source": [
    "![](https://raw.githubusercontent.com/ZacksAmber/Udacity-Data-Structure-Algorithms/main/2/5/Project/problem_1.drawio.svg)"
   ]
  },
  {
   "cell_type": "code",
   "execution_count": 8,
   "id": "f3c63a82-ddd2-4cb1-b22f-f9acb1d68495",
   "metadata": {},
   "outputs": [],
   "source": [
    "from typing import Union\n",
    "from collections import OrderedDict\n",
    "\n",
    "\n",
    "# O(1), O(capacity)\n",
    "class LRU_Cache(OrderedDict):\n",
    "    \"\"\"LRU_Cache cache the latest added or visited key-paired items within the capacity defined by user.\n",
    "        \n",
    "    Attributes:\n",
    "        capacity: The capacity of LRU_Cache instance.\n",
    "    \"\"\"\n",
    "    \n",
    "    def __init__(self, capacity: int):\n",
    "        \"\"\"Inits LRU_Cache with a capacity.\n",
    "        \n",
    "        Args:\n",
    "            capacity: The capacity of LRU_Cache instance.\n",
    "        \"\"\"\n",
    "        self.capacity = capacity\n",
    "\n",
    "    def get(self, key: Union[str, int, float]):  # For Python 3.5 - 3.9\n",
    "    # def get(self, key: str | int | float):  # For Python >= 3.10\n",
    "        \"\"\"Return the value for key if key is in the LRU_Cache instance, else -1.\n",
    "        \n",
    "        Args:\n",
    "            key: The key of the item.\n",
    "        \"\"\"\n",
    "        # Cache hit\n",
    "        if key in self:\n",
    "            self.move_to_end(key)\n",
    "            return self[key]\n",
    "        # Cache miss\n",
    "        return -1\n",
    "\n",
    "    def set(self, key: Union[str, int, float], value: any):  # For Python 3.5 - 3.9\n",
    "    # def set(self, key: str | int | float, value: any):  # For Python >= 3.10\n",
    "        \"\"\"Add an item into the LRU_Cache instance if the key is not present in the cache. \n",
    "        \n",
    "        If the key is present in the cache, this item will be the latest visited one.\n",
    "        If the cache is at capacity, remove the oldest item.\n",
    "        \n",
    "        Args:\n",
    "            key: The key of the item.\n",
    "            value: The value of the item.\n",
    "        \"\"\"\n",
    "        if key in self:\n",
    "            self.move_to_end(key)\n",
    "\n",
    "        self[key] = value\n",
    "        if len(self) > self.capacity:\n",
    "            self.popitem(last=False)"
   ]
  },
  {
   "cell_type": "code",
   "execution_count": 3,
   "id": "af1b22eb-351a-44a6-b0a8-4c87b0603f17",
   "metadata": {},
   "outputs": [
    {
     "data": {
      "text/plain": [
       "-1"
      ]
     },
     "execution_count": 3,
     "metadata": {},
     "output_type": "execute_result"
    }
   ],
   "source": [
    "our_cache = LRU_Cache(5)\n",
    "\n",
    "our_cache.set(1, 1);\n",
    "our_cache.set(2, 2);\n",
    "our_cache.set(3, 3);\n",
    "our_cache.set(4, 4);\n",
    "\n",
    "\n",
    "our_cache.get(1)       # returns 1\n",
    "our_cache.get(2)       # returns 2\n",
    "our_cache.get(9)      # returns -1 because 9 is not present in the cache\n",
    "\n",
    "our_cache.set(5, 5) \n",
    "our_cache.set(6, 6)\n",
    "\n",
    "our_cache.get(3)      # returns -1 because the cache reached it's capacity and 3 was the least recently used entry"
   ]
  },
  {
   "cell_type": "markdown",
   "id": "8a011713-6f0e-411a-bf0e-df858d459fdf",
   "metadata": {},
   "source": [
    "# Problem 2: File Recursion"
   ]
  },
  {
   "cell_type": "markdown",
   "id": "0ff8194a-34e3-4039-a046-5dc7c449c367",
   "metadata": {},
   "source": [
    "For this problem, the goal is to write code for finding all files under a directory (and all directories beneath it) that end with \".c\"\n",
    "\n",
    "Here is an example of a test directory listing, which can be downloaded [here](https://s3.amazonaws.com/udacity-dsand/testdir.zip):\n",
    "\n",
    "```\n",
    "./testdir\n",
    "./testdir/subdir1\n",
    "./testdir/subdir1/a.c\n",
    "./testdir/subdir1/a.h\n",
    "./testdir/subdir2\n",
    "./testdir/subdir2/.gitkeep\n",
    "./testdir/subdir3\n",
    "./testdir/subdir3/subsubdir1\n",
    "./testdir/subdir3/subsubdir1/b.c\n",
    "./testdir/subdir3/subsubdir1/b.h\n",
    "./testdir/subdir4\n",
    "./testdir/subdir4/.gitkeep\n",
    "./testdir/subdir5\n",
    "./testdir/subdir5/a.c\n",
    "./testdir/subdir5/a.h\n",
    "./testdir/t1.c\n",
    "./testdir/t1.h\n",
    "```\n",
    "\n",
    "Python's `os` module will be useful—in particular, you may want to use the following resources:\n",
    "\n",
    "[os.path.isdir(path)](https://docs.python.org/3.7/library/os.path.html#os.path.isdir)\n",
    "\n",
    "[os.path.isfile(path)](https://docs.python.org/3.7/library/os.path.html#os.path.isfile)\n",
    "\n",
    "[os.listdir(directory)](https://docs.python.org/3.7/library/os.html#os.listdir)\n",
    "\n",
    "[os.path.join(...)](https://docs.python.org/3.7/library/os.path.html#os.path.join)\n",
    "\n",
    "**Note:** `os.walk()` is a handy Python method which can achieve this task very easily. However, for this problem you are not allowed to use `os.walk()`.\n",
    "\n",
    "Here is some code for the function to get you started:\n",
    "\n",
    "```\n",
    "\n",
    "def find_files(suffix, path):\n",
    "    \"\"\"\n",
    "    Find all files beneath path with file name suffix.\n",
    "\n",
    "    Note that a path may contain further subdirectories\n",
    "    and those subdirectories may also contain further subdirectories.\n",
    "\n",
    "    There are no limit to the depth of the subdirectories can be.\n",
    "\n",
    "    Args:\n",
    "      suffix(str): suffix if the file name to be found\n",
    "      path(str): path of the file system\n",
    "\n",
    "    Returns:\n",
    "       a list of paths\n",
    "    \"\"\"\n",
    "    return None\n",
    "```\n",
    "\n",
    "**OS Module Exploration Code**\n",
    "\n",
    "```\n",
    "## Locally save and call this file ex.py ##\n",
    "\n",
    "# Code to demonstrate the use of some of the OS modules in python\n",
    "\n",
    "import os\n",
    "\n",
    "# Let us print the files in the directory in which you are running this script\n",
    "print (os.listdir(\".\"))\n",
    "\n",
    "# Let us check if this file is indeed a file!\n",
    "print (os.path.isfile(\"./ex.py\"))\n",
    "\n",
    "# Does the file end with .py?\n",
    "print (\"./ex.py\".endswith(\".py\"))\n",
    "```"
   ]
  },
  {
   "cell_type": "code",
   "execution_count": 170,
   "id": "62f569d4-6650-4b29-be9a-27d8c2f492cd",
   "metadata": {},
   "outputs": [
    {
     "name": "stdout",
     "output_type": "stream",
     "text": [
      "\u001b[01;34mtestdir\u001b[00m\n",
      "├── \u001b[01;34msubdir1\u001b[00m\n",
      "│   ├── a.c\n",
      "│   └── a.h\n",
      "├── \u001b[01;34msubdir2\u001b[00m\n",
      "│   └── .gitkeep\n",
      "├── \u001b[01;34msubdir3\u001b[00m\n",
      "│   └── \u001b[01;34msubsubdir1\u001b[00m\n",
      "│       ├── b.c\n",
      "│       └── b.h\n",
      "├── \u001b[01;34msubdir4\u001b[00m\n",
      "│   └── .gitkeep\n",
      "├── \u001b[01;34msubdir5\u001b[00m\n",
      "│   ├── a.c\n",
      "│   └── a.h\n",
      "├── t1.c\n",
      "└── t1.h\n",
      "\n",
      "6 directories, 10 files\n"
     ]
    }
   ],
   "source": [
    "!tree -a testdir"
   ]
  },
  {
   "cell_type": "markdown",
   "id": "2fec5323-30f8-469b-853d-1a63b684cc9d",
   "metadata": {},
   "source": [
    "5 SIMPLE STEPS\n",
    "1. What's the simplest possible input?\n",
    "2. Play around with examples and visualize!\n",
    "3. Relate hard cases to simpler cases.\n",
    "4. Generalize the pattern.\n",
    "5. Write code by combining recursive pattern with the base case."
   ]
  },
  {
   "cell_type": "code",
   "execution_count": 223,
   "id": "28792a49-615e-4e26-a266-d65bed4dc73b",
   "metadata": {},
   "outputs": [
    {
     "name": "stdout",
     "output_type": "stream",
     "text": [
      "testdir\n",
      "    testdir/t1.c\n",
      "    testdir/t1.h\n",
      "    testdir/subdir1\n",
      "        testdir/subdir1/a.c\n",
      "        testdir/subdir1/a.h\n",
      "    testdir/subdir2\n",
      "        testdir/subdir2/.gitkeep\n",
      "    testdir/subdir3\n",
      "        testdir/subdir3/subsubdir1\n",
      "            testdir/subdir3/subsubdir1/b.c\n",
      "            testdir/subdir3/subsubdir1/b.h\n",
      "    testdir/subdir4\n",
      "        testdir/subdir4/.gitkeep\n",
      "    testdir/subdir5\n",
      "        testdir/subdir5/a.c\n",
      "        testdir/subdir5/a.h\n"
     ]
    }
   ],
   "source": [
    "# Achieve this task by os.walk\n",
    "import os\n",
    "\n",
    "for dirpath, dirnames, filenames in sorted(os.walk(\"testdir\", topdown=True)):\n",
    "    offset = len(dirpath.split(os.sep))\n",
    "    print(\"    \" * (offset - 1), dirpath, sep=\"\")\n",
    "    for file in sorted(filenames):\n",
    "        print(\"    \" * offset, os.path.join(dirpath, file), sep=\"\")"
   ]
  },
  {
   "cell_type": "code",
   "execution_count": 71,
   "id": "b15c5df6-03de-4cfa-941a-e796afd613c5",
   "metadata": {},
   "outputs": [
    {
     "name": "stdout",
     "output_type": "stream",
     "text": [
      "./.DS_Store\n",
      "./.ipynb_checkpoints\n",
      "./.ipynb_checkpoints/Solutions-checkpoint.ipynb\n",
      "./Solutions.ipynb\n",
      "./problem_1.drawio.svg\n",
      "./problem_2.drawio.svg\n",
      "./testdir\n",
      "./testdir/subdir1\n",
      "./testdir/subdir1/a.c\n",
      "./testdir/subdir1/a.h\n",
      "./testdir/subdir2\n",
      "./testdir/subdir2/.gitkeep\n",
      "./testdir/subdir3\n",
      "./testdir/subdir3/subsubdir1\n",
      "./testdir/subdir3/subsubdir1/b.c\n",
      "./testdir/subdir3/subsubdir1/b.h\n",
      "./testdir/subdir4\n",
      "./testdir/subdir4/.gitkeep\n",
      "./testdir/subdir5\n",
      "./testdir/subdir5/a.c\n",
      "./testdir/subdir5/a.h\n",
      "./testdir/t1.c\n",
      "./testdir/t1.h\n"
     ]
    }
   ],
   "source": [
    "# Achieve this task without os.walk\n",
    "def find_files(suffix=\"*\", path=\"./\"):\n",
    "    \"\"\"\n",
    "    Find all files beneath path with file name suffix.\n",
    "\n",
    "    Note that a path may contain further subdirectories\n",
    "    and those subdirectories may also contain further subdirectories.\n",
    "\n",
    "    There are no limit to the depth of the subdirectories can be.\n",
    "\n",
    "    Args:\n",
    "      suffix(str): suffix if the file name to be found.\n",
    "      path(str): path of the file system\n",
    "\n",
    "    Returns:\n",
    "       a list of paths\n",
    "    \"\"\"\n",
    "    # \"*\" is the wildcard character to match everything\n",
    "    if suffix == \"*\":\n",
    "        suffix = \"\"\n",
    "\n",
    "    listdir = os.listdir(path)\n",
    "    listdir = sorted(listdir)\n",
    "    for child in listdir:\n",
    "        current_path = os.path.join(path, child)\n",
    "        if os.path.isdir(current_path):\n",
    "            print(f\"{current_path}\")\n",
    "            find_files(suffix, current_path)\n",
    "        else:\n",
    "            if current_path.endswith(suffix):\n",
    "                print(f\"{current_path}\")\n",
    "            \n",
    "find_files()"
   ]
  },
  {
   "cell_type": "code",
   "execution_count": 66,
   "id": "2c97cebf-b599-475e-a727-50a6c49a32c9",
   "metadata": {},
   "outputs": [
    {
     "data": {
      "text/plain": [
       "True"
      ]
     },
     "execution_count": 66,
     "metadata": {},
     "output_type": "execute_result"
    }
   ],
   "source": [
    "'testdir/subdir1/a.c'.endswith('.c')"
   ]
  },
  {
   "cell_type": "code",
   "execution_count": 61,
   "id": "475b9944-c63e-4069-bcd0-b400501a76f0",
   "metadata": {},
   "outputs": [
    {
     "name": "stdout",
     "output_type": "stream",
     "text": [
      "FOLDER: \ttestdir/subdir4\n",
      "FILE: \ttestdir/subdir4/.gitkeep\n",
      "FOLDER: \ttestdir/subdir3\n",
      "FOLDER: \ttestdir/subdir3/subsubdir1\n",
      "FILE: \ttestdir/subdir3/subsubdir1/b.h\n",
      "FILE: \ttestdir/subdir3/subsubdir1/b.c\n",
      "FILE: \ttestdir/t1.c\n",
      "FOLDER: \ttestdir/subdir2\n",
      "FILE: \ttestdir/subdir2/.gitkeep\n",
      "FOLDER: \ttestdir/subdir5\n",
      "FILE: \ttestdir/subdir5/a.h\n",
      "FILE: \ttestdir/subdir5/a.c\n",
      "FILE: \ttestdir/t1.h\n",
      "FOLDER: \ttestdir/subdir1\n",
      "FILE: \ttestdir/subdir1/a.h\n",
      "FILE: \ttestdir/subdir1/a.c\n"
     ]
    }
   ],
   "source": [
    "import os\n",
    "\n",
    "test_path = \"testdir\"\n",
    "\n",
    "def print_directory_contents(dir_path):\n",
    "    for child in os.listdir(dir_path):\n",
    "        path = os.path.join(dir_path, child)\n",
    "        if os.path.isdir(path):\n",
    "            print(\"FOLDER: \" + \"\\t\" + path)\n",
    "            print_directory_contents(path)\n",
    "\n",
    "        else:\n",
    "            print(\"FILE: \" + \"\\t\" + path)\n",
    "\n",
    "print_directory_contents(test_path)"
   ]
  },
  {
   "cell_type": "code",
   "execution_count": 43,
   "id": "89361986-b4d4-43e4-bdbf-35a96b18e1dd",
   "metadata": {},
   "outputs": [
    {
     "ename": "NameError",
     "evalue": "name 'find_files' is not defined",
     "output_type": "error",
     "traceback": [
      "\u001b[0;31m---------------------------------------------------------------------------\u001b[0m",
      "\u001b[0;31mNameError\u001b[0m                                 Traceback (most recent call last)",
      "\u001b[0;32m/var/folders/bn/xnw38wz5697c2m0cykr9528m0000gn/T/ipykernel_17234/2008575578.py\u001b[0m in \u001b[0;36m<module>\u001b[0;34m\u001b[0m\n\u001b[0;32m----> 1\u001b[0;31m \u001b[0mfind_files\u001b[0m\u001b[0;34m(\u001b[0m\u001b[0;34m\"*\"\u001b[0m\u001b[0;34m,\u001b[0m \u001b[0;34m\"testdir\"\u001b[0m\u001b[0;34m)\u001b[0m\u001b[0;34m\u001b[0m\u001b[0;34m\u001b[0m\u001b[0m\n\u001b[0m",
      "\u001b[0;31mNameError\u001b[0m: name 'find_files' is not defined"
     ]
    }
   ],
   "source": [
    "find_files(\"*\", \"testdir\")"
   ]
  },
  {
   "cell_type": "code",
   "execution_count": 44,
   "id": "9ab82e3d-4b1d-4c4d-be6a-4bab363a1f34",
   "metadata": {},
   "outputs": [
    {
     "ename": "NameError",
     "evalue": "name 'os' is not defined",
     "output_type": "error",
     "traceback": [
      "\u001b[0;31m---------------------------------------------------------------------------\u001b[0m",
      "\u001b[0;31mNameError\u001b[0m                                 Traceback (most recent call last)",
      "\u001b[0;32m/var/folders/bn/xnw38wz5697c2m0cykr9528m0000gn/T/ipykernel_17234/2761034240.py\u001b[0m in \u001b[0;36m<module>\u001b[0;34m\u001b[0m\n\u001b[0;32m----> 1\u001b[0;31m \u001b[0mos\u001b[0m\u001b[0;34m.\u001b[0m\u001b[0mlistdir\u001b[0m\u001b[0;34m(\u001b[0m\u001b[0mpath\u001b[0m\u001b[0;34m)\u001b[0m\u001b[0;34m\u001b[0m\u001b[0;34m\u001b[0m\u001b[0m\n\u001b[0m",
      "\u001b[0;31mNameError\u001b[0m: name 'os' is not defined"
     ]
    }
   ],
   "source": [
    "os.listdir(path)"
   ]
  },
  {
   "cell_type": "code",
   "execution_count": null,
   "id": "79a967ce-47a7-4bba-961d-c9328d9fc101",
   "metadata": {},
   "outputs": [],
   "source": []
  },
  {
   "cell_type": "code",
   "execution_count": 47,
   "id": "1ff4f125-d87f-46ef-939b-94891dce6487",
   "metadata": {},
   "outputs": [
    {
     "data": {
      "text/plain": [
       "['subdir4', 'subdir3', 't1.c', 'subdir2', 'subdir5', 't1.h', 'subdir1']"
      ]
     },
     "execution_count": 47,
     "metadata": {},
     "output_type": "execute_result"
    }
   ],
   "source": [
    "os.listdir(path)"
   ]
  },
  {
   "cell_type": "code",
   "execution_count": 48,
   "id": "7a5cb5c8-a47a-46e1-949b-bafb11801982",
   "metadata": {},
   "outputs": [
    {
     "data": {
      "text/plain": [
       "['.gitkeep']"
      ]
     },
     "execution_count": 48,
     "metadata": {},
     "output_type": "execute_result"
    }
   ],
   "source": [
    "os.listdir(os.path.join(path, 'subdir4'))"
   ]
  },
  {
   "cell_type": "code",
   "execution_count": null,
   "id": "5a28993d-c7e4-4de7-a19a-f3619964c335",
   "metadata": {},
   "outputs": [],
   "source": []
  },
  {
   "cell_type": "code",
   "execution_count": null,
   "id": "fcf5056f-0441-4561-bb2a-72442cfcdc6b",
   "metadata": {},
   "outputs": [],
   "source": [
    "os.listdir[]"
   ]
  },
  {
   "cell_type": "code",
   "execution_count": 242,
   "id": "403ff30c-414d-4835-9df4-4e5f484c6804",
   "metadata": {},
   "outputs": [
    {
     "ename": "IndentationError",
     "evalue": "expected an indented block (459673298.py, line 1)",
     "output_type": "error",
     "traceback": [
      "\u001b[0;36m  File \u001b[0;32m\"/var/folders/bn/xnw38wz5697c2m0cykr9528m0000gn/T/ipykernel_14698/459673298.py\"\u001b[0;36m, line \u001b[0;32m1\u001b[0m\n\u001b[0;31m    for i in os.listdir(path):\u001b[0m\n\u001b[0m                              ^\u001b[0m\n\u001b[0;31mIndentationError\u001b[0m\u001b[0;31m:\u001b[0m expected an indented block\n"
     ]
    }
   ],
   "source": []
  },
  {
   "cell_type": "code",
   "execution_count": null,
   "id": "25deafa3-af64-496d-b73a-dba32a3f8ed4",
   "metadata": {},
   "outputs": [],
   "source": [
    "sorted(os.listdir(path))"
   ]
  },
  {
   "cell_type": "code",
   "execution_count": null,
   "id": "29f38f35-4012-43d4-8a69-da8e629d9b53",
   "metadata": {},
   "outputs": [],
   "source": []
  },
  {
   "cell_type": "code",
   "execution_count": 237,
   "id": "903488ac-0bcb-4c05-8200-0615cfd321e9",
   "metadata": {},
   "outputs": [
    {
     "data": {
      "text/plain": [
       "['subdir4', 'subdir3', 't1.c', 'subdir2', 'subdir5', 't1.h', 'subdir1']"
      ]
     },
     "execution_count": 237,
     "metadata": {},
     "output_type": "execute_result"
    }
   ],
   "source": [
    "os.listdir(path)"
   ]
  },
  {
   "cell_type": "code",
   "execution_count": 238,
   "id": "e55c64cd-9095-4779-903d-743de56c891e",
   "metadata": {},
   "outputs": [
    {
     "data": {
      "text/plain": [
       "['subdir1', 'subdir2', 'subdir3', 'subdir4', 'subdir5', 't1.c', 't1.h']"
      ]
     },
     "execution_count": 238,
     "metadata": {},
     "output_type": "execute_result"
    }
   ],
   "source": [
    "path = \"testdir\"\n",
    "sorted(os.listdir(path))"
   ]
  },
  {
   "cell_type": "code",
   "execution_count": 240,
   "id": "483c680e-ad0c-4d57-9165-2a7fc870b635",
   "metadata": {},
   "outputs": [
    {
     "data": {
      "text/plain": [
       "['subdir1', 't1.h', 'subdir5', 'subdir2', 't1.c', 'subdir3', 'subdir4']"
      ]
     },
     "execution_count": 240,
     "metadata": {},
     "output_type": "execute_result"
    }
   ],
   "source": [
    "os.listdir(path)[::-1]"
   ]
  },
  {
   "cell_type": "code",
   "execution_count": 241,
   "id": "59ad540b-dc45-4b66-8612-7bccdbf89a58",
   "metadata": {},
   "outputs": [
    {
     "name": "stdout",
     "output_type": "stream",
     "text": [
      "\u001b[1m\u001b[36msubdir1\u001b[m\u001b[m \u001b[1m\u001b[36msubdir2\u001b[m\u001b[m \u001b[1m\u001b[36msubdir3\u001b[m\u001b[m \u001b[1m\u001b[36msubdir4\u001b[m\u001b[m \u001b[1m\u001b[36msubdir5\u001b[m\u001b[m t1.c    t1.h\n"
     ]
    }
   ],
   "source": [
    "!ls testdir"
   ]
  },
  {
   "cell_type": "code",
   "execution_count": 226,
   "id": "777b7f2e-b52b-4ce5-b0d2-21785a22dd38",
   "metadata": {},
   "outputs": [
    {
     "data": {
      "text/plain": [
       "True"
      ]
     },
     "execution_count": 226,
     "metadata": {},
     "output_type": "execute_result"
    }
   ],
   "source": [
    "os.path.isfile('testdir/t1.c')"
   ]
  },
  {
   "cell_type": "code",
   "execution_count": 228,
   "id": "d2983863-2b37-4e25-83f7-98b82f3ef6d9",
   "metadata": {},
   "outputs": [
    {
     "data": {
      "text/plain": [
       "True"
      ]
     },
     "execution_count": 228,
     "metadata": {},
     "output_type": "execute_result"
    }
   ],
   "source": [
    "'testdir/t1.c'.endswith(\".c\")"
   ]
  },
  {
   "cell_type": "code",
   "execution_count": 235,
   "id": "6826d4f0-fbab-45b1-8e14-4f027cf61038",
   "metadata": {},
   "outputs": [
    {
     "data": {
      "text/plain": [
       "True"
      ]
     },
     "execution_count": 235,
     "metadata": {},
     "output_type": "execute_result"
    }
   ],
   "source": [
    "'testdir/t1.c'.endswith(\"\")"
   ]
  },
  {
   "cell_type": "code",
   "execution_count": 231,
   "id": "9e4fbc07-dbc2-4405-b0b2-f05557fd3b86",
   "metadata": {},
   "outputs": [
    {
     "data": {
      "text/plain": [
       "True"
      ]
     },
     "execution_count": 231,
     "metadata": {},
     "output_type": "execute_result"
    }
   ],
   "source": [
    "'testdir'.endswith(\"\")"
   ]
  },
  {
   "cell_type": "code",
   "execution_count": null,
   "id": "4d4fc3ac-4311-4c69-8847-66a95cec0f99",
   "metadata": {},
   "outputs": [],
   "source": [
    "## Locally save and call this file ex.py ##\n",
    "\n",
    "# Code to demonstrate the use of some of the OS modules in python\n",
    "\n",
    "import os\n",
    "\n",
    "# Let us print the files in the directory in which you are running this script\n",
    "print (os.listdir(\".\"))\n",
    "\n",
    "# Let us check if this file is indeed a file!\n",
    "print (os.path.isfile(\"./ex.py\"))\n",
    "\n",
    "# Does the file end with .py?\n",
    "print (\"./ex.py\".endswith(\".py\"))"
   ]
  },
  {
   "cell_type": "code",
   "execution_count": 152,
   "id": "772f1fa6-cb44-4d8e-a31b-09544ba5a813",
   "metadata": {},
   "outputs": [
    {
     "name": "stdout",
     "output_type": "stream",
     "text": [
      "Going forward through the list, should print 1, -2, 4\n",
      "1\n",
      "-2\n",
      "4\n",
      "\n",
      "Going backward through the list, should print 4, -2, 1\n",
      "4\n",
      "-2\n",
      "1\n"
     ]
    }
   ],
   "source": [
    "# Test your class here\n",
    "\n",
    "linked_list = DoublyLinkedList()\n",
    "linked_list.append(1)\n",
    "linked_list.append(-2)\n",
    "linked_list.append(4)\n",
    "\n",
    "print(\"Going forward through the list, should print 1, -2, 4\")\n",
    "node = linked_list.head\n",
    "while node:\n",
    "    print(node.value)\n",
    "    node = node.next\n",
    "\n",
    "print(\"\\nGoing backward through the list, should print 4, -2, 1\")\n",
    "node = linked_list.tail\n",
    "while node:\n",
    "    print(node.value)\n",
    "    node = node.prev"
   ]
  },
  {
   "cell_type": "code",
   "execution_count": 148,
   "id": "4c6595cf-20dc-4d2d-9986-6142ac046166",
   "metadata": {},
   "outputs": [
    {
     "data": {
      "text/plain": [
       "4"
      ]
     },
     "execution_count": 148,
     "metadata": {},
     "output_type": "execute_result"
    }
   ],
   "source": [
    "linked_list.head.next.next.value"
   ]
  },
  {
   "cell_type": "code",
   "execution_count": 142,
   "id": "a84dc24d-1aa1-4705-aa76-f32e068cbb77",
   "metadata": {},
   "outputs": [
    {
     "data": {
      "text/plain": [
       "4"
      ]
     },
     "execution_count": 142,
     "metadata": {},
     "output_type": "execute_result"
    }
   ],
   "source": [
    "linked_list.tail.value"
   ]
  },
  {
   "cell_type": "code",
   "execution_count": null,
   "id": "aa0e95b7-6d0f-442a-8074-4f4fe383ed94",
   "metadata": {},
   "outputs": [],
   "source": []
  },
  {
   "cell_type": "code",
   "execution_count": null,
   "id": "93b57389-f4fa-4e6d-a762-50912ed7ed84",
   "metadata": {},
   "outputs": [],
   "source": [
    "class Solution:\n",
    "    def sortArray(self, nums: list[int]) -> list[int]:\n",
    "        return self.mergesort(nums)\n",
    "\n",
    "\t# O(nlog(n)), O(n)\n",
    "    def mergesort(self, arr: list[int]) -> list[int]:\n",
    "        if len(arr) <= 1: return arr\n",
    "        \n",
    "        mid = len(arr) // 2\n",
    "        L = self.mergesort(arr[:mid])\n",
    "        R = self.mergesort(arr[mid:])\n",
    "        \n",
    "        merged = []\n",
    "        while L and R:\n",
    "            if L[0] <= R[0]:\n",
    "                merged.append(L.pop(0))\n",
    "            else:\n",
    "                merged.append(R.pop(0))\n",
    "        #merged.extend(L if L else R)\n",
    "        merged += L[0:]\n",
    "        merged += R[0:]\n",
    "        \n",
    "        return merged"
   ]
  },
  {
   "cell_type": "code",
   "execution_count": 27,
   "id": "3c28aa8f-1681-461a-b6bd-c2aeeee08482",
   "metadata": {},
   "outputs": [],
   "source": [
    "result = []\n",
    "\n",
    "def func(n):\n",
    "    if n <= 0:\n",
    "        return n\n",
    "    else:\n",
    "        n -= 1\n",
    "        func(n)\n",
    "        \n",
    "    result.append(n)\n",
    "        \n",
    "    return result"
   ]
  },
  {
   "cell_type": "code",
   "execution_count": 28,
   "id": "1b536019-41a0-470d-a407-ebab52a38fc7",
   "metadata": {},
   "outputs": [
    {
     "data": {
      "text/plain": [
       "[0, 1, 2]"
      ]
     },
     "execution_count": 28,
     "metadata": {},
     "output_type": "execute_result"
    }
   ],
   "source": [
    "func(3)"
   ]
  },
  {
   "cell_type": "code",
   "execution_count": 29,
   "id": "374d85cd-0e9a-4e5e-a789-1235f87cb9fa",
   "metadata": {},
   "outputs": [
    {
     "data": {
      "text/plain": [
       "1"
      ]
     },
     "execution_count": 29,
     "metadata": {},
     "output_type": "execute_result"
    }
   ],
   "source": [
    "3 & (-3)"
   ]
  },
  {
   "cell_type": "code",
   "execution_count": 33,
   "id": "1341abbc-1d01-4b89-9cb0-27cc01ad5feb",
   "metadata": {},
   "outputs": [
    {
     "data": {
      "text/plain": [
       "'dcba'"
      ]
     },
     "execution_count": 33,
     "metadata": {},
     "output_type": "execute_result"
    }
   ],
   "source": [
    "# O(n)\n",
    "def reverseString(s: str) -> str:\n",
    "    if len(s) <= 1:\n",
    "        return s[0]\n",
    "    \n",
    "    return s[-1] + reverseString(s[:-1])\n",
    "\n",
    "reverseString(s = 'abcd')"
   ]
  },
  {
   "cell_type": "code",
   "execution_count": 39,
   "id": "82681043-cd99-4629-94c8-8cd21cbb585a",
   "metadata": {},
   "outputs": [],
   "source": [
    "def isPalindrome(s: str) -> bool:\n",
    "    if len(s) <= 1:\n",
    "        return True\n",
    "    \n",
    "    if s[0] == s[-1]:\n",
    "        return isPalindrome(s[1:-1])\n",
    "    else:\n",
    "        return False"
   ]
  },
  {
   "cell_type": "code",
   "execution_count": 42,
   "id": "580aaf2d-94bf-41ba-b590-2adb4c0bcef6",
   "metadata": {},
   "outputs": [],
   "source": [
    "class Solution:\n",
    "    # O(log(n))\n",
    "    def search(self, nums: list[int], target: int) -> int:\n",
    "        return self.binarySearch(nums, target, 0, len(nums) - 1)\n",
    "    \n",
    "    def binarySearch(self, arr: list[int], target: int, l: int, r: int):\n",
    "        if l > r: return -1\n",
    "    \n",
    "        mid = (l + r) // 2\n",
    "        pivot = arr[mid]\n",
    "        if pivot == target:\n",
    "            return mid\n",
    "        elif pivot < target:\n",
    "            l = mid + 1\n",
    "        else:\n",
    "            r = mid - 1\n",
    "        \n",
    "        return self.binarySearch(nums, target, l, r)"
   ]
  },
  {
   "cell_type": "code",
   "execution_count": null,
   "id": "721ec789-3cd4-40af-af2f-bdf004a0b8d0",
   "metadata": {},
   "outputs": [],
   "source": []
  }
 ],
 "metadata": {
  "kernelspec": {
   "display_name": "Python 3.10",
   "language": "python",
   "name": "python3.10"
  },
  "language_info": {
   "codemirror_mode": {
    "name": "ipython",
    "version": 3
   },
   "file_extension": ".py",
   "mimetype": "text/x-python",
   "name": "python",
   "nbconvert_exporter": "python",
   "pygments_lexer": "ipython3",
   "version": "3.10.1"
  }
 },
 "nbformat": 4,
 "nbformat_minor": 5
}
