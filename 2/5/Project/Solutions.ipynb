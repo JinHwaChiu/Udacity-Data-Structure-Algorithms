{
 "cells": [
  {
   "cell_type": "markdown",
   "id": "dc1f88a4-bfee-4c3c-ab58-3b32a36225b2",
   "metadata": {},
   "source": [
    "# Problem 1\n",
    "\n",
    "**Least Recently Used Cache**\n",
    "\n",
    "We have briefly discussed caching as part of a practice problem while studying hash maps.\n",
    "\n",
    "The lookup operation (i.e., `get()`) and `put()` / `set()` is supposed to be fast for a cache memory.\n",
    "\n",
    "While doing the `get()` operation, if the entry is found in the cache, it is known as a `cache hit`. If, however, the entry is not found, it is known as a `cache miss`.\n",
    "\n",
    "When designing a cache, we also place an upper bound on the size of the cache. If the cache is full and we want to add a new entry to the cache, we use some criteria to remove an element. After removing an element, we use the `put()` operation to insert the new element. The remove operation should also be fast.\n",
    "\n",
    "For our first problem, the goal will be to design a data structure known as a **Least Recently Used (LRU) cache**. An LRU cache is a type of cache in which we remove the least recently used entry when the cache memory reaches its limit. For the current problem, consider both `get` and `set` operations as an `use operation`.\n",
    "\n",
    "Your job is to use an appropriate data structure(s) to implement the cache.\n",
    "\n",
    "-   In case of a `cache hit`, your `get()` operation should return the appropriate value.\n",
    "-   In case of a `cache miss`, your `get()` should return -1.\n",
    "-   While putting an element in the cache, your `put()` / `set()` operation must insert the element. If the cache is full, you must write code that removes the least recently used entry first and then insert the element.\n",
    "\n",
    "All operations must take `O(1)` time.\n",
    "\n",
    "For the current problem, you can consider the `size of cache = 5`.\n",
    "\n",
    "Here is some boiler plate code and some example test cases to get you started on this problem:"
   ]
  },
  {
   "cell_type": "markdown",
   "id": "caacc1d2-d0d8-4f39-9203-132a42e74b1d",
   "metadata": {},
   "source": [
    "## Approach 1: Ordered Dictionary"
   ]
  },
  {
   "cell_type": "code",
   "execution_count": 123,
   "id": "f3c63a82-ddd2-4cb1-b22f-f9acb1d68495",
   "metadata": {},
   "outputs": [],
   "source": [
    "from collections import OrderedDict\n",
    "\n",
    "\n",
    "# O(1), O(capacity)\n",
    "class LRU_Cache(OrderedDict):\n",
    "\n",
    "    def __init__(self, capacity):\n",
    "        # Initialize class variables\n",
    "        self.capacity = capacity\n",
    "\n",
    "    def get(self, key):\n",
    "        # Retrieve item from provided key. Return -1 if nonexistent. \n",
    "        # Cache hit\n",
    "        if key in self:\n",
    "            self.move_to_end(key)\n",
    "            return self[key]\n",
    "        # Cache miss\n",
    "        return -1\n",
    "\n",
    "    def set(self, key, value):\n",
    "        # Set the value if the key is not present in the cache. If the cache is at capacity remove the oldest item. \n",
    "        if key in self:\n",
    "            self.move_to_end(key)\n",
    "        self[key] = value\n",
    "        if len(self) > self.capacity:\n",
    "            self.popitem(last=False)"
   ]
  },
  {
   "cell_type": "code",
   "execution_count": 124,
   "id": "af1b22eb-351a-44a6-b0a8-4c87b0603f17",
   "metadata": {},
   "outputs": [
    {
     "data": {
      "text/plain": [
       "-1"
      ]
     },
     "execution_count": 124,
     "metadata": {},
     "output_type": "execute_result"
    }
   ],
   "source": [
    "our_cache = LRU_Cache(5)\n",
    "\n",
    "our_cache.set(1, 1);\n",
    "our_cache.set(2, 2);\n",
    "our_cache.set(3, 3);\n",
    "our_cache.set(4, 4);\n",
    "\n",
    "\n",
    "our_cache.get(1)       # returns 1\n",
    "our_cache.get(2)       # returns 2\n",
    "our_cache.get(9)      # returns -1 because 9 is not present in the cache\n",
    "\n",
    "our_cache.set(5, 5) \n",
    "our_cache.set(6, 6)\n",
    "\n",
    "our_cache.get(3)      # returns -1 because the cache reached it's capacity and 3 was the least recently used entry"
   ]
  },
  {
   "cell_type": "markdown",
   "id": "8a011713-6f0e-411a-bf0e-df858d459fdf",
   "metadata": {},
   "source": [
    "# Problem 2: File Recursion"
   ]
  },
  {
   "cell_type": "markdown",
   "id": "0ff8194a-34e3-4039-a046-5dc7c449c367",
   "metadata": {},
   "source": [
    "For this problem, the goal is to write code for finding all files under a directory (and all directories beneath it) that end with \".c\"\n",
    "\n",
    "Here is an example of a test directory listing, which can be downloaded [here](https://s3.amazonaws.com/udacity-dsand/testdir.zip):\n",
    "\n",
    "```\n",
    "./testdir\n",
    "./testdir/subdir1\n",
    "./testdir/subdir1/a.c\n",
    "./testdir/subdir1/a.h\n",
    "./testdir/subdir2\n",
    "./testdir/subdir2/.gitkeep\n",
    "./testdir/subdir3\n",
    "./testdir/subdir3/subsubdir1\n",
    "./testdir/subdir3/subsubdir1/b.c\n",
    "./testdir/subdir3/subsubdir1/b.h\n",
    "./testdir/subdir4\n",
    "./testdir/subdir4/.gitkeep\n",
    "./testdir/subdir5\n",
    "./testdir/subdir5/a.c\n",
    "./testdir/subdir5/a.h\n",
    "./testdir/t1.c\n",
    "./testdir/t1.h\n",
    "```\n",
    "\n",
    "Python's `os` module will be useful—in particular, you may want to use the following resources:\n",
    "\n",
    "[os.path.isdir(path)](https://docs.python.org/3.7/library/os.path.html#os.path.isdir)\n",
    "\n",
    "[os.path.isfile(path)](https://docs.python.org/3.7/library/os.path.html#os.path.isfile)\n",
    "\n",
    "[os.listdir(directory)](https://docs.python.org/3.7/library/os.html#os.listdir)\n",
    "\n",
    "[os.path.join(...)](https://docs.python.org/3.7/library/os.path.html#os.path.join)\n",
    "\n",
    "**Note:** `os.walk()` is a handy Python method which can achieve this task very easily. However, for this problem you are not allowed to use `os.walk()`.\n",
    "\n",
    "Here is some code for the function to get you started:\n",
    "\n",
    "```\n",
    "\n",
    "def find_files(suffix, path):\n",
    "    \"\"\"\n",
    "    Find all files beneath path with file name suffix.\n",
    "\n",
    "    Note that a path may contain further subdirectories\n",
    "    and those subdirectories may also contain further subdirectories.\n",
    "\n",
    "    There are no limit to the depth of the subdirectories can be.\n",
    "\n",
    "    Args:\n",
    "      suffix(str): suffix if the file name to be found\n",
    "      path(str): path of the file system\n",
    "\n",
    "    Returns:\n",
    "       a list of paths\n",
    "    \"\"\"\n",
    "    return None\n",
    "```\n",
    "\n",
    "**OS Module Exploration Code**\n",
    "\n",
    "```\n",
    "## Locally save and call this file ex.py ##\n",
    "\n",
    "# Code to demonstrate the use of some of the OS modules in python\n",
    "\n",
    "import os\n",
    "\n",
    "# Let us print the files in the directory in which you are running this script\n",
    "print (os.listdir(\".\"))\n",
    "\n",
    "# Let us check if this file is indeed a file!\n",
    "print (os.path.isfile(\"./ex.py\"))\n",
    "\n",
    "# Does the file end with .py?\n",
    "print (\"./ex.py\".endswith(\".py\"))\n",
    "```"
   ]
  },
  {
   "cell_type": "code",
   "execution_count": 170,
   "id": "62f569d4-6650-4b29-be9a-27d8c2f492cd",
   "metadata": {},
   "outputs": [
    {
     "name": "stdout",
     "output_type": "stream",
     "text": [
      "\u001b[01;34mtestdir\u001b[00m\n",
      "├── \u001b[01;34msubdir1\u001b[00m\n",
      "│   ├── a.c\n",
      "│   └── a.h\n",
      "├── \u001b[01;34msubdir2\u001b[00m\n",
      "│   └── .gitkeep\n",
      "├── \u001b[01;34msubdir3\u001b[00m\n",
      "│   └── \u001b[01;34msubsubdir1\u001b[00m\n",
      "│       ├── b.c\n",
      "│       └── b.h\n",
      "├── \u001b[01;34msubdir4\u001b[00m\n",
      "│   └── .gitkeep\n",
      "├── \u001b[01;34msubdir5\u001b[00m\n",
      "│   ├── a.c\n",
      "│   └── a.h\n",
      "├── t1.c\n",
      "└── t1.h\n",
      "\n",
      "6 directories, 10 files\n"
     ]
    }
   ],
   "source": [
    "!tree -a testdir"
   ]
  },
  {
   "cell_type": "code",
   "execution_count": 151,
   "id": "8f99e95c-7eee-4e3c-979d-41404b6af3c1",
   "metadata": {},
   "outputs": [],
   "source": [
    "class DoubleNode:\n",
    "    def __init__(self, value):\n",
    "        self.value = value\n",
    "        self.prev = None\n",
    "        self.next = None\n",
    "        \n",
    "class DoublyLinkedList:\n",
    "    def __init__(self):\n",
    "        self.head = None\n",
    "        self.tail = None\n",
    "        \n",
    "    def append(self, value):\n",
    "        # Set value to head if head is None\n",
    "        if self.head is None:\n",
    "            self.head = DoubleNode(value)\n",
    "            self.tail = self.head\n",
    "            return\n",
    "        \n",
    "        # Move to the tail\n",
    "        self.tail.next = DoubleNode(value)\n",
    "        self.tail.next.prev = self.tail\n",
    "        self.tail = self.tail.next\n",
    "        \n",
    "# O(1), O(capacity)\n",
    "class LRU_Cache(OrderedDict):\n",
    "\n",
    "    def __init__(self, capacity):\n",
    "        # Initialize class variables\n",
    "        self.capacity = capacity\n",
    "\n",
    "    def get(self, key):\n",
    "        # Retrieve item from provided key. Return -1 if nonexistent. \n",
    "        # Cache hit\n",
    "        if key in self:\n",
    "            self.move_to_end(key)\n",
    "            return self[key]\n",
    "        # Cache miss\n",
    "        return -1\n",
    "\n",
    "    def set(self, key, value):\n",
    "        # Set the value if the key is not present in the cache. If the cache is at capacity remove the oldest item. \n",
    "        if key in self:\n",
    "            self.move_to_end(key)\n",
    "        self[key] = value\n",
    "        if len(self) > self.capacity:\n",
    "            self.popitem(last=False)"
   ]
  },
  {
   "cell_type": "code",
   "execution_count": 223,
   "id": "28792a49-615e-4e26-a266-d65bed4dc73b",
   "metadata": {},
   "outputs": [
    {
     "name": "stdout",
     "output_type": "stream",
     "text": [
      "testdir\n",
      "    testdir/t1.c\n",
      "    testdir/t1.h\n",
      "    testdir/subdir1\n",
      "        testdir/subdir1/a.c\n",
      "        testdir/subdir1/a.h\n",
      "    testdir/subdir2\n",
      "        testdir/subdir2/.gitkeep\n",
      "    testdir/subdir3\n",
      "        testdir/subdir3/subsubdir1\n",
      "            testdir/subdir3/subsubdir1/b.c\n",
      "            testdir/subdir3/subsubdir1/b.h\n",
      "    testdir/subdir4\n",
      "        testdir/subdir4/.gitkeep\n",
      "    testdir/subdir5\n",
      "        testdir/subdir5/a.c\n",
      "        testdir/subdir5/a.h\n"
     ]
    }
   ],
   "source": [
    "# Achieve this task by os.walk\n",
    "import os\n",
    "\n",
    "for dirpath, dirnames, filenames in sorted(os.walk(\"testdir\", topdown=True)):\n",
    "    offset = len(dirpath.split(os.sep))\n",
    "    print(\"    \" * (offset - 1), dirpath, sep=\"\")\n",
    "    for file in sorted(filenames):\n",
    "        print(\"    \" * offset, os.path.join(dirpath, file), sep=\"\")"
   ]
  },
  {
   "cell_type": "code",
   "execution_count": 247,
   "id": "0587ba8e-a774-4275-8e51-88452bf742db",
   "metadata": {},
   "outputs": [],
   "source": [
    "def find_files(suffix, path):\n",
    "    \"\"\"\n",
    "    Find all files beneath path with file name suffix.\n",
    "\n",
    "    Note that a path may contain further subdirectories\n",
    "    and those subdirectories may also contain further subdirectories.\n",
    "\n",
    "    There are no limit to the depth of the subdirectories can be.\n",
    "\n",
    "    Args:\n",
    "      suffix(str): suffix if the file name to be found\n",
    "      path(str): path of the file system\n",
    "\n",
    "    Returns:\n",
    "       a list of paths\n",
    "    \"\"\"\n",
    "    # \"*\" is the wildcard character to match everything\n",
    "    if suffix == \"*\":\n",
    "        suffix = \"\"\n",
    "        \n",
    "    current_path = []\n",
    "    for i in os.listdir(path):\n",
    "        # Add files to current path\n",
    "        if os.path.isfile(os.path.join(path, i)):\n",
    "            current_path.append(os.path.join(path, i))\n",
    "            \n",
    "    return current_path"
   ]
  },
  {
   "cell_type": "code",
   "execution_count": 248,
   "id": "89361986-b4d4-43e4-bdbf-35a96b18e1dd",
   "metadata": {},
   "outputs": [
    {
     "data": {
      "text/plain": [
       "['testdir/t1.c', 'testdir/t1.h']"
      ]
     },
     "execution_count": 248,
     "metadata": {},
     "output_type": "execute_result"
    }
   ],
   "source": [
    "find_files(\"*\", \"testdir\")"
   ]
  },
  {
   "cell_type": "code",
   "execution_count": null,
   "id": "9ab82e3d-4b1d-4c4d-be6a-4bab363a1f34",
   "metadata": {},
   "outputs": [],
   "source": []
  },
  {
   "cell_type": "code",
   "execution_count": null,
   "id": "fcf5056f-0441-4561-bb2a-72442cfcdc6b",
   "metadata": {},
   "outputs": [],
   "source": [
    "os.listdir[]"
   ]
  },
  {
   "cell_type": "code",
   "execution_count": 242,
   "id": "403ff30c-414d-4835-9df4-4e5f484c6804",
   "metadata": {},
   "outputs": [
    {
     "ename": "IndentationError",
     "evalue": "expected an indented block (459673298.py, line 1)",
     "output_type": "error",
     "traceback": [
      "\u001b[0;36m  File \u001b[0;32m\"/var/folders/bn/xnw38wz5697c2m0cykr9528m0000gn/T/ipykernel_14698/459673298.py\"\u001b[0;36m, line \u001b[0;32m1\u001b[0m\n\u001b[0;31m    for i in os.listdir(path):\u001b[0m\n\u001b[0m                              ^\u001b[0m\n\u001b[0;31mIndentationError\u001b[0m\u001b[0;31m:\u001b[0m expected an indented block\n"
     ]
    }
   ],
   "source": []
  },
  {
   "cell_type": "code",
   "execution_count": null,
   "id": "25deafa3-af64-496d-b73a-dba32a3f8ed4",
   "metadata": {},
   "outputs": [],
   "source": [
    "sorted(os.listdir(path))"
   ]
  },
  {
   "cell_type": "code",
   "execution_count": null,
   "id": "29f38f35-4012-43d4-8a69-da8e629d9b53",
   "metadata": {},
   "outputs": [],
   "source": []
  },
  {
   "cell_type": "code",
   "execution_count": 237,
   "id": "903488ac-0bcb-4c05-8200-0615cfd321e9",
   "metadata": {},
   "outputs": [
    {
     "data": {
      "text/plain": [
       "['subdir4', 'subdir3', 't1.c', 'subdir2', 'subdir5', 't1.h', 'subdir1']"
      ]
     },
     "execution_count": 237,
     "metadata": {},
     "output_type": "execute_result"
    }
   ],
   "source": [
    "os.listdir(path)"
   ]
  },
  {
   "cell_type": "code",
   "execution_count": 238,
   "id": "e55c64cd-9095-4779-903d-743de56c891e",
   "metadata": {},
   "outputs": [
    {
     "data": {
      "text/plain": [
       "['subdir1', 'subdir2', 'subdir3', 'subdir4', 'subdir5', 't1.c', 't1.h']"
      ]
     },
     "execution_count": 238,
     "metadata": {},
     "output_type": "execute_result"
    }
   ],
   "source": [
    "path = \"testdir\"\n",
    "sorted(os.listdir(path))"
   ]
  },
  {
   "cell_type": "code",
   "execution_count": 240,
   "id": "483c680e-ad0c-4d57-9165-2a7fc870b635",
   "metadata": {},
   "outputs": [
    {
     "data": {
      "text/plain": [
       "['subdir1', 't1.h', 'subdir5', 'subdir2', 't1.c', 'subdir3', 'subdir4']"
      ]
     },
     "execution_count": 240,
     "metadata": {},
     "output_type": "execute_result"
    }
   ],
   "source": [
    "os.listdir(path)[::-1]"
   ]
  },
  {
   "cell_type": "code",
   "execution_count": 241,
   "id": "59ad540b-dc45-4b66-8612-7bccdbf89a58",
   "metadata": {},
   "outputs": [
    {
     "name": "stdout",
     "output_type": "stream",
     "text": [
      "\u001b[1m\u001b[36msubdir1\u001b[m\u001b[m \u001b[1m\u001b[36msubdir2\u001b[m\u001b[m \u001b[1m\u001b[36msubdir3\u001b[m\u001b[m \u001b[1m\u001b[36msubdir4\u001b[m\u001b[m \u001b[1m\u001b[36msubdir5\u001b[m\u001b[m t1.c    t1.h\n"
     ]
    }
   ],
   "source": [
    "!ls testdir"
   ]
  },
  {
   "cell_type": "code",
   "execution_count": 226,
   "id": "777b7f2e-b52b-4ce5-b0d2-21785a22dd38",
   "metadata": {},
   "outputs": [
    {
     "data": {
      "text/plain": [
       "True"
      ]
     },
     "execution_count": 226,
     "metadata": {},
     "output_type": "execute_result"
    }
   ],
   "source": [
    "os.path.isfile('testdir/t1.c')"
   ]
  },
  {
   "cell_type": "code",
   "execution_count": 228,
   "id": "d2983863-2b37-4e25-83f7-98b82f3ef6d9",
   "metadata": {},
   "outputs": [
    {
     "data": {
      "text/plain": [
       "True"
      ]
     },
     "execution_count": 228,
     "metadata": {},
     "output_type": "execute_result"
    }
   ],
   "source": [
    "'testdir/t1.c'.endswith(\".c\")"
   ]
  },
  {
   "cell_type": "code",
   "execution_count": 235,
   "id": "6826d4f0-fbab-45b1-8e14-4f027cf61038",
   "metadata": {},
   "outputs": [
    {
     "data": {
      "text/plain": [
       "True"
      ]
     },
     "execution_count": 235,
     "metadata": {},
     "output_type": "execute_result"
    }
   ],
   "source": [
    "'testdir/t1.c'.endswith(\"\")"
   ]
  },
  {
   "cell_type": "code",
   "execution_count": 231,
   "id": "9e4fbc07-dbc2-4405-b0b2-f05557fd3b86",
   "metadata": {},
   "outputs": [
    {
     "data": {
      "text/plain": [
       "True"
      ]
     },
     "execution_count": 231,
     "metadata": {},
     "output_type": "execute_result"
    }
   ],
   "source": [
    "'testdir'.endswith(\"\")"
   ]
  },
  {
   "cell_type": "code",
   "execution_count": null,
   "id": "4d4fc3ac-4311-4c69-8847-66a95cec0f99",
   "metadata": {},
   "outputs": [],
   "source": [
    "## Locally save and call this file ex.py ##\n",
    "\n",
    "# Code to demonstrate the use of some of the OS modules in python\n",
    "\n",
    "import os\n",
    "\n",
    "# Let us print the files in the directory in which you are running this script\n",
    "print (os.listdir(\".\"))\n",
    "\n",
    "# Let us check if this file is indeed a file!\n",
    "print (os.path.isfile(\"./ex.py\"))\n",
    "\n",
    "# Does the file end with .py?\n",
    "print (\"./ex.py\".endswith(\".py\"))"
   ]
  },
  {
   "cell_type": "code",
   "execution_count": 152,
   "id": "772f1fa6-cb44-4d8e-a31b-09544ba5a813",
   "metadata": {},
   "outputs": [
    {
     "name": "stdout",
     "output_type": "stream",
     "text": [
      "Going forward through the list, should print 1, -2, 4\n",
      "1\n",
      "-2\n",
      "4\n",
      "\n",
      "Going backward through the list, should print 4, -2, 1\n",
      "4\n",
      "-2\n",
      "1\n"
     ]
    }
   ],
   "source": [
    "# Test your class here\n",
    "\n",
    "linked_list = DoublyLinkedList()\n",
    "linked_list.append(1)\n",
    "linked_list.append(-2)\n",
    "linked_list.append(4)\n",
    "\n",
    "print(\"Going forward through the list, should print 1, -2, 4\")\n",
    "node = linked_list.head\n",
    "while node:\n",
    "    print(node.value)\n",
    "    node = node.next\n",
    "\n",
    "print(\"\\nGoing backward through the list, should print 4, -2, 1\")\n",
    "node = linked_list.tail\n",
    "while node:\n",
    "    print(node.value)\n",
    "    node = node.prev"
   ]
  },
  {
   "cell_type": "code",
   "execution_count": 148,
   "id": "4c6595cf-20dc-4d2d-9986-6142ac046166",
   "metadata": {},
   "outputs": [
    {
     "data": {
      "text/plain": [
       "4"
      ]
     },
     "execution_count": 148,
     "metadata": {},
     "output_type": "execute_result"
    }
   ],
   "source": [
    "linked_list.head.next.next.value"
   ]
  },
  {
   "cell_type": "code",
   "execution_count": 142,
   "id": "a84dc24d-1aa1-4705-aa76-f32e068cbb77",
   "metadata": {},
   "outputs": [
    {
     "data": {
      "text/plain": [
       "4"
      ]
     },
     "execution_count": 142,
     "metadata": {},
     "output_type": "execute_result"
    }
   ],
   "source": [
    "linked_list.tail.value"
   ]
  },
  {
   "cell_type": "code",
   "execution_count": null,
   "id": "3c28aa8f-1681-461a-b6bd-c2aeeee08482",
   "metadata": {},
   "outputs": [],
   "source": []
  }
 ],
 "metadata": {
  "kernelspec": {
   "display_name": "Python 3 (ipykernel)",
   "language": "python",
   "name": "python3"
  },
  "language_info": {
   "codemirror_mode": {
    "name": "ipython",
    "version": 3
   },
   "file_extension": ".py",
   "mimetype": "text/x-python",
   "name": "python",
   "nbconvert_exporter": "python",
   "pygments_lexer": "ipython3",
   "version": "3.9.9"
  }
 },
 "nbformat": 4,
 "nbformat_minor": 5
}
