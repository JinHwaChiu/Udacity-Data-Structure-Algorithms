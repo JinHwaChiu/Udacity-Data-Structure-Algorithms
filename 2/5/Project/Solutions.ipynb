{
 "cells": [
  {
   "cell_type": "markdown",
   "id": "dc1f88a4-bfee-4c3c-ab58-3b32a36225b2",
   "metadata": {},
   "source": [
    "# Problem 1\n",
    "\n",
    "**Least Recently Used Cache**\n",
    "\n",
    "We have briefly discussed caching as part of a practice problem while studying hash maps.\n",
    "\n",
    "The lookup operation (i.e., `get()`) and `put()` / `set()` is supposed to be fast for a cache memory.\n",
    "\n",
    "While doing the `get()` operation, if the entry is found in the cache, it is known as a `cache hit`. If, however, the entry is not found, it is known as a `cache miss`.\n",
    "\n",
    "When designing a cache, we also place an upper bound on the size of the cache. If the cache is full and we want to add a new entry to the cache, we use some criteria to remove an element. After removing an element, we use the `put()` operation to insert the new element. The remove operation should also be fast.\n",
    "\n",
    "For our first problem, the goal will be to design a data structure known as a **Least Recently Used (LRU) cache**. An LRU cache is a type of cache in which we remove the least recently used entry when the cache memory reaches its limit. For the current problem, consider both `get` and `set` operations as an `use operation`.\n",
    "\n",
    "Your job is to use an appropriate data structure(s) to implement the cache.\n",
    "\n",
    "-   In case of a `cache hit`, your `get()` operation should return the appropriate value.\n",
    "-   In case of a `cache miss`, your `get()` should return -1.\n",
    "-   While putting an element in the cache, your `put()` / `set()` operation must insert the element. If the cache is full, you must write code that removes the least recently used entry first and then insert the element.\n",
    "\n",
    "All operations must take `O(1)` time.\n",
    "\n",
    "For the current problem, you can consider the `size of cache = 5`.\n",
    "\n",
    "Here is some boiler plate code and some example test cases to get you started on this problem:\n",
    "\n",
    "```py\n",
    "class LRU_Cache(object):\n",
    "\n",
    "    def __init__(self, capacity):\n",
    "        # Initialize class variables\n",
    "        pass\n",
    "\n",
    "    def get(self, key):\n",
    "        # Retrieve item from provided key. Return -1 if nonexistent. \n",
    "        pass\n",
    "\n",
    "    def set(self, key, value):\n",
    "        # Set the value if the key is not present in the cache. If the cache is at capacity remove the oldest item. \n",
    "        pass\n",
    "\n",
    "our_cache = LRU_Cache(5)\n",
    "\n",
    "our_cache.set(1, 1);\n",
    "our_cache.set(2, 2);\n",
    "our_cache.set(3, 3);\n",
    "our_cache.set(4, 4);\n",
    "\n",
    "\n",
    "our_cache.get(1)       # returns 1\n",
    "our_cache.get(2)       # returns 2\n",
    "our_cache.get(9)      # returns -1 because 9 is not present in the cache\n",
    "\n",
    "our_cache.set(5, 5) \n",
    "our_cache.set(6, 6)\n",
    "\n",
    "our_cache.get(3)      # returns -1 because the cache reached it's capacity and 3 was the least recently used entry\n",
    "```"
   ]
  },
  {
   "cell_type": "markdown",
   "id": "caacc1d2-d0d8-4f39-9203-132a42e74b1d",
   "metadata": {},
   "source": [
    "## Approach 1: Ordered Dictionary"
   ]
  },
  {
   "cell_type": "markdown",
   "id": "969d782b-22ed-492b-beb9-1ca93f7b539a",
   "metadata": {},
   "source": [
    "<img src=\"https://raw.githubusercontent.com/ZacksAmber/Udacity-Data-Structure-Algorithms/main/2/5/Project/problem_1.drawio.svg\"></img>"
   ]
  },
  {
   "cell_type": "code",
   "execution_count": 1,
   "id": "f3c63a82-ddd2-4cb1-b22f-f9acb1d68495",
   "metadata": {},
   "outputs": [],
   "source": [
    "from typing import Union\n",
    "from collections import OrderedDict\n",
    "\n",
    "\n",
    "# O(1), O(capacity)\n",
    "class LRU_Cache(OrderedDict):\n",
    "    \"\"\"LRU_Cache cache the latest added or visited key-paired items within the capacity defined by user.\n",
    "        \n",
    "    Attributes:\n",
    "        capacity: The capacity of LRU_Cache instance.\n",
    "    \"\"\"\n",
    "    \n",
    "    def __init__(self, capacity: int):\n",
    "        \"\"\"Inits LRU_Cache with a capacity.\n",
    "        \n",
    "        Args:\n",
    "            capacity: The capacity of LRU_Cache instance.\n",
    "        \"\"\"\n",
    "        self.capacity = capacity\n",
    "\n",
    "    def get(self, key: Union[str, int, float]):  # For Python 3.5 - 3.9\n",
    "    # def get(self, key: str | int | float):  # For Python >= 3.10\n",
    "        \"\"\"Return the value for key if key is in the LRU_Cache instance, else -1.\n",
    "        \n",
    "        Args:\n",
    "            key: The key of the item.\n",
    "            \n",
    "        Returns:\n",
    "            value: The value of the item.\n",
    "        \"\"\"\n",
    "        # Cache hit\n",
    "        if key in self:\n",
    "            self.move_to_end(key)\n",
    "            return self[key]\n",
    "        # Cache miss\n",
    "        return -1\n",
    "\n",
    "    def set(self, key: Union[str, int, float], value: any):  # For Python 3.5 - 3.9\n",
    "    # def set(self, key: str | int | float, value: any):  # For Python >= 3.10\n",
    "        \"\"\"Add an item into the LRU_Cache instance if the key is not present in the cache. \n",
    "        \n",
    "        If the key is present in the cache, this item will be the latest visited one.\n",
    "        If the cache is at capacity, remove the oldest item.\n",
    "        \n",
    "        Args:\n",
    "            key: The key of the item.\n",
    "            value: The value of the item.\n",
    "        \"\"\"\n",
    "        if key in self:\n",
    "            self.move_to_end(key)\n",
    "\n",
    "        self[key] = value\n",
    "        if len(self) > self.capacity:\n",
    "            self.popitem(last=False)"
   ]
  },
  {
   "cell_type": "code",
   "execution_count": 2,
   "id": "af1b22eb-351a-44a6-b0a8-4c87b0603f17",
   "metadata": {},
   "outputs": [
    {
     "data": {
      "text/plain": [
       "-1"
      ]
     },
     "execution_count": 2,
     "metadata": {},
     "output_type": "execute_result"
    }
   ],
   "source": [
    "our_cache = LRU_Cache(5)\n",
    "\n",
    "our_cache.set(1, 1);\n",
    "our_cache.set(2, 2);\n",
    "our_cache.set(3, 3);\n",
    "our_cache.set(4, 4);\n",
    "\n",
    "\n",
    "our_cache.get(1)       # returns 1\n",
    "our_cache.get(2)       # returns 2\n",
    "our_cache.get(9)      # returns -1 because 9 is not present in the cache\n",
    "\n",
    "our_cache.set(5, 5) \n",
    "our_cache.set(6, 6)\n",
    "\n",
    "our_cache.get(3)      # returns -1 because the cache reached it's capacity and 3 was the least recently used entry"
   ]
  },
  {
   "cell_type": "markdown",
   "id": "8a011713-6f0e-411a-bf0e-df858d459fdf",
   "metadata": {},
   "source": [
    "# Problem 2: File Recursion"
   ]
  },
  {
   "cell_type": "markdown",
   "id": "0ff8194a-34e3-4039-a046-5dc7c449c367",
   "metadata": {},
   "source": [
    "For this problem, the goal is to write code for finding all files under a directory (and all directories beneath it) that end with \".c\"\n",
    "\n",
    "Here is an example of a test directory listing, which can be downloaded [here](https://s3.amazonaws.com/udacity-dsand/testdir.zip):\n",
    "\n",
    "```\n",
    "./testdir\n",
    "./testdir/subdir1\n",
    "./testdir/subdir1/a.c\n",
    "./testdir/subdir1/a.h\n",
    "./testdir/subdir2\n",
    "./testdir/subdir2/.gitkeep\n",
    "./testdir/subdir3\n",
    "./testdir/subdir3/subsubdir1\n",
    "./testdir/subdir3/subsubdir1/b.c\n",
    "./testdir/subdir3/subsubdir1/b.h\n",
    "./testdir/subdir4\n",
    "./testdir/subdir4/.gitkeep\n",
    "./testdir/subdir5\n",
    "./testdir/subdir5/a.c\n",
    "./testdir/subdir5/a.h\n",
    "./testdir/t1.c\n",
    "./testdir/t1.h\n",
    "```\n",
    "\n",
    "Python's `os` module will be useful—in particular, you may want to use the following resources:\n",
    "\n",
    "[os.path.isdir(path)](https://docs.python.org/3.7/library/os.path.html#os.path.isdir)\n",
    "\n",
    "[os.path.isfile(path)](https://docs.python.org/3.7/library/os.path.html#os.path.isfile)\n",
    "\n",
    "[os.listdir(directory)](https://docs.python.org/3.7/library/os.html#os.listdir)\n",
    "\n",
    "[os.path.join(...)](https://docs.python.org/3.7/library/os.path.html#os.path.join)\n",
    "\n",
    "**Note:** `os.walk()` is a handy Python method which can achieve this task very easily. However, for this problem you are not allowed to use `os.walk()`.\n",
    "\n",
    "Here is some code for the function to get you started:\n",
    "\n",
    "```\n",
    "\n",
    "def find_files(suffix, path):\n",
    "    \"\"\"\n",
    "    Find all files beneath path with file name suffix.\n",
    "\n",
    "    Note that a path may contain further subdirectories\n",
    "    and those subdirectories may also contain further subdirectories.\n",
    "\n",
    "    There are no limit to the depth of the subdirectories can be.\n",
    "\n",
    "    Args:\n",
    "      suffix(str): suffix if the file name to be found\n",
    "      path(str): path of the file system\n",
    "\n",
    "    Returns:\n",
    "       a list of paths\n",
    "    \"\"\"\n",
    "    return None\n",
    "```\n",
    "\n",
    "**OS Module Exploration Code**\n",
    "\n",
    "```\n",
    "## Locally save and call this file ex.py ##\n",
    "\n",
    "# Code to demonstrate the use of some of the OS modules in python\n",
    "\n",
    "import os\n",
    "\n",
    "# Let us print the files in the directory in which you are running this script\n",
    "print (os.listdir(\".\"))\n",
    "\n",
    "# Let us check if this file is indeed a file!\n",
    "print (os.path.isfile(\"./ex.py\"))\n",
    "\n",
    "# Does the file end with .py?\n",
    "print (\"./ex.py\".endswith(\".py\"))\n",
    "```"
   ]
  },
  {
   "cell_type": "code",
   "execution_count": 3,
   "id": "62f569d4-6650-4b29-be9a-27d8c2f492cd",
   "metadata": {},
   "outputs": [
    {
     "name": "stdout",
     "output_type": "stream",
     "text": [
      "\u001b[01;34mtestdir\u001b[00m\n",
      "├── \u001b[01;34msubdir1\u001b[00m\n",
      "│   ├── a.c\n",
      "│   └── a.h\n",
      "├── \u001b[01;34msubdir2\u001b[00m\n",
      "│   └── .gitkeep\n",
      "├── \u001b[01;34msubdir3\u001b[00m\n",
      "│   └── \u001b[01;34msubsubdir1\u001b[00m\n",
      "│       ├── b.c\n",
      "│       └── b.h\n",
      "├── \u001b[01;34msubdir4\u001b[00m\n",
      "│   └── .gitkeep\n",
      "├── \u001b[01;34msubdir5\u001b[00m\n",
      "│   ├── a.c\n",
      "│   └── a.h\n",
      "├── t1.c\n",
      "└── t1.h\n",
      "\n",
      "6 directories, 10 files\n"
     ]
    }
   ],
   "source": [
    "!tree -a testdir"
   ]
  },
  {
   "cell_type": "markdown",
   "id": "2fec5323-30f8-469b-853d-1a63b684cc9d",
   "metadata": {},
   "source": [
    "5 SIMPLE STEPS\n",
    "1. What's the simplest possible input?\n",
    "2. Play around with examples and visualize!\n",
    "3. Relate hard cases to simpler cases.\n",
    "4. Generalize the pattern.\n",
    "5. Write code by combining recursive pattern with the base case."
   ]
  },
  {
   "cell_type": "markdown",
   "id": "0806612a-0cd7-4fd8-acc2-2f3ad376ad1a",
   "metadata": {},
   "source": [
    "## Approach 1: os.walk"
   ]
  },
  {
   "cell_type": "code",
   "execution_count": 4,
   "id": "28792a49-615e-4e26-a266-d65bed4dc73b",
   "metadata": {},
   "outputs": [],
   "source": [
    "import os\n",
    "\n",
    "def find_files(suffix=\"*\", path=\"./\"):\n",
    "    \"\"\"Find all files beneath path with file name suffix (extension).\n",
    "\n",
    "    Args:\n",
    "      suffix: suffix if the file name to be found.\n",
    "      path: path of the file system.\n",
    "\n",
    "    Returns:\n",
    "       None\n",
    "    \"\"\"\n",
    "    # \"*\" is the wildcard character to match everything\n",
    "    if suffix == \"*\":\n",
    "        suffix = \"\"\n",
    "\n",
    "    for dirpath, dirnames, filenames in sorted(os.walk(path, topdown=True)):\n",
    "        offset = len(dirpath.split(os.sep))\n",
    "        print(\"    \" * (offset - 1), dirpath, sep=\"\")\n",
    "        for file in sorted(filenames):\n",
    "            if file.endswith(suffix):\n",
    "                print(\"    \" * offset, os.path.join(dirpath, file), sep=\"\")"
   ]
  },
  {
   "cell_type": "code",
   "execution_count": 5,
   "id": "6aca0c93-33ed-4aa1-9094-b3aeeb338478",
   "metadata": {},
   "outputs": [
    {
     "name": "stdout",
     "output_type": "stream",
     "text": [
      "    ./testdir\n",
      "        ./testdir/t1.c\n",
      "        ./testdir/t1.h\n",
      "        ./testdir/subdir1\n",
      "            ./testdir/subdir1/a.c\n",
      "            ./testdir/subdir1/a.h\n",
      "        ./testdir/subdir2\n",
      "            ./testdir/subdir2/.gitkeep\n",
      "        ./testdir/subdir3\n",
      "            ./testdir/subdir3/subsubdir1\n",
      "                ./testdir/subdir3/subsubdir1/b.c\n",
      "                ./testdir/subdir3/subsubdir1/b.h\n",
      "        ./testdir/subdir4\n",
      "            ./testdir/subdir4/.gitkeep\n",
      "        ./testdir/subdir5\n",
      "            ./testdir/subdir5/a.c\n",
      "            ./testdir/subdir5/a.h\n"
     ]
    }
   ],
   "source": [
    "find_files(\"*\", \"./testdir\")"
   ]
  },
  {
   "cell_type": "code",
   "execution_count": 6,
   "id": "eb623d9f-313e-4585-b423-caef45c55c9e",
   "metadata": {},
   "outputs": [
    {
     "name": "stdout",
     "output_type": "stream",
     "text": [
      "    ./testdir\n",
      "        ./testdir/t1.c\n",
      "        ./testdir/subdir1\n",
      "            ./testdir/subdir1/a.c\n",
      "        ./testdir/subdir2\n",
      "        ./testdir/subdir3\n",
      "            ./testdir/subdir3/subsubdir1\n",
      "                ./testdir/subdir3/subsubdir1/b.c\n",
      "        ./testdir/subdir4\n",
      "        ./testdir/subdir5\n",
      "            ./testdir/subdir5/a.c\n"
     ]
    }
   ],
   "source": [
    "find_files(\".c\", \"./testdir\")"
   ]
  },
  {
   "cell_type": "markdown",
   "id": "f4fa617b-0298-4971-bdc0-3648e39ca65c",
   "metadata": {},
   "source": [
    "---\n",
    "\n",
    "## Approach 2: No os.walk"
   ]
  },
  {
   "cell_type": "markdown",
   "id": "8242aa8c-39ef-4604-8009-60a4453d6f87",
   "metadata": {},
   "source": [
    "<img src=\"https://raw.githubusercontent.com/ZacksAmber/Udacity-Data-Structure-Algorithms/main/2/5/Project/problem_2.drawio.svg\"></img>"
   ]
  },
  {
   "cell_type": "code",
   "execution_count": 7,
   "id": "b15c5df6-03de-4cfa-941a-e796afd613c5",
   "metadata": {},
   "outputs": [],
   "source": [
    "import os\n",
    "\n",
    "def find_files(suffix=\"*\", path=\"./\"):\n",
    "    \"\"\"Find all files beneath path with file name suffix (extension).\n",
    "\n",
    "    Args:\n",
    "      suffix: suffix if the file name to be found.\n",
    "      path: path of the file system.\n",
    "\n",
    "    Returns:\n",
    "       None\n",
    "    \"\"\"\n",
    "    # \"*\" is the wildcard character to match everything\n",
    "    if suffix == \"*\":\n",
    "        suffix = \"\"\n",
    "\n",
    "    # Sort the listdir\n",
    "    listdir = os.listdir(path)\n",
    "    listdir = sorted(listdir)\n",
    "\n",
    "    for child in listdir:\n",
    "        current_path = os.path.join(path, child)\n",
    "        if os.path.isdir(current_path):\n",
    "            print(f\"{current_path}\")\n",
    "            find_files(suffix, current_path)\n",
    "        else:\n",
    "            if current_path.endswith(suffix):\n",
    "                print(f\"{current_path}\")"
   ]
  },
  {
   "cell_type": "code",
   "execution_count": 8,
   "id": "53a35fef-cc7b-456f-8121-c63a7935cef0",
   "metadata": {},
   "outputs": [
    {
     "name": "stdout",
     "output_type": "stream",
     "text": [
      "./testdir/subdir1\n",
      "./testdir/subdir1/a.c\n",
      "./testdir/subdir1/a.h\n",
      "./testdir/subdir2\n",
      "./testdir/subdir2/.gitkeep\n",
      "./testdir/subdir3\n",
      "./testdir/subdir3/subsubdir1\n",
      "./testdir/subdir3/subsubdir1/b.c\n",
      "./testdir/subdir3/subsubdir1/b.h\n",
      "./testdir/subdir4\n",
      "./testdir/subdir4/.gitkeep\n",
      "./testdir/subdir5\n",
      "./testdir/subdir5/a.c\n",
      "./testdir/subdir5/a.h\n",
      "./testdir/t1.c\n",
      "./testdir/t1.h\n"
     ]
    }
   ],
   "source": [
    "find_files(\"*\", \"./testdir\")"
   ]
  },
  {
   "cell_type": "code",
   "execution_count": 9,
   "id": "84c141b1-d079-4b0c-addc-19a600660b57",
   "metadata": {},
   "outputs": [
    {
     "name": "stdout",
     "output_type": "stream",
     "text": [
      "./testdir/subdir1\n",
      "./testdir/subdir1/a.c\n",
      "./testdir/subdir2\n",
      "./testdir/subdir3\n",
      "./testdir/subdir3/subsubdir1\n",
      "./testdir/subdir3/subsubdir1/b.c\n",
      "./testdir/subdir4\n",
      "./testdir/subdir5\n",
      "./testdir/subdir5/a.c\n",
      "./testdir/t1.c\n"
     ]
    }
   ],
   "source": [
    "# Filter files with extension .c\n",
    "find_files(\".c\", \"./testdir\")"
   ]
  },
  {
   "cell_type": "code",
   "execution_count": null,
   "id": "532458b5-92b4-4838-b449-0fca5b97ed7b",
   "metadata": {},
   "outputs": [],
   "source": []
  }
 ],
 "metadata": {
  "kernelspec": {
   "display_name": "Python 3.10",
   "language": "python",
   "name": "python3.10"
  },
  "language_info": {
   "codemirror_mode": {
    "name": "ipython",
    "version": 3
   },
   "file_extension": ".py",
   "mimetype": "text/x-python",
   "name": "python",
   "nbconvert_exporter": "python",
   "pygments_lexer": "ipython3",
   "version": "3.10.1"
  }
 },
 "nbformat": 4,
 "nbformat_minor": 5
}
