{
 "cells": [
  {
   "cell_type": "markdown",
   "metadata": {},
   "source": [
    "# Days Between Dates\n",
    "\n",
    "This lesson will focus on one problem: calculating the number of days between two dates. \n",
    "\n",
    "This workspace is yours to use in whatever way is helpful. You might want to keep it open in a second tab as you go through the videos. \n",
    "\n"
   ]
  },
  {
   "cell_type": "code",
   "execution_count": 4,
   "metadata": {},
   "outputs": [],
   "source": [
    "def isLeapYear(year):\n",
    "    if year % 400 == 0:\n",
    "        return 29\n",
    "    elif year % 100 == 0:\n",
    "        return 28\n",
    "    elif year % 4 == 0:\n",
    "        return 29\n",
    "    else:\n",
    "        return 28    \n",
    "\n",
    "def daysInMonth(year, month):\n",
    "    month_30 = [4, 6, 9, 11]\n",
    "    month_31 = [1, 3 , 5, 7, 8, 10, 12]\n",
    "    if month in month_31:\n",
    "        return 31\n",
    "    elif month in month_30:\n",
    "        return 30\n",
    "    elif :\n",
    "        return isLeapYear(year)\n",
    "\n",
    "def nextDay(year, month, day):\n",
    "    \"\"\"\n",
    "    Returns the year, month, day of the next day.\n",
    "    Simple version: assume every month has 30 days.\n",
    "    \"\"\"\n",
    "    # YOUR CODE HERE\n",
    "    if day < daysInMonth(year, month):\n",
    "        return year, month, day + 1\n",
    "    else:\n",
    "        if month == 12:\n",
    "            return year + 1, 1, 1\n",
    "        else:\n",
    "            return year, month + 1, 1\n",
    "\n",
    "def daysBetweenDates(year1, month1, day1, year2, month2, day2):\n",
    "    \"\"\"\n",
    "    Calculates the number of days between two dates.\n",
    "    \"\"\"\n",
    "    \n",
    "    # TODO - by the end of this lesson you will have\n",
    "    #  completed this function. You do not need to complete\n",
    "    #  it yet though!\n",
    "    assert (year1, month1, day1) <= (year2, month2, day2)\n",
    "    days = 0\n",
    "    while (year1, month1, day1) < (year2, month2, day2):\n",
    "        year1, month1, day1 = nextDay(year1, month1, day1)\n",
    "        days += 1\n",
    "    return days"
   ]
  },
  {
   "cell_type": "code",
   "execution_count": 5,
   "metadata": {},
   "outputs": [
    {
     "name": "stdout",
     "output_type": "stream",
     "text": [
      "Congratulations! Your daysBetweenDates\n",
      "function is working correctly!\n",
      "CPU times: user 406 µs, sys: 89 µs, total: 495 µs\n",
      "Wall time: 450 µs\n"
     ]
    }
   ],
   "source": [
    "%%time\n",
    "def testDaysBetweenDates():\n",
    "    \n",
    "    # test same day\n",
    "    assert(daysBetweenDates(2017, 12, 30,\n",
    "                              2017, 12, 30) == 0)\n",
    "    # test adjacent days\n",
    "    assert(daysBetweenDates(2017, 12, 30, \n",
    "                              2017, 12, 31) == 1)\n",
    "    # test new year\n",
    "    assert(daysBetweenDates(2017, 12, 30, \n",
    "                              2018, 1,  1)  == 2)\n",
    "    # test full year difference\n",
    "    assert(daysBetweenDates(2012, 6, 29,\n",
    "                              2013, 6, 29)  == 365)\n",
    "    \n",
    "    print(\"Congratulations! Your daysBetweenDates\")\n",
    "    print(\"function is working correctly!\")\n",
    "    \n",
    "testDaysBetweenDates()"
   ]
  },
  {
   "cell_type": "code",
   "execution_count": 6,
   "metadata": {},
   "outputs": [
    {
     "name": "stdout",
     "output_type": "stream",
     "text": [
      "Test case passed!\n",
      "Test case passed!\n",
      "Test case passed!\n",
      "Test case passed!\n",
      "Test case passed!\n",
      "CPU times: user 26.6 ms, sys: 1.24 ms, total: 27.9 ms\n",
      "Wall time: 27.4 ms\n"
     ]
    }
   ],
   "source": [
    "%%time\n",
    "def test():\n",
    "    test_cases = [((2012,1,1,2012,2,28), 58), \n",
    "                  ((2012,1,1,2012,3,1), 60),\n",
    "                  ((2011,6,30,2012,6,30), 366),\n",
    "                  ((2011,1,1,2012,8,8), 585 ),\n",
    "                  ((1900,1,1,1999,12,31), 36523)]\n",
    "    \n",
    "    for (args, answer) in test_cases:\n",
    "        result = daysBetweenDates(*args)\n",
    "        if result != answer:\n",
    "            print(\"Test with data:\", args, \"failed\")\n",
    "        else:\n",
    "            print(\"Test case passed!\")\n",
    "\n",
    "test()"
   ]
  },
  {
   "cell_type": "code",
   "execution_count": null,
   "metadata": {},
   "outputs": [],
   "source": []
  }
 ],
 "metadata": {
  "kernelspec": {
   "display_name": "Python 3",
   "language": "python",
   "name": "python3"
  },
  "language_info": {
   "codemirror_mode": {
    "name": "ipython",
    "version": 3
   },
   "file_extension": ".py",
   "mimetype": "text/x-python",
   "name": "python",
   "nbconvert_exporter": "python",
   "pygments_lexer": "ipython3",
   "version": "3.9.4"
  }
 },
 "nbformat": 4,
 "nbformat_minor": 4
}
